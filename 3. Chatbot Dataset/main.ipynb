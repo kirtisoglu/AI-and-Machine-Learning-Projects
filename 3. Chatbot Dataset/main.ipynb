{
 "cells": [
  {
   "cell_type": "markdown",
   "metadata": {},
   "source": [
    "<body>\n",
    "    <div class=\"alert alert-block alert-success\">\n",
    "    <font face = \"courier\" size = \"+4\"> <b>University Chatbot</b></font>\n",
    "    <p><font face = \"courier\" size = \"+1\">\n",
    "        Author: Alaittin Kirtisoglu\n",
    "        </font>\n",
    "    </p>\n",
    "    <p><font face = \"courier\" size = \"+1\">\n",
    "        Date: Dec 8, 2024\n",
    "        </font>\n",
    "    </p>\n",
    "    <p></p>\n",
    "    <hr />\n",
    "    <a id = '0'></a><font face = \"courier\" size = \"+2\">Table of Contents</font>\n",
    "    <ol>\n",
    "      <li><a href=\"#1\">Introduction</a></li>\n",
    "      <ul>\n",
    "        <li><a href=\"#1.1\">Problem Statement</a></li>\n",
    "        <li><a href=\"#1.2\">Data Description</a></li>\n",
    "      </ul>\n",
    "      <li><a href=\"#2\">Basic Exploration</a></li>\n",
    "      <ul>\n",
    "        <li><a href=\"#2.1\">Importing Libaries</a></li>\n",
    "        <li><a href=\"#2.2\">Dataset</a></li>\n",
    "      </ul>\n",
    "      <li><a href=\"#3\">Data Preprocessing</a></li>\n",
    "      <li><a href=\"#4\">Training</a></li>\n",
    "      <ul>\n",
    "        <li><a href=\"#4.1\">Logistic Regression</a></li>\n",
    "        <li><a href=\"#4.2\">K-nearest Neighbors</a></li>\n",
    "        <li><a href=\"#4.3\">Gaussian Model</a></li>\n",
    "        <li><a href=\"#4.4\">Decision Tree</a></li>\n",
    "        <li><a href=\"#4.5\">Random Forest</a></li>\n",
    "        <li><a href=\"#4.6\">XGBoost</a></li>\n",
    "        <li><a href=\"#4.7\">Neural Network</a></li>\n",
    "        <li><a href=\"#4.8\">Support Vector Classifier</a></li>\n",
    "        <li><a href=\"#4.9\">AdaBoost</a></li>\n",
    "        <li><a href=\"#4.10\">Gradient Boosting</a></li>\n",
    "      </ul>\n",
    "      <li><a href=\"#5\">Conclusion</a></li>\n",
    "      <li><a href=\"#6\">Author Message</a></li>\n",
    "    </ol>\n",
    "    </div>\n",
    "</body>"
   ]
  },
  {
   "cell_type": "markdown",
   "metadata": {},
   "source": [
    "<div class=\"alert alert-block alert-info\">\n",
    "   <a id='1'></a><font face = \"courier\" size = \"+3\"> 1|Introduction</font>\n",
    "</div>"
   ]
  },
  {
   "cell_type": "markdown",
   "metadata": {},
   "source": [
    "1. tokenize\n",
    "2. similarity metric\n",
    "3. split train and Text\n",
    "4. neural network will train according to the metric\n",
    "- static or dynamic\n",
    "- size of data (then number of layers should not be more than 10.)"
   ]
  },
  {
   "cell_type": "code",
   "execution_count": null,
   "metadata": {},
   "outputs": [],
   "source": []
  },
  {
   "cell_type": "markdown",
   "metadata": {},
   "source": [
    "> <a id='1.1'></a><font face = \"courier\" size = \"+2\" color = \"black\"> 1.1|Problem Statement</font>"
   ]
  },
  {
   "cell_type": "markdown",
   "metadata": {},
   "source": [
    "1. Provide accurate predictions of whether an individual has diabetes.\n",
    "2. What risk factors are most predictive of diabetes risk?\n",
    "3. Can we use a subset of the risk factors to accurately predict whether an individual has diabetes?\n",
    "4. Can we create a short form of questions from the BRFSS using feature selection to accurately predict if someone might have diabetes or is at high risk of diabetes?"
   ]
  },
  {
   "cell_type": "markdown",
   "metadata": {},
   "source": [
    "> <a id='1.2'></a><font face = \"courier\" size = \"+2\" color = \"black\"> 1.2|Data Description</font>"
   ]
  },
  {
   "cell_type": "markdown",
   "metadata": {},
   "source": [
    "The Behavioral Risk Factor Surveillance System (BRFSS) is a health-related telephone survey that is collected annually by the CDC. \n",
    "Each year, the survey collects responses from over 400,000 Americans on health-related risk behaviors, chronic health conditions, \n",
    "and the use of preventative services. We use datasets available on [Kaggle](https://www.kaggle.com/datasets/alexteboul/diabetes-health-indicators-dataset/data)\n",
    "for year 2015. This original dataset contains responses from 441,455 individuals and has 330 features. These features are either \n",
    "questions directly asked of participants, or calculated variables based on individual participant responses.\n",
    "\n",
    "This dataset contains 3 files:\n",
    "\n",
    "<p style=\"border: 2px solid Maroon;\">1. df1.csv</p>\n",
    "\n",
    "Clean dataset of 253,680 survey responses to the CDC's BRFSS2015. The target variable is Diabetes_012 has 3 classes. \n",
    "0 is for no diabetes or only during pregnancy, 1 is for prediabetes, and 2 is for diabetes. There is class imbalance \n",
    "in this dataset. This dataset has 21 feature variables.\n",
    "\n",
    "<p style=\"border: 2px solid Maroon;\">1. df2.csv</p>\n",
    "\n",
    "Clean dataset of 70,692 survey responses to the CDC's BRFSS2015. It has an equal 50-50 split of respondents with no \n",
    "diabetes and with either prediabetes or diabetes. The target variable Diabetes_binary has 2 classes. 0 is for no \n",
    "diabetes, and 1 is for prediabetes or diabetes. This dataset has 21 feature variables and is balanced.\n",
    "\n",
    "<p style=\"border: 2px solid Maroon;\">1. df3.csv</p>\n",
    "\n",
    "Clean dataset of 253,680 survey responses to the CDC's BRFSS2015. The target variable Diabetes_binary has 2 classes. \n",
    "0 is for no diabetes, and 1 is for prediabetes or diabetes. This dataset has 21 feature variables and is not balanced."
   ]
  },
  {
   "cell_type": "markdown",
   "metadata": {},
   "source": [
    "<style>\n",
    "    table,\n",
    "    th,\n",
    "    td {\n",
    "        border: 1px black;\n",
    "        border-collapse: collapse;\n",
    "    }\n",
    "    th,\n",
    "    td {\n",
    "        padding: 5px;\n",
    "    }\n",
    "\n",
    "    th {text-align: left}\n",
    "    tr:nth-child(even) {background-color: black; color: white}\n",
    "    tr:nth-child(odd) {background-color: white; color: black}\n",
    "    tr:first-child {background-color: green;}\n",
    "</style>\n",
    "\n",
    "<body>\n",
    "<table>\n",
    "    <tr>\n",
    "        <th>Firstname</th>\n",
    "        <th>Lastname</th>\n",
    "        <th>Age</th>\n",
    "    </tr>\n",
    "    <tr>\n",
    "        <td>Priya</td>\n",
    "        <td>Sharma</td>\n",
    "        <td>24</td>\n",
    "    </tr>\n",
    "    <tr>\n",
    "        <td>Arun</td>\n",
    "        <td>Singh</td>\n",
    "        <td>32</td>\n",
    "    </tr>\n",
    "    <tr>\n",
    "        <td>Sam</td>\n",
    "        <td>Watson</td>\n",
    "        <td>41</td>\n",
    "    </tr>\n",
    "</table>\n",
    "</body>"
   ]
  },
  {
   "cell_type": "markdown",
   "metadata": {},
   "source": [
    "<div class=\"alert alert-block alert-info\">\n",
    "   <a id='2'></a><font face = \"courier\" size = \"+3\"> 2|Basic Exploration</font>\n",
    "</div>"
   ]
  },
  {
   "cell_type": "markdown",
   "metadata": {},
   "source": [
    "> <a id='2.1'></a><font face = \"courier\" size = \"+2\" color = \"black\"> 2.1|Importing Libraries</font>"
   ]
  },
  {
   "cell_type": "code",
   "execution_count": null,
   "metadata": {},
   "outputs": [],
   "source": [
    "import pandas as pd\n",
    "import json\n",
    "\n",
    "import nltk"
   ]
  },
  {
   "cell_type": "markdown",
   "metadata": {},
   "source": [
    "> <a id='2.2'></a><font face = \"courier\" size = \"+2\" color = \"black\"> 2.2|Dataset</font>"
   ]
  },
  {
   "cell_type": "code",
   "execution_count": 15,
   "metadata": {},
   "outputs": [
    {
     "data": {
      "text/plain": [
       "dict_keys(['intents'])"
      ]
     },
     "execution_count": 15,
     "metadata": {},
     "output_type": "execute_result"
    }
   ],
   "source": [
    "filename = '/Users/kirtisoglu/Documents/GitHub/Project-Ideas/3. Chatbot Dataset/intents.json'\n",
    "\n",
    "with open(filename) as f:\n",
    "    data = json.load(f)\n",
    "    \n",
    "data.keys()"
   ]
  },
  {
   "cell_type": "code",
   "execution_count": 19,
   "metadata": {},
   "outputs": [
    {
     "data": {
      "text/plain": [
       "{'tag': 'greeting',\n",
       " 'patterns': ['Hi',\n",
       "  'How are you?',\n",
       "  'Is anyone there?',\n",
       "  'Hello',\n",
       "  'Good day',\n",
       "  \"What's up\",\n",
       "  'how are ya',\n",
       "  'heyy',\n",
       "  'whatsup',\n",
       "  '??? ??? ??'],\n",
       " 'responses': ['Hello!',\n",
       "  'Good to see you again!',\n",
       "  'Hi there, how can I help?'],\n",
       " 'context_set': ''}"
      ]
     },
     "execution_count": 19,
     "metadata": {},
     "output_type": "execute_result"
    }
   ],
   "source": [
    "data['intents'][0]"
   ]
  },
  {
   "cell_type": "code",
   "execution_count": null,
   "metadata": {},
   "outputs": [
    {
     "data": {
      "text/html": [
       "<style type=\"text/css\">\n",
       "#T_8e56b th {\n",
       "  color: white;\n",
       "  background-color: #333333;\n",
       "}\n",
       "#T_8e56b_row0_col0, #T_8e56b_row0_col1, #T_8e56b_row1_col0, #T_8e56b_row1_col1, #T_8e56b_row2_col0, #T_8e56b_row2_col1, #T_8e56b_row3_col0, #T_8e56b_row3_col1, #T_8e56b_row4_col0, #T_8e56b_row4_col1 {\n",
       "  background-color: #254E58;\n",
       "  color: #e9c46a;\n",
       "  border: 1.5px solid black;\n",
       "}\n",
       "</style>\n",
       "<table id=\"T_8e56b\">\n",
       "  <thead>\n",
       "    <tr>\n",
       "      <th class=\"blank level0\" >&nbsp;</th>\n",
       "      <th id=\"T_8e56b_level0_col0\" class=\"col_heading level0 col0\" >Pattern</th>\n",
       "      <th id=\"T_8e56b_level0_col1\" class=\"col_heading level0 col1\" >Tag</th>\n",
       "    </tr>\n",
       "  </thead>\n",
       "  <tbody>\n",
       "    <tr>\n",
       "      <th id=\"T_8e56b_level0_row0\" class=\"row_heading level0 row0\" >0</th>\n",
       "      <td id=\"T_8e56b_row0_col0\" class=\"data row0 col0\" >Hi</td>\n",
       "      <td id=\"T_8e56b_row0_col1\" class=\"data row0 col1\" >greeting</td>\n",
       "    </tr>\n",
       "    <tr>\n",
       "      <th id=\"T_8e56b_level0_row1\" class=\"row_heading level0 row1\" >1</th>\n",
       "      <td id=\"T_8e56b_row1_col0\" class=\"data row1 col0\" >How are you?</td>\n",
       "      <td id=\"T_8e56b_row1_col1\" class=\"data row1 col1\" >greeting</td>\n",
       "    </tr>\n",
       "    <tr>\n",
       "      <th id=\"T_8e56b_level0_row2\" class=\"row_heading level0 row2\" >2</th>\n",
       "      <td id=\"T_8e56b_row2_col0\" class=\"data row2 col0\" >Is anyone there?</td>\n",
       "      <td id=\"T_8e56b_row2_col1\" class=\"data row2 col1\" >greeting</td>\n",
       "    </tr>\n",
       "    <tr>\n",
       "      <th id=\"T_8e56b_level0_row3\" class=\"row_heading level0 row3\" >3</th>\n",
       "      <td id=\"T_8e56b_row3_col0\" class=\"data row3 col0\" >Hello</td>\n",
       "      <td id=\"T_8e56b_row3_col1\" class=\"data row3 col1\" >greeting</td>\n",
       "    </tr>\n",
       "    <tr>\n",
       "      <th id=\"T_8e56b_level0_row4\" class=\"row_heading level0 row4\" >4</th>\n",
       "      <td id=\"T_8e56b_row4_col0\" class=\"data row4 col0\" >Good day</td>\n",
       "      <td id=\"T_8e56b_row4_col1\" class=\"data row4 col1\" >greeting</td>\n",
       "    </tr>\n",
       "  </tbody>\n",
       "</table>\n"
      ],
      "text/plain": [
       "<pandas.io.formats.style.Styler at 0x306260c20>"
      ]
     },
     "execution_count": 30,
     "metadata": {},
     "output_type": "execute_result"
    }
   ],
   "source": [
    "# Convert data into dataframe\n",
    "\n",
    "df = pd.DataFrame({'Pattern' : [], 'Tag' : []})\n",
    "\n",
    "for intent in data['intents']:\n",
    "    for pattern in intent['patterns']:\n",
    "        sentence_tag = [pattern, intent['tag']]\n",
    "        df.loc[len(df.index)] = sentence_tag\n",
    "\n",
    "# Print data head\n",
    "styled_df = df.head(5).style\n",
    "styled_df.set_properties(**{\"background-color\": \"#254E58\", \"color\": \"#e9c46a\", \"border\": \"1.5px solid black\"})\n",
    "styled_df.set_table_styles([\n",
    "    {\"selector\": \"th\", \"props\": [(\"color\", 'white'), (\"background-color\", \"#333333\")]}\n",
    "])"
   ]
  },
  {
   "cell_type": "code",
   "execution_count": 33,
   "metadata": {},
   "outputs": [
    {
     "name": "stdout",
     "output_type": "stream",
     "text": [
      "<class 'pandas.core.frame.DataFrame'>\n",
      "Int64Index: 405 entries, 0 to 404\n",
      "Data columns (total 2 columns):\n",
      " #   Column   Non-Null Count  Dtype \n",
      "---  ------   --------------  ----- \n",
      " 0   Pattern  405 non-null    object\n",
      " 1   Tag      405 non-null    object\n",
      "dtypes: object(2)\n",
      "memory usage: 9.5+ KB\n"
     ]
    }
   ],
   "source": [
    "df.info()"
   ]
  },
  {
   "cell_type": "code",
   "execution_count": 36,
   "metadata": {},
   "outputs": [
    {
     "name": "stdout",
     "output_type": "stream",
     "text": [
      "There are 38 tag classes, which are:\n"
     ]
    },
    {
     "data": {
      "text/plain": [
       "array(['greeting', 'goodbye', 'creator', 'name', 'hours', 'number',\n",
       "       'course', 'fees', 'location', 'hostel', 'event', 'document',\n",
       "       'floors', 'syllabus', 'library', 'infrastructure', 'canteen',\n",
       "       'menu', 'placement', 'ithod', 'computerhod', 'extchod',\n",
       "       'principal', 'sem', 'admission', 'scholarship', 'facilities',\n",
       "       'college intake', 'uniform', 'committee', 'random', 'swear',\n",
       "       'vacation', 'sports', 'salutaion', 'task', 'ragging', 'hod'],\n",
       "      dtype=object)"
      ]
     },
     "execution_count": 36,
     "metadata": {},
     "output_type": "execute_result"
    }
   ],
   "source": [
    "# print tag classes\n",
    "print(f\"There are {len(df['Tag'].unique())} tag classes, which are:\")\n",
    "df['Tag'].unique()"
   ]
  },
  {
   "cell_type": "code",
   "execution_count": null,
   "metadata": {},
   "outputs": [],
   "source": [
    "# Visualize distribution of tag classes\n",
    "\n",
    "def count_plot(x, df, title, xlabel, ylabel, width, height, order = None, rotation=False, palette='winter', hue=None):\n",
    "    ncount = len(df)\n",
    "    plt.figure(figsize=(width,height))\n",
    "    ax = sns.countplot(x = x, palette=palette, order = order, hue=hue)\n",
    "    plt.title(title, fontsize=20)\n",
    "    if rotation:\n",
    "        plt.xticks(rotation = 'vertical')\n",
    "    plt.xlabel(xlabel, fontsize=25)\n",
    "    plt.ylabel(ylabel, fontsize=25)\n",
    "\n",
    "    ax.yaxis.set_label_position('left')\n",
    "    for p in ax.patches:\n",
    "        x=p.get_bbox().get_points()[:,0]\n",
    "        y=p.get_bbox().get_points()[1,1]\n",
    "        ax.annotate('{:.1f}%'.format(100.*y/ncount), (x.mean(), y), \n",
    "                ha='center', va='bottom') # set the alignment of the text\n",
    "\n",
    "    plt.show()\n",
    "    \n",
    "sns.set(font_scale = 1.2)\n",
    "order = df['Tag'].value_counts().index\n",
    "count_plot(df['Tag'], df, \"Chatbot Tags distrbution\", \"Tags\", \"Frequency\", 20,10, order=order,rotation=True, palette=\"summer\")"
   ]
  },
  {
   "cell_type": "markdown",
   "metadata": {},
   "source": [
    "<div class=\"alert alert-block alert-info\">\n",
    "   <a id='3'></a><font face = \"courier\" size = \"+3\"> 3|Data Preprocessing</font>\n",
    "</div>"
   ]
  },
  {
   "cell_type": "markdown",
   "metadata": {},
   "source": [
    "> ### Tokenization"
   ]
  },
  {
   "cell_type": "code",
   "execution_count": null,
   "metadata": {},
   "outputs": [],
   "source": [
    "words=[]\n",
    "classes = []\n",
    "documents = []\n",
    "ignore_words=['?', '!', ',', '.']"
   ]
  },
  {
   "cell_type": "markdown",
   "metadata": {},
   "source": [
    "When working with text data, we need to perform various preprocessing on the data before we make a machine learning or a deep learning model. Based on the requirements we need to apply various operations to preprocess the data.\n",
    "\n",
    "Tokenizing is the most basic and first thing you can do on text data.\n",
    "Tokenizing is the process of breaking the whole text into small parts like words.\n",
    "Here we iterate through the patterns and tokenize the sentence using nltk.word_tokenize() function and append each word in the words list. We also create a list of classes for our tags.\n"
   ]
  },
  {
   "cell_type": "code",
   "execution_count": null,
   "metadata": {},
   "outputs": [],
   "source": [
    "for intent in intents['intents']:\n",
    "    for pattern in intent['patterns']:\n",
    "        #tokenize each word\n",
    "        w = nltk.word_tokenize(pattern)\n",
    "        words.extend(w)# add each elements into list\n",
    "        #combination between patterns and intents\n",
    "        documents.append((w, intent['tag']))#add single element into end of list\n",
    "        # add to tag in our classes list\n",
    "        if intent['tag'] not in classes:\n",
    "            classes.append(intent['tag'])\n",
    "            \n",
    "df['Pattern'] = nltk.word_tokenize(df['Pattern'])"
   ]
  },
  {
   "cell_type": "markdown",
   "metadata": {},
   "source": [
    "Now we will lemmatize each word and remove duplicate words from the list.\n",
    "\n",
    "Lemmatizing is the process of converting a word into its lemma form and then creating a pickle file to store the Python objects which we will use while predicting."
   ]
  },
  {
   "cell_type": "code",
   "execution_count": null,
   "metadata": {},
   "outputs": [],
   "source": [
    "This notebook is pre trained model for creating chatbot with good accuracy for this dataset. However, Accuracy range will be different.\n",
    "\n",
    "You can add dataset with .csv file. But, you need to transfer your data json file into csv file format using python script. I tried it but don't seem to have converted successfully.\n",
    "\n",
    "Import and load the data file\n",
    "We import the necessary packages for our chatbot and initialize the variables we will use in our Python project. The data file is in JSON format so we used the json package to parse the JSON file into Python.\n",
    "\n",
    "import nltk\n",
    "nltk.download('punkt')#Sentence tokenizer\n",
    "[nltk_data] Downloading package punkt to /usr/share/nltk_data...\n",
    "[nltk_data]   Package punkt is already up-to-date!\n",
    "True\n",
    "import nltk\n",
    "from nltk.stem import WordNetLemmatizer\n",
    "lemmatizer = WordNetLemmatizer()\n",
    "import json\n",
    "import pickle\n",
    "import warnings\n",
    "warnings.filterwarnings('ignore')\n",
    "import numpy as np\n",
    "import tensorflow as tf\n",
    "from keras.models import Sequential\n",
    "from keras.layers import Dense, Activation, Dropout\n",
    "from tensorflow.keras.optimizers import SGD\n",
    "import random\n",
    "Preprocessing\n",
    "words=[]\n",
    "classes = []\n",
    "documents = []\n",
    "ignore_words = ['?', '!']\n",
    "data_file = open('/kaggle/input/chatbot-dataset/intents.json').read() # read json file\n",
    "intents = json.loads(data_file) # load json file\n",
    "When working with text data, we need to perform various preprocessing on the data before we make a machine learning or a deep learning model. Based on the requirements we need to apply various operations to preprocess the data.\n",
    "\n",
    "Tokenizing is the most basic and first thing you can do on text data.\n",
    "Tokenizing is the process of breaking the whole text into small parts like words.\n",
    "Here we iterate through the patterns and tokenize the sentence using nltk.word_tokenize() function and append each word in the words list. We also create a list of classes for our tags.\n",
    "for intent in intents['intents']:\n",
    "    for pattern in intent['patterns']:\n",
    "        #tokenize each word\n",
    "        w = nltk.word_tokenize(pattern)\n",
    "        words.extend(w)# add each elements into list\n",
    "        #combination between patterns and intents\n",
    "        documents.append((w, intent['tag']))#add single element into end of list\n",
    "        # add to tag in our classes list\n",
    "        if intent['tag'] not in classes:\n",
    "            classes.append(intent['tag'])\n",
    "nltk.download('wordnet') #lexical database for the English language\n",
    "[nltk_data] Downloading package wordnet to /usr/share/nltk_data...\n",
    "[nltk_data]   Package wordnet is already up-to-date!\n",
    "True\n",
    "nltk.download('omw-1.4')\n",
    "[nltk_data] Downloading package omw-1.4 to /usr/share/nltk_data...\n",
    "True\n",
    "Now we will lemmatize each word and remove duplicate words from the list.\n",
    "\n",
    "Lemmatizing is the process of converting a word into its lemma form and then creating a pickle file to store the Python objects which we will use while predicting.\n",
    "# lemmatize, lower each word and remove duplicates\n",
    "words = [lemmatizer.lemmatize(w.lower()) for w in words if w not in ignore_words]\n",
    "words = sorted(list(set(words)))\n",
    "# sort classes\n",
    "classes = sorted(list(set(classes)))\n",
    "# documents = combination between patterns and intents\n",
    "print (len(documents), \"documents\\n\", documents, \"\\n\")\n",
    "# classes = intents[tag]\n",
    "print (len(classes), \"classes\\n\", classes, \"\\n\")\n",
    "# words = all words, vocabulary\n",
    "print (len(words), \"unique lemmatized words\\n\", words, \"\\n\")\n",
    "pickle.dump(words,open('words.pkl','wb'))\n",
    "pickle.dump(classes,open('classes.pkl','wb'))"
   ]
  },
  {
   "cell_type": "markdown",
   "metadata": {},
   "source": [
    "<div class=\"alert alert-block alert-info\">\n",
    "   <a id='4'></a><font face = \"courier\" size = \"+3\"> 4|Training</font>\n",
    "</div>"
   ]
  },
  {
   "cell_type": "markdown",
   "metadata": {},
   "source": [
    "> <a id='4.1'></a><font face = \"courier\" size = \"+2\" color = \"black\"> 4.1|Splitting data for training</font>"
   ]
  },
  {
   "cell_type": "code",
   "execution_count": null,
   "metadata": {},
   "outputs": [],
   "source": [
    "# create our training data\n",
    "training = []\n",
    "# create an empty array for our output\n",
    "output_empty = [0] * len(classes)\n",
    "# training set, bag of words for each sentence\n",
    "for doc in documents:\n",
    "    # initialize our bag of words\n",
    "    bag = []\n",
    "    # list of tokenized words\n",
    "    pattern_words = doc[0]\n",
    "    # convert pattern_words in lower case\n",
    "    pattern_words = [lemmatizer.lemmatize(word.lower()) for word in pattern_words]\n",
    "    # create bag of words array,if word match found in current pattern then put 1 otherwise 0.[row * colm(263)]\n",
    "    for w in words:\n",
    "        bag.append(1) if w in pattern_words else bag.append(0)\n",
    "    \n",
    "    # in output array 0 value for each tag ang 1 value for matched tag.[row * colm(8)]\n",
    "    output_row = list(output_empty)\n",
    "    output_row[classes.index(doc[1])] = 1\n",
    "    \n",
    "    training.append([bag, output_row])\n",
    "# shuffle training and turn into np.array\n",
    "random.shuffle(training)\n",
    "training = np.array(training)\n",
    "# create train and test. X - patterns(words), Y - intents(tags)\n",
    "train_x = list(training[:,0])\n",
    "train_y = list(training[:,1])"
   ]
  },
  {
   "cell_type": "code",
   "execution_count": null,
   "metadata": {},
   "outputs": [],
   "source": [
    "from tensorflow.python.framework import ops\n",
    "ops.reset_default_graph()"
   ]
  },
  {
   "cell_type": "markdown",
   "metadata": {},
   "source": [
    "<div style=\"border: 2px solid Maroon;\">\n",
    "    <p>Evaluate: Logistic Regression Model</p>\n",
    "    <p>Training Accuracy - 77.54%</p>\n",
    "    <p>Validation Accuracy - 77.68%</p>\n",
    "</div>"
   ]
  },
  {
   "cell_type": "markdown",
   "metadata": {},
   "source": [
    "> <a id='4.2'></a><font face = \"courier\" size = \"+2\" color = \"black\"> 4.2|K-nearest Neighbors</font>"
   ]
  },
  {
   "cell_type": "markdown",
   "metadata": {},
   "source": [
    "We have our training data ready, now we will build a deep neural network that has 3 layers. We use the Keras sequential API for this. After training the model for 200 epochs, we achieved 100% accuracy on our model. Let us save the model as ‘chatbot_model.h5'."
   ]
  },
  {
   "cell_type": "code",
   "execution_count": null,
   "metadata": {},
   "outputs": [],
   "source": [
    "# Create model - 3 layers. First layer 128 neurons, second layer 64 neurons and 3rd output layer contains number of neurons\n",
    "# equal to number of intents to predict output intent with softmax\n",
    "model = Sequential()\n",
    "model.add(Dense(128, input_shape=(len(train_x[0]),), activation='relu'))\n",
    "model.add(Dropout(0.5))\n",
    "model.add(Dense(64, activation='relu'))\n",
    "model.add(Dropout(0.5))\n",
    "model.add(Dense(len(train_y[0]), activation='softmax'))\n",
    "print(\"First layer:\",model.layers[0].get_weights()[0])"
   ]
  },
  {
   "cell_type": "code",
   "execution_count": null,
   "metadata": {},
   "outputs": [],
   "source": [
    "# Compile model. Stochastic gradient descent with Nesterov accelerated gradient gives good results for this model\n",
    "# sgd = SGD(lr=0.01, decay=1e-6, momentum=0.9, nesterov=True)\n",
    "model.compile(loss='categorical_crossentropy', optimizer='adam', metrics=['accuracy'])"
   ]
  },
  {
   "cell_type": "code",
   "execution_count": null,
   "metadata": {},
   "outputs": [],
   "source": [
    "#fitting and saving the model \n",
    "hist = model.fit(np.array(train_x), np.array(train_y), epochs=200, batch_size=5, verbose=1)\n",
    "model.save('chatbot_model.h5', hist)\n",
    "\n",
    "print(\"model created\")"
   ]
  },
  {
   "cell_type": "markdown",
   "metadata": {},
   "source": [
    "<style>\n",
    "    blockquote {\n",
    "        background-color: #006969;\n",
    "        color: #fff;\n",
    "        border: 2px white;\n",
    "        border-radius: 8px;\n",
    "        font-weight: 500;\n",
    "        padding: 8px;\n",
    "    }\n",
    "</style>\n",
    "\n",
    "<body>\n",
    "   <blockquote>\n",
    "   <p>Evaluate: KNeighborsClassifier: Before Tunning</p>\n",
    "   <p>Training Accuracy - 80.0%</p>\n",
    "   <p>Validation Accuracy - 66.00%</p>\n",
    "   </blockquote>\n",
    "</body>"
   ]
  },
  {
   "cell_type": "markdown",
   "metadata": {},
   "source": [
    "## Prediction"
   ]
  },
  {
   "cell_type": "markdown",
   "metadata": {},
   "source": [
    "You have to add or run this below script by loading model\n",
    "For loading saved model\n",
    "// from keras.models import load_model\n",
    "\n",
    "model = load_model('chatbot_model.h5') //\n",
    "\n",
    "Predict the response\n",
    "To predict the sentences and get a response from the user to let us create a new file ‘chatapp.py’.\n",
    "\n",
    "We will load the trained model and then use a graphical user interface that will predict the response from the bot. The model will only tell us the class it belongs to, so we will implement some functions which will identify the class and then retrieve us a random response from the list of responses.\n",
    "Again we import the necessary packages and load the ‘words.pkl’ and ‘classes.pkl’ pickle files which we have created when we trained our model.\n",
    "//---\n",
    "\n",
    "intents = json.loads(open('/kaggle/input/chatbot-dataset/intents.json').read())\n",
    "\n",
    "words = pickle.load(open('words.pkl','rb'))\n",
    "\n",
    "classes = pickle.load(open('classes.pkl','rb'))\n",
    "\n",
    "//---\n",
    "\n",
    "To predict the class, we will need to provide input in the same way as we did while training. So we will create some functions that will perform text preprocessing and then predict the class\n",
    "\n",
    "//----"
   ]
  },
  {
   "cell_type": "code",
   "execution_count": null,
   "metadata": {},
   "outputs": [],
   "source": [
    "#fitting and saving the model \n",
    "hist = model.fit(np.array(train_x), np.array(train_y), epochs=200, batch_size=5, verbose=1)\n",
    "model.save('chatbot_model.h5', hist)\n",
    "\n",
    "print(\"model created\")"
   ]
  },
  {
   "cell_type": "markdown",
   "metadata": {},
   "source": [
    "## Utility Methods"
   ]
  },
  {
   "cell_type": "code",
   "execution_count": null,
   "metadata": {},
   "outputs": [],
   "source": [
    "#def clean_up_sentence(sentence):\n",
    "\n",
    "# tokenize the pattern - split words into array\n",
    "\n",
    "sentence_words = nltk.word_tokenize(sentence)\n",
    "#print(sentence_words)\n",
    "# stem each word - create short form for word\n",
    "\n",
    "sentence_words = [lemmatizer.lemmatize(word.lower()) for word in sentence_words]\n",
    "#print(sentence_words)\n",
    "\n",
    "return sentence_words"
   ]
  },
  {
   "cell_type": "markdown",
   "metadata": {},
   "source": [
    "return bag of words array: 0 or 1 for each word in the bag that exists in the sentence\n",
    "\n",
    "def bow(sentence, words, show_details=True):"
   ]
  },
  {
   "cell_type": "code",
   "execution_count": null,
   "metadata": {},
   "outputs": [],
   "source": [
    "# tokenize the pattern\n",
    "\n",
    "sentence_words = clean_up_sentence(sentence)\n",
    "#print(sentence_words)\n",
    "\n",
    "# bag of words - matrix of N words, vocabulary matrix\n",
    "\n",
    "bag = [0]*len(words) \n",
    "#print(bag)\n",
    "\n",
    "for s in sentence_words:  \n",
    "    for i,w in enumerate(words):\n",
    "        if w == s: \n",
    "            # assign 1 if current word is in the vocabulary position\n",
    "            bag[i] = 1\n",
    "            if show_details:\n",
    "                print (\"found in bag: %s\" % w)\n",
    "            #print (\"found in bag: %s\" % w)\n",
    "#print(bag)\n",
    "return(np.array(bag))"
   ]
  },
  {
   "cell_type": "code",
   "execution_count": null,
   "metadata": {},
   "outputs": [],
   "source": [
    "# def predict_class(sentence, model):\n",
    "\n",
    "# filter out predictions below a threshold\n",
    "\n",
    "p = bow(sentence, words,show_details=False)\n",
    "#print(p)\n",
    "\n",
    "res = model.predict(np.array([p]))[0]\n",
    "#print(res)\n",
    "\n",
    "ERROR_THRESHOLD = 0.25\n",
    "\n",
    "results = [[i,r] for i,r in enumerate(res) if r>ERROR_THRESHOLD]\n",
    "#print(results)\n",
    "# sort by strength of probability\n",
    "\n",
    "results.sort(key=lambda x: x[1], reverse=True)\n",
    "#print(results)\n",
    "\n",
    "return_list = []\n",
    "\n",
    "for r in results:\n",
    "    return_list.append({\"intent\": classes[r[0]], \"probability\": str(r[1])})\n",
    "\n",
    "return return_list\n",
    "#print(return_list)"
   ]
  },
  {
   "cell_type": "markdown",
   "metadata": {},
   "source": [
    "/----\n",
    "\n",
    "After predicting the class, we will get a random response from the list of intents:\n",
    "\n",
    "//----\n",
    "\n",
    "def getResponse(ints, intents_json):"
   ]
  },
  {
   "cell_type": "code",
   "execution_count": null,
   "metadata": {},
   "outputs": [],
   "source": [
    "tag = ints[0]['intent']\n",
    "#print(tag)\n",
    "\n",
    "list_of_intents = intents_json['intents']\n",
    "#print(list_of_intents)\n",
    "\n",
    "for i in list_of_intents:\n",
    "    if(i['tag']== tag):\n",
    "        result = random.choice(i['responses'])\n",
    "        break\n",
    "return result"
   ]
  },
  {
   "cell_type": "markdown",
   "metadata": {},
   "source": [
    "def chatbot_response(text): ints = predict_class(text, model)"
   ]
  },
  {
   "cell_type": "code",
   "execution_count": null,
   "metadata": {},
   "outputs": [],
   "source": [
    "#print(ints)\n",
    "\n",
    "res = getResponse(ints, intents)\n",
    "#print(res)\n",
    "return res"
   ]
  },
  {
   "cell_type": "markdown",
   "metadata": {},
   "source": [
    "//---\n",
    "Enter you queries\n",
    "//----\n",
    "start = True\n",
    "\n",
    "while start:"
   ]
  },
  {
   "cell_type": "code",
   "execution_count": null,
   "metadata": {},
   "outputs": [],
   "source": [
    "query = input('Enter Message:')\n",
    "if query in ['quit','exit','bye']:\n",
    "    start = False\n",
    "    continue\n",
    "try:\n",
    "    res = chatbot_response(query)\n",
    "    print(res)\n",
    "except:\n",
    "    print('You may need to rephrase your question.')"
   ]
  },
  {
   "cell_type": "markdown",
   "metadata": {},
   "source": [
    "<div class=\"alert alert-block alert-info\">\n",
    "   <a id='5'></a><font face = \"courier\" size = \"+3\"> 5|Conclusion</font>\n",
    "</div>"
   ]
  },
  {
   "cell_type": "markdown",
   "metadata": {},
   "source": [
    "> ### Best Result"
   ]
  },
  {
   "cell_type": "markdown",
   "metadata": {},
   "source": [
    "\n",
    "<style>\n",
    "    blockquote {\n",
    "        background-color: #006969;\n",
    "        color: #fff;\n",
    "        border: 2px white;\n",
    "        border-radius: 8px;\n",
    "        font-weight: 500;\n",
    "        padding: 8px;\n",
    "    }\n",
    "</style>\n",
    "<body>\n",
    "   <blockquote>\n",
    "   <p>Evaluate: andom Forest Model After Hyperparameter Tunning\n",
    "\n",
    "</p>\n",
    "   <p>Training Accuracy - 89.2%</p>\n",
    "   <p>Validation Accuracy - 87.6%</p>\n",
    "   </blockquote>\n",
    "</body>"
   ]
  },
  {
   "cell_type": "markdown",
   "metadata": {},
   "source": [
    "> ### Future Work"
   ]
  },
  {
   "cell_type": "markdown",
   "metadata": {},
   "source": [
    "<style>\n",
    "    blockquote {\n",
    "        background-color: #006969;\n",
    "        color: #fff;\n",
    "        border: 2px white;\n",
    "        border-radius: 8px;\n",
    "        font-weight: 500;\n",
    "        padding: 8px;\n",
    "    }\n",
    "</style>\n",
    "<body>\n",
    "   <blockquote>\n",
    "   <p>Betterment of results using different hyperparameters for tuning\n",
    "\n",
    "</p>\n",
    "   <p>Implementing more models to gain better results</p>\n",
    "   <p>Using the same method to predict response</p>\n",
    "   </blockquote>\n",
    "</body>"
   ]
  },
  {
   "cell_type": "markdown",
   "metadata": {},
   "source": [
    "<div class=\"alert alert-block alert-info\">\n",
    "   <a id='6'></a><font face = \"courier\" size = \"+3\"> 6|Author Message</font>\n",
    "</div>"
   ]
  },
  {
   "cell_type": "markdown",
   "metadata": {},
   "source": [
    "Author : Alaittin Kirtisoglu\n",
    "\n",
    "\n",
    "👉Read more project : \n",
    "\n",
    "👉Shoot me emails : akirtisoglu@hawk.iit.edu\n",
    "\n",
    "👉Connect on LinkedIn : https://www.linkedin.com/in/alaittin-kirtisoglu/\n",
    "\n",
    "👉Explore Github : https://github.com/kirtisoglu\n",
    "\n",
    "If you have any questions, feel free to comment!\n",
    "\n",
    "\n",
    "✨Best Wishes✨"
   ]
  }
 ],
 "metadata": {
  "kernelspec": {
   "display_name": "Python 3",
   "language": "python",
   "name": "python3"
  },
  "language_info": {
   "codemirror_mode": {
    "name": "ipython",
    "version": 3
   },
   "file_extension": ".py",
   "mimetype": "text/x-python",
   "name": "python",
   "nbconvert_exporter": "python",
   "pygments_lexer": "ipython3",
   "version": "3.12.2"
  }
 },
 "nbformat": 4,
 "nbformat_minor": 2
}
