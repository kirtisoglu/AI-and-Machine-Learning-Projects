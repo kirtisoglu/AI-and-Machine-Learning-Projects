{
 "cells": [
  {
   "cell_type": "markdown",
   "metadata": {},
   "source": [
    "    --- Diabetes Datasets Analysis ---\n",
    "\n",
    "    This project analyze diabetes datasets using machine learning algorithms.\n",
    "\n",
    "    Author: Alaittin Kirtisoglu\n",
    "    Date: Nov 18, 2024"
   ]
  },
  {
   "cell_type": "markdown",
   "metadata": {},
   "source": [
    "**Table of Contents**<a id='toc0_'></a>    \n",
    "- [Introduction](#toc1_)    \n",
    "  - [Problem Statement](#toc1_1_)    \n",
    "  - [Data Description](#toc1_2_)    \n",
    "- [Basic Exploration](#toc2_)    \n",
    "  - [Importing Libaries](#toc2_1_)    \n",
    "  - [Datasets](#toc2_2_)    \n",
    "- [Data Preprocessing](#toc3_)    \n",
    "- [Machine Learning Models](#toc4_)    \n",
    "  - [Logistic Regression](#toc4_1_)    \n",
    "  - [K-nearest Neighbors](#toc4_2_)    \n",
    "  - [Gaussian Model](#toc4_3_)    \n",
    "  - [Decision Tree](#toc4_4_)    \n",
    "  - [Random Forest](#toc4_5_)    \n",
    "  - [XGBoost](#toc4_6_)    \n",
    "  - [Neural Network](#toc4_7_)    \n",
    "- [Conclusion](#toc5_)    \n",
    "- [Author Message](#toc6_)    \n",
    "\n",
    "<!-- vscode-jupyter-toc-config\n",
    "\tnumbering=false\n",
    "\tanchor=true\n",
    "\tflat=false\n",
    "\tminLevel=1\n",
    "\tmaxLevel=6\n",
    "\t/vscode-jupyter-toc-config -->\n",
    "<!-- THIS CELL WILL BE REPLACED ON TOC UPDATE. DO NOT WRITE YOUR TEXT IN THIS CELL -->"
   ]
  },
  {
   "cell_type": "markdown",
   "metadata": {},
   "source": [
    "# <a id='toc1_'></a>[Introduction](#toc0_)"
   ]
  },
  {
   "cell_type": "markdown",
   "metadata": {},
   "source": [
    "## <a id='toc1_1_'></a>[Problem Statement](#toc0_)"
   ]
  },
  {
   "cell_type": "markdown",
   "metadata": {},
   "source": [
    "### Questions\n",
    "\n",
    "1. Provide accurate predictions of whether an individual has diabetes.\n",
    "2. What risk factors are most predictive of diabetes risk?\n",
    "3. Can we use a subset of the risk factors to accurately predict whether an individual has diabetes?\n",
    "4. Can we create a short form of questions from the BRFSS using feature selection to accurately predict if someone might have diabetes or is at high risk of diabetes?"
   ]
  },
  {
   "cell_type": "markdown",
   "metadata": {},
   "source": [
    "## <a id='toc1_2_'></a>[Data Description](#toc0_)"
   ]
  },
  {
   "cell_type": "markdown",
   "metadata": {},
   "source": [
    "The Behavioral Risk Factor Surveillance System (BRFSS) is a health-related telephone survey that is collected annually by the CDC. \n",
    "Each year, the survey collects responses from over 400,000 Americans on health-related risk behaviors, chronic health conditions, \n",
    "and the use of preventative services. We use a csv of the dataset available on [Kaggle](https://www.kaggle.com/datasets/alexteboul/diabetes-health-indicators-dataset/data)\n",
    "for year 2015. This original dataset contains responses from 441,455 individuals and has 330 features. These features are either \n",
    "questions directly asked of participants, or calculated variables based on individual participant responses.\n",
    "\n",
    "This dataset contains 3 files:\n",
    "\n",
    "1. df1.csv \n",
    "\n",
    "Clean dataset of 253,680 survey responses to the CDC's BRFSS2015. The target variable is Diabetes_012 has 3 classes. \n",
    "0 is for no diabetes or only during pregnancy, 1 is for prediabetes, and 2 is for diabetes. There is class imbalance \n",
    "in this dataset. This dataset has 21 feature variables\n",
    "\n",
    "2. df2.csv \n",
    "\n",
    "Clean dataset of 70,692 survey responses to the CDC's BRFSS2015. It has an equal 50-50 split of respondents with no \n",
    "diabetes and with either prediabetes or diabetes. The target variable Diabetes_binary has 2 classes. 0 is for no \n",
    "diabetes, and 1 is for prediabetes or diabetes. This dataset has 21 feature variables and is balanced.\n",
    "\n",
    "3. df3.csv \n",
    "\n",
    "Clean dataset of 253,680 survey responses to the CDC's BRFSS2015. The target variable Diabetes_binary has 2 classes. \n",
    "0 is for no diabetes, and 1 is for prediabetes or diabetes. This dataset has 21 feature variables and is not balanced."
   ]
  },
  {
   "cell_type": "markdown",
   "metadata": {},
   "source": [
    "# <a id='toc2_'></a>[Basic Exploration](#toc0_)"
   ]
  },
  {
   "cell_type": "markdown",
   "metadata": {},
   "source": [
    "## <a id='toc2_1_'></a>[Importing Libaries](#toc0_)"
   ]
  },
  {
   "cell_type": "code",
   "execution_count": 3,
   "metadata": {},
   "outputs": [],
   "source": [
    "import pandas as pd"
   ]
  },
  {
   "cell_type": "markdown",
   "metadata": {},
   "source": [
    "## <a id='toc2_2_'></a>[Datasets](#toc0_)"
   ]
  },
  {
   "cell_type": "code",
   "execution_count": 5,
   "metadata": {},
   "outputs": [],
   "source": [
    "df1 = pd.read_csv('/Users/kirtisoglu/Documents/GitHub/Project-Ideas/1. Diabetes datasets/data/df1.csv')\n",
    "df2 = pd.read_csv('/Users/kirtisoglu/Documents/GitHub/Project-Ideas/1. Diabetes datasets/data/df2.csv')\n",
    "df3 = pd.read_csv('/Users/kirtisoglu/Documents/GitHub/Project-Ideas/1. Diabetes datasets/data/df3.csv')"
   ]
  },
  {
   "cell_type": "markdown",
   "metadata": {},
   "source": [
    "# <a id='toc3_'></a>[Data Preprocessing](#toc0_)"
   ]
  },
  {
   "cell_type": "code",
   "execution_count": 7,
   "metadata": {},
   "outputs": [
    {
     "data": {
      "text/plain": [
       "Index(['Diabetes_012', 'HighBP', 'HighChol', 'CholCheck', 'BMI', 'Smoker',\n",
       "       'Stroke', 'HeartDiseaseorAttack', 'PhysActivity', 'Fruits', 'Veggies',\n",
       "       'HvyAlcoholConsump', 'AnyHealthcare', 'NoDocbcCost', 'GenHlth',\n",
       "       'MentHlth', 'PhysHlth', 'DiffWalk', 'Sex', 'Age', 'Education',\n",
       "       'Income'],\n",
       "      dtype='object')"
      ]
     },
     "execution_count": 7,
     "metadata": {},
     "output_type": "execute_result"
    }
   ],
   "source": [
    "df1.columns"
   ]
  },
  {
   "cell_type": "markdown",
   "metadata": {},
   "source": [
    "# <a id='toc4_'></a>[Machine Learning Models](#toc0_)"
   ]
  },
  {
   "cell_type": "markdown",
   "metadata": {},
   "source": [
    "## <a id='toc4_1_'></a>[Logistic Regression](#toc0_)"
   ]
  },
  {
   "cell_type": "markdown",
   "metadata": {},
   "source": [
    "## <a id='toc4_2_'></a>[K-nearest Neighbors](#toc0_)"
   ]
  },
  {
   "cell_type": "markdown",
   "metadata": {},
   "source": [
    "## <a id='toc4_3_'></a>[Gaussian Model](#toc0_)"
   ]
  },
  {
   "cell_type": "markdown",
   "metadata": {},
   "source": [
    "## <a id='toc4_4_'></a>[Decision Tree](#toc0_)"
   ]
  },
  {
   "cell_type": "markdown",
   "metadata": {},
   "source": [
    "## <a id='toc4_5_'></a>[Random Forest](#toc0_)"
   ]
  },
  {
   "cell_type": "markdown",
   "metadata": {},
   "source": [
    "## <a id='toc4_6_'></a>[XGBoost](#toc0_)"
   ]
  },
  {
   "cell_type": "markdown",
   "metadata": {},
   "source": [
    "## <a id='toc4_7_'></a>[Neural Network](#toc0_)"
   ]
  },
  {
   "cell_type": "markdown",
   "metadata": {},
   "source": [
    "# <a id='toc5_'></a>[Conclusion](#toc0_)"
   ]
  },
  {
   "cell_type": "markdown",
   "metadata": {},
   "source": [
    "# <a id='toc6_'></a>[Author Message](#toc0_)"
   ]
  },
  {
   "cell_type": "markdown",
   "metadata": {},
   "source": [
    "Author : Alaittin Kirtisoglu\n",
    "\n",
    "\n",
    "Some information:\n",
    "\n",
    "👉Read more project : \n",
    "\n",
    "👉Shoot me emails : akirtisoglu@hawk.iit.edu\n",
    "\n",
    "👉Connect on LinkedIn : https://www.linkedin.com/in/alaittin-kirtisoglu/\n",
    "\n",
    "👉Explore Github : https://github.com/kirtisoglu\n",
    "\n",
    "\n",
    "If you have any questions, feel free to comment!\n",
    "\n",
    "\n",
    "✨Best Wishes✨"
   ]
  }
 ],
 "metadata": {
  "kernelspec": {
   "display_name": "Python 3",
   "language": "python",
   "name": "python3"
  },
  "language_info": {
   "codemirror_mode": {
    "name": "ipython",
    "version": 3
   },
   "file_extension": ".py",
   "mimetype": "text/x-python",
   "name": "python",
   "nbconvert_exporter": "python",
   "pygments_lexer": "ipython3",
   "version": "3.12.2"
  }
 },
 "nbformat": 4,
 "nbformat_minor": 2
}
