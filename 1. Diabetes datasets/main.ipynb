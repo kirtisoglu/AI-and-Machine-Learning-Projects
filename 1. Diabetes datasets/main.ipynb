{
 "cells": [
  {
   "cell_type": "markdown",
   "metadata": {},
   "source": [
    "<body>\n",
    "    <div class=\"alert alert-block alert-success\">\n",
    "    <font face = \"courier\" size = \"+4\"> <b>Diabetes Data Analysis</b></font>\n",
    "    <p><font face = \"courier\" size = \"+1\">\n",
    "        Author: Alaittin Kirtisoglu\n",
    "        </font>\n",
    "    </p>\n",
    "    <p><font face = \"courier\" size = \"+1\">\n",
    "        Date: Nov 18, 2024\n",
    "        </font>\n",
    "    </p>\n",
    "    <p></p>\n",
    "    <hr />\n",
    "    <a id = '0'></a><font face = \"courier\" size = \"+2\">Table of Contents</font>\n",
    "    <ol>\n",
    "      <li><a href=\"#1\">Introduction</a></li>\n",
    "      <ul>\n",
    "        <li><a href=\"#1.1\">Problem Statement</a></li>\n",
    "        <li><a href=\"#1.2\">Data Description</a></li>\n",
    "      </ul>\n",
    "      <li><a href=\"#2\">Basic Exploration and Preprocessing</a></li>\n",
    "      <ul>\n",
    "        <li><a href=\"#2.1\">Importing Libaries</a></li>\n",
    "        <li><a href=\"#2.2\">Datasets</a></li>\n",
    "      </ul>\n",
    "      <li><a href=\"#3\">Feature Selection</a></li>\n",
    "      <li><a href=\"#4\">Machine Learning Models</a></li>\n",
    "      <ul>\n",
    "        <li><a href=\"#4.1\">Logistic Regression</a></li>\n",
    "        <li><a href=\"#4.2\">K-nearest Neighbors</a></li>\n",
    "        <li><a href=\"#4.3\">Gaussian Model</a></li>\n",
    "        <li><a href=\"#4.4\">Decision Tree</a></li>\n",
    "        <li><a href=\"#4.5\">Random Forest</a></li>\n",
    "        <li><a href=\"#4.6\">XGBoost</a></li>\n",
    "        <li><a href=\"#4.7\">Neural Network</a></li>\n",
    "        <li><a href=\"#4.8\">Support Vector Classifier</a></li>\n",
    "        <li><a href=\"#4.9\">AdaBoost</a></li>\n",
    "        <li><a href=\"#4.10\">Gradient Boosting</a></li>\n",
    "      </ul>\n",
    "      <li><a href=\"#5\">Conclusion</a></li>\n",
    "      <li><a href=\"#6\">Author Message</a></li>\n",
    "    </ol>\n",
    "    </div>\n",
    "</body>"
   ]
  },
  {
   "cell_type": "markdown",
   "metadata": {},
   "source": [
    "<div class=\"alert alert-block alert-info\">\n",
    "   <a id='1'></a><font face = \"courier\" size = \"+3\"> 1|Introduction</font>\n",
    "</div>"
   ]
  },
  {
   "cell_type": "markdown",
   "metadata": {},
   "source": [
    "> <a id='1.1'></a><font face = \"courier\" size = \"+2\" color = \"black\"> 1.1|Problem Statement</font>"
   ]
  },
  {
   "cell_type": "markdown",
   "metadata": {},
   "source": [
    "<ol>\n",
    "      <li><b>Provide accurate predictions of whether an individual has diabetes.</b></li><br>\n",
    "      <li><b>What risk factors are most predictive of diabetes risk?</b></li><br>\n",
    "      <li><b>Can we use a subset of the risk factors to accurately predict whether an individual has diabetes?</b></li><br>\n",
    "      <li><b>Can we create a short form of questions from the BRFSS using feature selection to accurately predict if someone might have diabetes or is at high risk of diabetes?</b></li>\n",
    "</ol>"
   ]
  },
  {
   "cell_type": "markdown",
   "metadata": {},
   "source": [
    "> <a id='1.2'></a><font face = \"courier\" size = \"+2\" color = \"black\"> 1.2|Data Description</font>"
   ]
  },
  {
   "cell_type": "markdown",
   "metadata": {},
   "source": [
    "The Behavioral Risk Factor Surveillance System (BRFSS) is a health-related telephone survey that is collected annually by the CDC. \n",
    "Each year, the survey collects responses from over 400,000 Americans on health-related risk behaviors, chronic health conditions, \n",
    "and the use of preventative services. We use datasets available on [Kaggle](https://www.kaggle.com/datasets/alexteboul/diabetes-health-indicators-dataset/data)\n",
    "for year 2015. This original dataset contains responses from 441,455 individuals and has 330 features. These features are either \n",
    "questions directly asked of participants, or calculated variables based on individual participant responses.\n",
    "\n",
    "This dataset contains 3 files:\n",
    "\n",
    "<p style=\"border: 2px solid Maroon;\">1. df1.csv</p>\n",
    "\n",
    "Clean dataset of 253,680 survey responses to the CDC's BRFSS2015. The target variable is Diabetes_012 has 3 classes. \n",
    "0 is for no diabetes or only during pregnancy, 1 is for prediabetes, and 2 is for diabetes. There is class imbalance \n",
    "in this dataset. This dataset has 21 feature variables.\n",
    "\n",
    "<p style=\"border: 2px solid Maroon;\">1. df2.csv</p>\n",
    "\n",
    "Clean dataset of 70,692 survey responses to the CDC's BRFSS2015. It has an equal 50-50 split of respondents with no \n",
    "diabetes and with either prediabetes or diabetes. The target variable Diabetes_binary has 2 classes. 0 is for no \n",
    "diabetes, and 1 is for prediabetes or diabetes. This dataset has 21 feature variables and is balanced.\n",
    "\n",
    "<p style=\"border: 2px solid Maroon;\">1. df3.csv</p>\n",
    "\n",
    "Clean dataset of 253,680 survey responses to the CDC's BRFSS2015. The target variable Diabetes_binary has 2 classes. \n",
    "0 is for no diabetes, and 1 is for prediabetes or diabetes. This dataset has 21 feature variables and is not balanced."
   ]
  },
  {
   "cell_type": "markdown",
   "metadata": {},
   "source": [
    "## Question\n",
    "\n",
    "1. df2 and df3 -> What happens if data does not have an equal 50-50 split of respondents?\n",
    "2. 3 classes in df1?"
   ]
  },
  {
   "cell_type": "markdown",
   "metadata": {},
   "source": [
    "<div class=\"alert alert-block alert-info\">\n",
    "   <a id='2'></a><font face = \"courier\" size = \"+3\"> 2|Basic Exploration and Preprocessing</font>\n",
    "</div>"
   ]
  },
  {
   "cell_type": "markdown",
   "metadata": {},
   "source": [
    "> <a id='2.1'></a><font face = \"courier\" size = \"+2\" color = \"black\"> 2.1|Importing Libraries</font>"
   ]
  },
  {
   "cell_type": "code",
   "execution_count": 1,
   "metadata": {},
   "outputs": [],
   "source": [
    "import pandas as pd"
   ]
  },
  {
   "cell_type": "markdown",
   "metadata": {},
   "source": [
    "> <a id='2.2'></a><font face = \"courier\" size = \"+2\" color = \"black\"> 2.2|Datasets</font>"
   ]
  },
  {
   "cell_type": "code",
   "execution_count": 2,
   "metadata": {},
   "outputs": [],
   "source": [
    "df1 = pd.read_csv('/Users/kirtisoglu/Documents/GitHub/Project-Ideas/1. Diabetes datasets/data/df1.csv')\n",
    "df2 = pd.read_csv('/Users/kirtisoglu/Documents/GitHub/Project-Ideas/1. Diabetes datasets/data/df2.csv')\n",
    "df3 = pd.read_csv('/Users/kirtisoglu/Documents/GitHub/Project-Ideas/1. Diabetes datasets/data/df3.csv')"
   ]
  },
  {
   "cell_type": "code",
   "execution_count": 3,
   "metadata": {},
   "outputs": [
    {
     "data": {
      "text/html": [
       "<style type=\"text/css\">\n",
       "#T_1926a th {\n",
       "  color: white;\n",
       "  background-color: #333333;\n",
       "}\n",
       "#T_1926a_row0_col0, #T_1926a_row0_col1, #T_1926a_row0_col2, #T_1926a_row0_col3, #T_1926a_row0_col4, #T_1926a_row0_col5, #T_1926a_row0_col6, #T_1926a_row0_col7, #T_1926a_row0_col8, #T_1926a_row0_col9, #T_1926a_row0_col10, #T_1926a_row0_col11, #T_1926a_row0_col12, #T_1926a_row0_col13, #T_1926a_row0_col14, #T_1926a_row0_col15, #T_1926a_row0_col16, #T_1926a_row0_col17, #T_1926a_row0_col18, #T_1926a_row0_col19, #T_1926a_row0_col20, #T_1926a_row0_col21, #T_1926a_row1_col0, #T_1926a_row1_col1, #T_1926a_row1_col2, #T_1926a_row1_col3, #T_1926a_row1_col4, #T_1926a_row1_col5, #T_1926a_row1_col6, #T_1926a_row1_col7, #T_1926a_row1_col8, #T_1926a_row1_col9, #T_1926a_row1_col10, #T_1926a_row1_col11, #T_1926a_row1_col12, #T_1926a_row1_col13, #T_1926a_row1_col14, #T_1926a_row1_col15, #T_1926a_row1_col16, #T_1926a_row1_col17, #T_1926a_row1_col18, #T_1926a_row1_col19, #T_1926a_row1_col20, #T_1926a_row1_col21, #T_1926a_row2_col0, #T_1926a_row2_col1, #T_1926a_row2_col2, #T_1926a_row2_col3, #T_1926a_row2_col4, #T_1926a_row2_col5, #T_1926a_row2_col6, #T_1926a_row2_col7, #T_1926a_row2_col8, #T_1926a_row2_col9, #T_1926a_row2_col10, #T_1926a_row2_col11, #T_1926a_row2_col12, #T_1926a_row2_col13, #T_1926a_row2_col14, #T_1926a_row2_col15, #T_1926a_row2_col16, #T_1926a_row2_col17, #T_1926a_row2_col18, #T_1926a_row2_col19, #T_1926a_row2_col20, #T_1926a_row2_col21, #T_1926a_row3_col0, #T_1926a_row3_col1, #T_1926a_row3_col2, #T_1926a_row3_col3, #T_1926a_row3_col4, #T_1926a_row3_col5, #T_1926a_row3_col6, #T_1926a_row3_col7, #T_1926a_row3_col8, #T_1926a_row3_col9, #T_1926a_row3_col10, #T_1926a_row3_col11, #T_1926a_row3_col12, #T_1926a_row3_col13, #T_1926a_row3_col14, #T_1926a_row3_col15, #T_1926a_row3_col16, #T_1926a_row3_col17, #T_1926a_row3_col18, #T_1926a_row3_col19, #T_1926a_row3_col20, #T_1926a_row3_col21, #T_1926a_row4_col0, #T_1926a_row4_col1, #T_1926a_row4_col2, #T_1926a_row4_col3, #T_1926a_row4_col4, #T_1926a_row4_col5, #T_1926a_row4_col6, #T_1926a_row4_col7, #T_1926a_row4_col8, #T_1926a_row4_col9, #T_1926a_row4_col10, #T_1926a_row4_col11, #T_1926a_row4_col12, #T_1926a_row4_col13, #T_1926a_row4_col14, #T_1926a_row4_col15, #T_1926a_row4_col16, #T_1926a_row4_col17, #T_1926a_row4_col18, #T_1926a_row4_col19, #T_1926a_row4_col20, #T_1926a_row4_col21 {\n",
       "  background-color: #254E58;\n",
       "  color: #e9c46a;\n",
       "  border: 1.5px solid black;\n",
       "}\n",
       "</style>\n",
       "<table id=\"T_1926a\">\n",
       "  <thead>\n",
       "    <tr>\n",
       "      <th class=\"blank level0\" >&nbsp;</th>\n",
       "      <th id=\"T_1926a_level0_col0\" class=\"col_heading level0 col0\" >Diabetes_012</th>\n",
       "      <th id=\"T_1926a_level0_col1\" class=\"col_heading level0 col1\" >HighBP</th>\n",
       "      <th id=\"T_1926a_level0_col2\" class=\"col_heading level0 col2\" >HighChol</th>\n",
       "      <th id=\"T_1926a_level0_col3\" class=\"col_heading level0 col3\" >CholCheck</th>\n",
       "      <th id=\"T_1926a_level0_col4\" class=\"col_heading level0 col4\" >BMI</th>\n",
       "      <th id=\"T_1926a_level0_col5\" class=\"col_heading level0 col5\" >Smoker</th>\n",
       "      <th id=\"T_1926a_level0_col6\" class=\"col_heading level0 col6\" >Stroke</th>\n",
       "      <th id=\"T_1926a_level0_col7\" class=\"col_heading level0 col7\" >HeartDiseaseorAttack</th>\n",
       "      <th id=\"T_1926a_level0_col8\" class=\"col_heading level0 col8\" >PhysActivity</th>\n",
       "      <th id=\"T_1926a_level0_col9\" class=\"col_heading level0 col9\" >Fruits</th>\n",
       "      <th id=\"T_1926a_level0_col10\" class=\"col_heading level0 col10\" >Veggies</th>\n",
       "      <th id=\"T_1926a_level0_col11\" class=\"col_heading level0 col11\" >HvyAlcoholConsump</th>\n",
       "      <th id=\"T_1926a_level0_col12\" class=\"col_heading level0 col12\" >AnyHealthcare</th>\n",
       "      <th id=\"T_1926a_level0_col13\" class=\"col_heading level0 col13\" >NoDocbcCost</th>\n",
       "      <th id=\"T_1926a_level0_col14\" class=\"col_heading level0 col14\" >GenHlth</th>\n",
       "      <th id=\"T_1926a_level0_col15\" class=\"col_heading level0 col15\" >MentHlth</th>\n",
       "      <th id=\"T_1926a_level0_col16\" class=\"col_heading level0 col16\" >PhysHlth</th>\n",
       "      <th id=\"T_1926a_level0_col17\" class=\"col_heading level0 col17\" >DiffWalk</th>\n",
       "      <th id=\"T_1926a_level0_col18\" class=\"col_heading level0 col18\" >Sex</th>\n",
       "      <th id=\"T_1926a_level0_col19\" class=\"col_heading level0 col19\" >Age</th>\n",
       "      <th id=\"T_1926a_level0_col20\" class=\"col_heading level0 col20\" >Education</th>\n",
       "      <th id=\"T_1926a_level0_col21\" class=\"col_heading level0 col21\" >Income</th>\n",
       "    </tr>\n",
       "  </thead>\n",
       "  <tbody>\n",
       "    <tr>\n",
       "      <th id=\"T_1926a_level0_row0\" class=\"row_heading level0 row0\" >0</th>\n",
       "      <td id=\"T_1926a_row0_col0\" class=\"data row0 col0\" >0.000000</td>\n",
       "      <td id=\"T_1926a_row0_col1\" class=\"data row0 col1\" >1.000000</td>\n",
       "      <td id=\"T_1926a_row0_col2\" class=\"data row0 col2\" >1.000000</td>\n",
       "      <td id=\"T_1926a_row0_col3\" class=\"data row0 col3\" >1.000000</td>\n",
       "      <td id=\"T_1926a_row0_col4\" class=\"data row0 col4\" >40.000000</td>\n",
       "      <td id=\"T_1926a_row0_col5\" class=\"data row0 col5\" >1.000000</td>\n",
       "      <td id=\"T_1926a_row0_col6\" class=\"data row0 col6\" >0.000000</td>\n",
       "      <td id=\"T_1926a_row0_col7\" class=\"data row0 col7\" >0.000000</td>\n",
       "      <td id=\"T_1926a_row0_col8\" class=\"data row0 col8\" >0.000000</td>\n",
       "      <td id=\"T_1926a_row0_col9\" class=\"data row0 col9\" >0.000000</td>\n",
       "      <td id=\"T_1926a_row0_col10\" class=\"data row0 col10\" >1.000000</td>\n",
       "      <td id=\"T_1926a_row0_col11\" class=\"data row0 col11\" >0.000000</td>\n",
       "      <td id=\"T_1926a_row0_col12\" class=\"data row0 col12\" >1.000000</td>\n",
       "      <td id=\"T_1926a_row0_col13\" class=\"data row0 col13\" >0.000000</td>\n",
       "      <td id=\"T_1926a_row0_col14\" class=\"data row0 col14\" >5.000000</td>\n",
       "      <td id=\"T_1926a_row0_col15\" class=\"data row0 col15\" >18.000000</td>\n",
       "      <td id=\"T_1926a_row0_col16\" class=\"data row0 col16\" >15.000000</td>\n",
       "      <td id=\"T_1926a_row0_col17\" class=\"data row0 col17\" >1.000000</td>\n",
       "      <td id=\"T_1926a_row0_col18\" class=\"data row0 col18\" >0.000000</td>\n",
       "      <td id=\"T_1926a_row0_col19\" class=\"data row0 col19\" >9.000000</td>\n",
       "      <td id=\"T_1926a_row0_col20\" class=\"data row0 col20\" >4.000000</td>\n",
       "      <td id=\"T_1926a_row0_col21\" class=\"data row0 col21\" >3.000000</td>\n",
       "    </tr>\n",
       "    <tr>\n",
       "      <th id=\"T_1926a_level0_row1\" class=\"row_heading level0 row1\" >1</th>\n",
       "      <td id=\"T_1926a_row1_col0\" class=\"data row1 col0\" >0.000000</td>\n",
       "      <td id=\"T_1926a_row1_col1\" class=\"data row1 col1\" >0.000000</td>\n",
       "      <td id=\"T_1926a_row1_col2\" class=\"data row1 col2\" >0.000000</td>\n",
       "      <td id=\"T_1926a_row1_col3\" class=\"data row1 col3\" >0.000000</td>\n",
       "      <td id=\"T_1926a_row1_col4\" class=\"data row1 col4\" >25.000000</td>\n",
       "      <td id=\"T_1926a_row1_col5\" class=\"data row1 col5\" >1.000000</td>\n",
       "      <td id=\"T_1926a_row1_col6\" class=\"data row1 col6\" >0.000000</td>\n",
       "      <td id=\"T_1926a_row1_col7\" class=\"data row1 col7\" >0.000000</td>\n",
       "      <td id=\"T_1926a_row1_col8\" class=\"data row1 col8\" >1.000000</td>\n",
       "      <td id=\"T_1926a_row1_col9\" class=\"data row1 col9\" >0.000000</td>\n",
       "      <td id=\"T_1926a_row1_col10\" class=\"data row1 col10\" >0.000000</td>\n",
       "      <td id=\"T_1926a_row1_col11\" class=\"data row1 col11\" >0.000000</td>\n",
       "      <td id=\"T_1926a_row1_col12\" class=\"data row1 col12\" >0.000000</td>\n",
       "      <td id=\"T_1926a_row1_col13\" class=\"data row1 col13\" >1.000000</td>\n",
       "      <td id=\"T_1926a_row1_col14\" class=\"data row1 col14\" >3.000000</td>\n",
       "      <td id=\"T_1926a_row1_col15\" class=\"data row1 col15\" >0.000000</td>\n",
       "      <td id=\"T_1926a_row1_col16\" class=\"data row1 col16\" >0.000000</td>\n",
       "      <td id=\"T_1926a_row1_col17\" class=\"data row1 col17\" >0.000000</td>\n",
       "      <td id=\"T_1926a_row1_col18\" class=\"data row1 col18\" >0.000000</td>\n",
       "      <td id=\"T_1926a_row1_col19\" class=\"data row1 col19\" >7.000000</td>\n",
       "      <td id=\"T_1926a_row1_col20\" class=\"data row1 col20\" >6.000000</td>\n",
       "      <td id=\"T_1926a_row1_col21\" class=\"data row1 col21\" >1.000000</td>\n",
       "    </tr>\n",
       "    <tr>\n",
       "      <th id=\"T_1926a_level0_row2\" class=\"row_heading level0 row2\" >2</th>\n",
       "      <td id=\"T_1926a_row2_col0\" class=\"data row2 col0\" >0.000000</td>\n",
       "      <td id=\"T_1926a_row2_col1\" class=\"data row2 col1\" >1.000000</td>\n",
       "      <td id=\"T_1926a_row2_col2\" class=\"data row2 col2\" >1.000000</td>\n",
       "      <td id=\"T_1926a_row2_col3\" class=\"data row2 col3\" >1.000000</td>\n",
       "      <td id=\"T_1926a_row2_col4\" class=\"data row2 col4\" >28.000000</td>\n",
       "      <td id=\"T_1926a_row2_col5\" class=\"data row2 col5\" >0.000000</td>\n",
       "      <td id=\"T_1926a_row2_col6\" class=\"data row2 col6\" >0.000000</td>\n",
       "      <td id=\"T_1926a_row2_col7\" class=\"data row2 col7\" >0.000000</td>\n",
       "      <td id=\"T_1926a_row2_col8\" class=\"data row2 col8\" >0.000000</td>\n",
       "      <td id=\"T_1926a_row2_col9\" class=\"data row2 col9\" >1.000000</td>\n",
       "      <td id=\"T_1926a_row2_col10\" class=\"data row2 col10\" >0.000000</td>\n",
       "      <td id=\"T_1926a_row2_col11\" class=\"data row2 col11\" >0.000000</td>\n",
       "      <td id=\"T_1926a_row2_col12\" class=\"data row2 col12\" >1.000000</td>\n",
       "      <td id=\"T_1926a_row2_col13\" class=\"data row2 col13\" >1.000000</td>\n",
       "      <td id=\"T_1926a_row2_col14\" class=\"data row2 col14\" >5.000000</td>\n",
       "      <td id=\"T_1926a_row2_col15\" class=\"data row2 col15\" >30.000000</td>\n",
       "      <td id=\"T_1926a_row2_col16\" class=\"data row2 col16\" >30.000000</td>\n",
       "      <td id=\"T_1926a_row2_col17\" class=\"data row2 col17\" >1.000000</td>\n",
       "      <td id=\"T_1926a_row2_col18\" class=\"data row2 col18\" >0.000000</td>\n",
       "      <td id=\"T_1926a_row2_col19\" class=\"data row2 col19\" >9.000000</td>\n",
       "      <td id=\"T_1926a_row2_col20\" class=\"data row2 col20\" >4.000000</td>\n",
       "      <td id=\"T_1926a_row2_col21\" class=\"data row2 col21\" >8.000000</td>\n",
       "    </tr>\n",
       "    <tr>\n",
       "      <th id=\"T_1926a_level0_row3\" class=\"row_heading level0 row3\" >3</th>\n",
       "      <td id=\"T_1926a_row3_col0\" class=\"data row3 col0\" >0.000000</td>\n",
       "      <td id=\"T_1926a_row3_col1\" class=\"data row3 col1\" >1.000000</td>\n",
       "      <td id=\"T_1926a_row3_col2\" class=\"data row3 col2\" >0.000000</td>\n",
       "      <td id=\"T_1926a_row3_col3\" class=\"data row3 col3\" >1.000000</td>\n",
       "      <td id=\"T_1926a_row3_col4\" class=\"data row3 col4\" >27.000000</td>\n",
       "      <td id=\"T_1926a_row3_col5\" class=\"data row3 col5\" >0.000000</td>\n",
       "      <td id=\"T_1926a_row3_col6\" class=\"data row3 col6\" >0.000000</td>\n",
       "      <td id=\"T_1926a_row3_col7\" class=\"data row3 col7\" >0.000000</td>\n",
       "      <td id=\"T_1926a_row3_col8\" class=\"data row3 col8\" >1.000000</td>\n",
       "      <td id=\"T_1926a_row3_col9\" class=\"data row3 col9\" >1.000000</td>\n",
       "      <td id=\"T_1926a_row3_col10\" class=\"data row3 col10\" >1.000000</td>\n",
       "      <td id=\"T_1926a_row3_col11\" class=\"data row3 col11\" >0.000000</td>\n",
       "      <td id=\"T_1926a_row3_col12\" class=\"data row3 col12\" >1.000000</td>\n",
       "      <td id=\"T_1926a_row3_col13\" class=\"data row3 col13\" >0.000000</td>\n",
       "      <td id=\"T_1926a_row3_col14\" class=\"data row3 col14\" >2.000000</td>\n",
       "      <td id=\"T_1926a_row3_col15\" class=\"data row3 col15\" >0.000000</td>\n",
       "      <td id=\"T_1926a_row3_col16\" class=\"data row3 col16\" >0.000000</td>\n",
       "      <td id=\"T_1926a_row3_col17\" class=\"data row3 col17\" >0.000000</td>\n",
       "      <td id=\"T_1926a_row3_col18\" class=\"data row3 col18\" >0.000000</td>\n",
       "      <td id=\"T_1926a_row3_col19\" class=\"data row3 col19\" >11.000000</td>\n",
       "      <td id=\"T_1926a_row3_col20\" class=\"data row3 col20\" >3.000000</td>\n",
       "      <td id=\"T_1926a_row3_col21\" class=\"data row3 col21\" >6.000000</td>\n",
       "    </tr>\n",
       "    <tr>\n",
       "      <th id=\"T_1926a_level0_row4\" class=\"row_heading level0 row4\" >4</th>\n",
       "      <td id=\"T_1926a_row4_col0\" class=\"data row4 col0\" >0.000000</td>\n",
       "      <td id=\"T_1926a_row4_col1\" class=\"data row4 col1\" >1.000000</td>\n",
       "      <td id=\"T_1926a_row4_col2\" class=\"data row4 col2\" >1.000000</td>\n",
       "      <td id=\"T_1926a_row4_col3\" class=\"data row4 col3\" >1.000000</td>\n",
       "      <td id=\"T_1926a_row4_col4\" class=\"data row4 col4\" >24.000000</td>\n",
       "      <td id=\"T_1926a_row4_col5\" class=\"data row4 col5\" >0.000000</td>\n",
       "      <td id=\"T_1926a_row4_col6\" class=\"data row4 col6\" >0.000000</td>\n",
       "      <td id=\"T_1926a_row4_col7\" class=\"data row4 col7\" >0.000000</td>\n",
       "      <td id=\"T_1926a_row4_col8\" class=\"data row4 col8\" >1.000000</td>\n",
       "      <td id=\"T_1926a_row4_col9\" class=\"data row4 col9\" >1.000000</td>\n",
       "      <td id=\"T_1926a_row4_col10\" class=\"data row4 col10\" >1.000000</td>\n",
       "      <td id=\"T_1926a_row4_col11\" class=\"data row4 col11\" >0.000000</td>\n",
       "      <td id=\"T_1926a_row4_col12\" class=\"data row4 col12\" >1.000000</td>\n",
       "      <td id=\"T_1926a_row4_col13\" class=\"data row4 col13\" >0.000000</td>\n",
       "      <td id=\"T_1926a_row4_col14\" class=\"data row4 col14\" >2.000000</td>\n",
       "      <td id=\"T_1926a_row4_col15\" class=\"data row4 col15\" >3.000000</td>\n",
       "      <td id=\"T_1926a_row4_col16\" class=\"data row4 col16\" >0.000000</td>\n",
       "      <td id=\"T_1926a_row4_col17\" class=\"data row4 col17\" >0.000000</td>\n",
       "      <td id=\"T_1926a_row4_col18\" class=\"data row4 col18\" >0.000000</td>\n",
       "      <td id=\"T_1926a_row4_col19\" class=\"data row4 col19\" >11.000000</td>\n",
       "      <td id=\"T_1926a_row4_col20\" class=\"data row4 col20\" >5.000000</td>\n",
       "      <td id=\"T_1926a_row4_col21\" class=\"data row4 col21\" >4.000000</td>\n",
       "    </tr>\n",
       "  </tbody>\n",
       "</table>\n"
      ],
      "text/plain": [
       "<pandas.io.formats.style.Styler at 0x127f4c980>"
      ]
     },
     "execution_count": 3,
     "metadata": {},
     "output_type": "execute_result"
    }
   ],
   "source": [
    "styled_df = df1.head(5).style\n",
    "\n",
    "# Set background color, text color, and border for the entire DataFrame\n",
    "styled_df.set_properties(**{\"background-color\": \"#254E58\", \"color\": \"#e9c46a\", \"border\": \"1.5px solid black\"})\n",
    "\n",
    "# Modify the color and background color of the table headers (th)\n",
    "styled_df.set_table_styles([\n",
    "    {\"selector\": \"th\", \"props\": [(\"color\", 'white'), (\"background-color\", \"#333333\")]}\n",
    "])"
   ]
  },
  {
   "cell_type": "code",
   "execution_count": null,
   "metadata": {},
   "outputs": [],
   "source": [
    "df1['Diabetes_012']"
   ]
  },
  {
   "cell_type": "code",
   "execution_count": 46,
   "metadata": {},
   "outputs": [],
   "source": [
    "y = df1['MentHlth'].to_numpy()\n",
    "\n",
    "z = [int(x) for x in y]\n",
    "    "
   ]
  },
  {
   "cell_type": "code",
   "execution_count": null,
   "metadata": {},
   "outputs": [],
   "source": [
    "import matplotlib.pyplot as plt\n",
    "import numpy as np\n",
    "\n",
    "plt.figure(figsize=(20,10))\n",
    "\n",
    "x = np.array(range(len(df1)))\n",
    "\n",
    "\n",
    "plt.plot(x, z, 'o')\n",
    "\n"
   ]
  },
  {
   "cell_type": "code",
   "execution_count": 4,
   "metadata": {},
   "outputs": [
    {
     "name": "stdout",
     "output_type": "stream",
     "text": [
      "<class 'pandas.core.frame.DataFrame'>\n",
      "RangeIndex: 253680 entries, 0 to 253679\n",
      "Data columns (total 22 columns):\n",
      " #   Column                Non-Null Count   Dtype  \n",
      "---  ------                --------------   -----  \n",
      " 0   Diabetes_012          253680 non-null  float64\n",
      " 1   HighBP                253680 non-null  float64\n",
      " 2   HighChol              253680 non-null  float64\n",
      " 3   CholCheck             253680 non-null  float64\n",
      " 4   BMI                   253680 non-null  float64\n",
      " 5   Smoker                253680 non-null  float64\n",
      " 6   Stroke                253680 non-null  float64\n",
      " 7   HeartDiseaseorAttack  253680 non-null  float64\n",
      " 8   PhysActivity          253680 non-null  float64\n",
      " 9   Fruits                253680 non-null  float64\n",
      " 10  Veggies               253680 non-null  float64\n",
      " 11  HvyAlcoholConsump     253680 non-null  float64\n",
      " 12  AnyHealthcare         253680 non-null  float64\n",
      " 13  NoDocbcCost           253680 non-null  float64\n",
      " 14  GenHlth               253680 non-null  float64\n",
      " 15  MentHlth              253680 non-null  float64\n",
      " 16  PhysHlth              253680 non-null  float64\n",
      " 17  DiffWalk              253680 non-null  float64\n",
      " 18  Sex                   253680 non-null  float64\n",
      " 19  Age                   253680 non-null  float64\n",
      " 20  Education             253680 non-null  float64\n",
      " 21  Income                253680 non-null  float64\n",
      "dtypes: float64(22)\n",
      "memory usage: 42.6 MB\n"
     ]
    }
   ],
   "source": [
    "df1.info()"
   ]
  },
  {
   "cell_type": "code",
   "execution_count": 5,
   "metadata": {},
   "outputs": [
    {
     "data": {
      "text/html": [
       "<style type=\"text/css\">\n",
       "#T_fab99 th {\n",
       "  background-color: #254E58;\n",
       "  color: white;\n",
       "  font-weight: bold;\n",
       "  text-align: left;\n",
       "  padding: 8px;\n",
       "}\n",
       "#T_fab99 td {\n",
       "  padding: 8px;\n",
       "}\n",
       "#T_fab99_row0_col0, #T_fab99_row0_col1, #T_fab99_row0_col2, #T_fab99_row0_col3, #T_fab99_row0_col4, #T_fab99_row0_col5, #T_fab99_row0_col6, #T_fab99_row0_col7, #T_fab99_row0_col8, #T_fab99_row0_col9, #T_fab99_row0_col10, #T_fab99_row0_col11, #T_fab99_row0_col12, #T_fab99_row0_col13, #T_fab99_row0_col14, #T_fab99_row0_col15, #T_fab99_row0_col16, #T_fab99_row0_col17, #T_fab99_row0_col18, #T_fab99_row0_col19, #T_fab99_row0_col20, #T_fab99_row0_col21, #T_fab99_row1_col0, #T_fab99_row1_col1, #T_fab99_row1_col2, #T_fab99_row1_col3, #T_fab99_row1_col4, #T_fab99_row1_col5, #T_fab99_row1_col6, #T_fab99_row1_col7, #T_fab99_row1_col8, #T_fab99_row1_col9, #T_fab99_row1_col10, #T_fab99_row1_col11, #T_fab99_row1_col12, #T_fab99_row1_col13, #T_fab99_row1_col14, #T_fab99_row1_col15, #T_fab99_row1_col16, #T_fab99_row1_col17, #T_fab99_row1_col18, #T_fab99_row1_col19, #T_fab99_row1_col20, #T_fab99_row1_col21, #T_fab99_row2_col0, #T_fab99_row2_col1, #T_fab99_row2_col2, #T_fab99_row2_col3, #T_fab99_row2_col4, #T_fab99_row2_col5, #T_fab99_row2_col6, #T_fab99_row2_col7, #T_fab99_row2_col8, #T_fab99_row2_col9, #T_fab99_row2_col10, #T_fab99_row2_col11, #T_fab99_row2_col12, #T_fab99_row2_col13, #T_fab99_row2_col14, #T_fab99_row2_col15, #T_fab99_row2_col16, #T_fab99_row2_col17, #T_fab99_row2_col18, #T_fab99_row2_col19, #T_fab99_row2_col20, #T_fab99_row2_col21, #T_fab99_row3_col0, #T_fab99_row3_col1, #T_fab99_row3_col2, #T_fab99_row3_col3, #T_fab99_row3_col4, #T_fab99_row3_col5, #T_fab99_row3_col6, #T_fab99_row3_col7, #T_fab99_row3_col8, #T_fab99_row3_col9, #T_fab99_row3_col10, #T_fab99_row3_col11, #T_fab99_row3_col12, #T_fab99_row3_col13, #T_fab99_row3_col14, #T_fab99_row3_col15, #T_fab99_row3_col16, #T_fab99_row3_col17, #T_fab99_row3_col18, #T_fab99_row3_col19, #T_fab99_row3_col20, #T_fab99_row3_col21, #T_fab99_row4_col0, #T_fab99_row4_col1, #T_fab99_row4_col2, #T_fab99_row4_col3, #T_fab99_row4_col4, #T_fab99_row4_col5, #T_fab99_row4_col6, #T_fab99_row4_col7, #T_fab99_row4_col8, #T_fab99_row4_col9, #T_fab99_row4_col10, #T_fab99_row4_col11, #T_fab99_row4_col12, #T_fab99_row4_col13, #T_fab99_row4_col14, #T_fab99_row4_col15, #T_fab99_row4_col16, #T_fab99_row4_col17, #T_fab99_row4_col18, #T_fab99_row4_col19, #T_fab99_row4_col20, #T_fab99_row4_col21, #T_fab99_row5_col0, #T_fab99_row5_col1, #T_fab99_row5_col2, #T_fab99_row5_col3, #T_fab99_row5_col4, #T_fab99_row5_col5, #T_fab99_row5_col6, #T_fab99_row5_col7, #T_fab99_row5_col8, #T_fab99_row5_col9, #T_fab99_row5_col10, #T_fab99_row5_col11, #T_fab99_row5_col12, #T_fab99_row5_col13, #T_fab99_row5_col14, #T_fab99_row5_col15, #T_fab99_row5_col16, #T_fab99_row5_col17, #T_fab99_row5_col18, #T_fab99_row5_col19, #T_fab99_row5_col20, #T_fab99_row5_col21, #T_fab99_row6_col0, #T_fab99_row6_col1, #T_fab99_row6_col2, #T_fab99_row6_col3, #T_fab99_row6_col4, #T_fab99_row6_col5, #T_fab99_row6_col6, #T_fab99_row6_col7, #T_fab99_row6_col8, #T_fab99_row6_col9, #T_fab99_row6_col10, #T_fab99_row6_col11, #T_fab99_row6_col12, #T_fab99_row6_col13, #T_fab99_row6_col14, #T_fab99_row6_col15, #T_fab99_row6_col16, #T_fab99_row6_col17, #T_fab99_row6_col18, #T_fab99_row6_col19, #T_fab99_row6_col20, #T_fab99_row6_col21, #T_fab99_row7_col0, #T_fab99_row7_col1, #T_fab99_row7_col2, #T_fab99_row7_col3, #T_fab99_row7_col4, #T_fab99_row7_col5, #T_fab99_row7_col6, #T_fab99_row7_col7, #T_fab99_row7_col8, #T_fab99_row7_col9, #T_fab99_row7_col10, #T_fab99_row7_col11, #T_fab99_row7_col12, #T_fab99_row7_col13, #T_fab99_row7_col14, #T_fab99_row7_col15, #T_fab99_row7_col16, #T_fab99_row7_col17, #T_fab99_row7_col18, #T_fab99_row7_col19, #T_fab99_row7_col20, #T_fab99_row7_col21 {\n",
       "  font-size: 14px;\n",
       "  background-color: white;\n",
       "  color: black;\n",
       "  border-collapse: collapse;\n",
       "  margin: 10px;\n",
       "}\n",
       "</style>\n",
       "<table id=\"T_fab99\">\n",
       "  <thead>\n",
       "    <tr>\n",
       "      <th class=\"blank level0\" >&nbsp;</th>\n",
       "      <th id=\"T_fab99_level0_col0\" class=\"col_heading level0 col0\" >Diabetes_012</th>\n",
       "      <th id=\"T_fab99_level0_col1\" class=\"col_heading level0 col1\" >HighBP</th>\n",
       "      <th id=\"T_fab99_level0_col2\" class=\"col_heading level0 col2\" >HighChol</th>\n",
       "      <th id=\"T_fab99_level0_col3\" class=\"col_heading level0 col3\" >CholCheck</th>\n",
       "      <th id=\"T_fab99_level0_col4\" class=\"col_heading level0 col4\" >BMI</th>\n",
       "      <th id=\"T_fab99_level0_col5\" class=\"col_heading level0 col5\" >Smoker</th>\n",
       "      <th id=\"T_fab99_level0_col6\" class=\"col_heading level0 col6\" >Stroke</th>\n",
       "      <th id=\"T_fab99_level0_col7\" class=\"col_heading level0 col7\" >HeartDiseaseorAttack</th>\n",
       "      <th id=\"T_fab99_level0_col8\" class=\"col_heading level0 col8\" >PhysActivity</th>\n",
       "      <th id=\"T_fab99_level0_col9\" class=\"col_heading level0 col9\" >Fruits</th>\n",
       "      <th id=\"T_fab99_level0_col10\" class=\"col_heading level0 col10\" >Veggies</th>\n",
       "      <th id=\"T_fab99_level0_col11\" class=\"col_heading level0 col11\" >HvyAlcoholConsump</th>\n",
       "      <th id=\"T_fab99_level0_col12\" class=\"col_heading level0 col12\" >AnyHealthcare</th>\n",
       "      <th id=\"T_fab99_level0_col13\" class=\"col_heading level0 col13\" >NoDocbcCost</th>\n",
       "      <th id=\"T_fab99_level0_col14\" class=\"col_heading level0 col14\" >GenHlth</th>\n",
       "      <th id=\"T_fab99_level0_col15\" class=\"col_heading level0 col15\" >MentHlth</th>\n",
       "      <th id=\"T_fab99_level0_col16\" class=\"col_heading level0 col16\" >PhysHlth</th>\n",
       "      <th id=\"T_fab99_level0_col17\" class=\"col_heading level0 col17\" >DiffWalk</th>\n",
       "      <th id=\"T_fab99_level0_col18\" class=\"col_heading level0 col18\" >Sex</th>\n",
       "      <th id=\"T_fab99_level0_col19\" class=\"col_heading level0 col19\" >Age</th>\n",
       "      <th id=\"T_fab99_level0_col20\" class=\"col_heading level0 col20\" >Education</th>\n",
       "      <th id=\"T_fab99_level0_col21\" class=\"col_heading level0 col21\" >Income</th>\n",
       "    </tr>\n",
       "  </thead>\n",
       "  <tbody>\n",
       "    <tr>\n",
       "      <th id=\"T_fab99_level0_row0\" class=\"row_heading level0 row0\" >count</th>\n",
       "      <td id=\"T_fab99_row0_col0\" class=\"data row0 col0\" >253680.000000</td>\n",
       "      <td id=\"T_fab99_row0_col1\" class=\"data row0 col1\" >253680.000000</td>\n",
       "      <td id=\"T_fab99_row0_col2\" class=\"data row0 col2\" >253680.000000</td>\n",
       "      <td id=\"T_fab99_row0_col3\" class=\"data row0 col3\" >253680.000000</td>\n",
       "      <td id=\"T_fab99_row0_col4\" class=\"data row0 col4\" >253680.000000</td>\n",
       "      <td id=\"T_fab99_row0_col5\" class=\"data row0 col5\" >253680.000000</td>\n",
       "      <td id=\"T_fab99_row0_col6\" class=\"data row0 col6\" >253680.000000</td>\n",
       "      <td id=\"T_fab99_row0_col7\" class=\"data row0 col7\" >253680.000000</td>\n",
       "      <td id=\"T_fab99_row0_col8\" class=\"data row0 col8\" >253680.000000</td>\n",
       "      <td id=\"T_fab99_row0_col9\" class=\"data row0 col9\" >253680.000000</td>\n",
       "      <td id=\"T_fab99_row0_col10\" class=\"data row0 col10\" >253680.000000</td>\n",
       "      <td id=\"T_fab99_row0_col11\" class=\"data row0 col11\" >253680.000000</td>\n",
       "      <td id=\"T_fab99_row0_col12\" class=\"data row0 col12\" >253680.000000</td>\n",
       "      <td id=\"T_fab99_row0_col13\" class=\"data row0 col13\" >253680.000000</td>\n",
       "      <td id=\"T_fab99_row0_col14\" class=\"data row0 col14\" >253680.000000</td>\n",
       "      <td id=\"T_fab99_row0_col15\" class=\"data row0 col15\" >253680.000000</td>\n",
       "      <td id=\"T_fab99_row0_col16\" class=\"data row0 col16\" >253680.000000</td>\n",
       "      <td id=\"T_fab99_row0_col17\" class=\"data row0 col17\" >253680.000000</td>\n",
       "      <td id=\"T_fab99_row0_col18\" class=\"data row0 col18\" >253680.000000</td>\n",
       "      <td id=\"T_fab99_row0_col19\" class=\"data row0 col19\" >253680.000000</td>\n",
       "      <td id=\"T_fab99_row0_col20\" class=\"data row0 col20\" >253680.000000</td>\n",
       "      <td id=\"T_fab99_row0_col21\" class=\"data row0 col21\" >253680.000000</td>\n",
       "    </tr>\n",
       "    <tr>\n",
       "      <th id=\"T_fab99_level0_row1\" class=\"row_heading level0 row1\" >mean</th>\n",
       "      <td id=\"T_fab99_row1_col0\" class=\"data row1 col0\" >0.296921</td>\n",
       "      <td id=\"T_fab99_row1_col1\" class=\"data row1 col1\" >0.429001</td>\n",
       "      <td id=\"T_fab99_row1_col2\" class=\"data row1 col2\" >0.424121</td>\n",
       "      <td id=\"T_fab99_row1_col3\" class=\"data row1 col3\" >0.962670</td>\n",
       "      <td id=\"T_fab99_row1_col4\" class=\"data row1 col4\" >28.382364</td>\n",
       "      <td id=\"T_fab99_row1_col5\" class=\"data row1 col5\" >0.443169</td>\n",
       "      <td id=\"T_fab99_row1_col6\" class=\"data row1 col6\" >0.040571</td>\n",
       "      <td id=\"T_fab99_row1_col7\" class=\"data row1 col7\" >0.094186</td>\n",
       "      <td id=\"T_fab99_row1_col8\" class=\"data row1 col8\" >0.756544</td>\n",
       "      <td id=\"T_fab99_row1_col9\" class=\"data row1 col9\" >0.634256</td>\n",
       "      <td id=\"T_fab99_row1_col10\" class=\"data row1 col10\" >0.811420</td>\n",
       "      <td id=\"T_fab99_row1_col11\" class=\"data row1 col11\" >0.056197</td>\n",
       "      <td id=\"T_fab99_row1_col12\" class=\"data row1 col12\" >0.951053</td>\n",
       "      <td id=\"T_fab99_row1_col13\" class=\"data row1 col13\" >0.084177</td>\n",
       "      <td id=\"T_fab99_row1_col14\" class=\"data row1 col14\" >2.511392</td>\n",
       "      <td id=\"T_fab99_row1_col15\" class=\"data row1 col15\" >3.184772</td>\n",
       "      <td id=\"T_fab99_row1_col16\" class=\"data row1 col16\" >4.242081</td>\n",
       "      <td id=\"T_fab99_row1_col17\" class=\"data row1 col17\" >0.168224</td>\n",
       "      <td id=\"T_fab99_row1_col18\" class=\"data row1 col18\" >0.440342</td>\n",
       "      <td id=\"T_fab99_row1_col19\" class=\"data row1 col19\" >8.032119</td>\n",
       "      <td id=\"T_fab99_row1_col20\" class=\"data row1 col20\" >5.050434</td>\n",
       "      <td id=\"T_fab99_row1_col21\" class=\"data row1 col21\" >6.053875</td>\n",
       "    </tr>\n",
       "    <tr>\n",
       "      <th id=\"T_fab99_level0_row2\" class=\"row_heading level0 row2\" >std</th>\n",
       "      <td id=\"T_fab99_row2_col0\" class=\"data row2 col0\" >0.698160</td>\n",
       "      <td id=\"T_fab99_row2_col1\" class=\"data row2 col1\" >0.494934</td>\n",
       "      <td id=\"T_fab99_row2_col2\" class=\"data row2 col2\" >0.494210</td>\n",
       "      <td id=\"T_fab99_row2_col3\" class=\"data row2 col3\" >0.189571</td>\n",
       "      <td id=\"T_fab99_row2_col4\" class=\"data row2 col4\" >6.608694</td>\n",
       "      <td id=\"T_fab99_row2_col5\" class=\"data row2 col5\" >0.496761</td>\n",
       "      <td id=\"T_fab99_row2_col6\" class=\"data row2 col6\" >0.197294</td>\n",
       "      <td id=\"T_fab99_row2_col7\" class=\"data row2 col7\" >0.292087</td>\n",
       "      <td id=\"T_fab99_row2_col8\" class=\"data row2 col8\" >0.429169</td>\n",
       "      <td id=\"T_fab99_row2_col9\" class=\"data row2 col9\" >0.481639</td>\n",
       "      <td id=\"T_fab99_row2_col10\" class=\"data row2 col10\" >0.391175</td>\n",
       "      <td id=\"T_fab99_row2_col11\" class=\"data row2 col11\" >0.230302</td>\n",
       "      <td id=\"T_fab99_row2_col12\" class=\"data row2 col12\" >0.215759</td>\n",
       "      <td id=\"T_fab99_row2_col13\" class=\"data row2 col13\" >0.277654</td>\n",
       "      <td id=\"T_fab99_row2_col14\" class=\"data row2 col14\" >1.068477</td>\n",
       "      <td id=\"T_fab99_row2_col15\" class=\"data row2 col15\" >7.412847</td>\n",
       "      <td id=\"T_fab99_row2_col16\" class=\"data row2 col16\" >8.717951</td>\n",
       "      <td id=\"T_fab99_row2_col17\" class=\"data row2 col17\" >0.374066</td>\n",
       "      <td id=\"T_fab99_row2_col18\" class=\"data row2 col18\" >0.496429</td>\n",
       "      <td id=\"T_fab99_row2_col19\" class=\"data row2 col19\" >3.054220</td>\n",
       "      <td id=\"T_fab99_row2_col20\" class=\"data row2 col20\" >0.985774</td>\n",
       "      <td id=\"T_fab99_row2_col21\" class=\"data row2 col21\" >2.071148</td>\n",
       "    </tr>\n",
       "    <tr>\n",
       "      <th id=\"T_fab99_level0_row3\" class=\"row_heading level0 row3\" >min</th>\n",
       "      <td id=\"T_fab99_row3_col0\" class=\"data row3 col0\" >0.000000</td>\n",
       "      <td id=\"T_fab99_row3_col1\" class=\"data row3 col1\" >0.000000</td>\n",
       "      <td id=\"T_fab99_row3_col2\" class=\"data row3 col2\" >0.000000</td>\n",
       "      <td id=\"T_fab99_row3_col3\" class=\"data row3 col3\" >0.000000</td>\n",
       "      <td id=\"T_fab99_row3_col4\" class=\"data row3 col4\" >12.000000</td>\n",
       "      <td id=\"T_fab99_row3_col5\" class=\"data row3 col5\" >0.000000</td>\n",
       "      <td id=\"T_fab99_row3_col6\" class=\"data row3 col6\" >0.000000</td>\n",
       "      <td id=\"T_fab99_row3_col7\" class=\"data row3 col7\" >0.000000</td>\n",
       "      <td id=\"T_fab99_row3_col8\" class=\"data row3 col8\" >0.000000</td>\n",
       "      <td id=\"T_fab99_row3_col9\" class=\"data row3 col9\" >0.000000</td>\n",
       "      <td id=\"T_fab99_row3_col10\" class=\"data row3 col10\" >0.000000</td>\n",
       "      <td id=\"T_fab99_row3_col11\" class=\"data row3 col11\" >0.000000</td>\n",
       "      <td id=\"T_fab99_row3_col12\" class=\"data row3 col12\" >0.000000</td>\n",
       "      <td id=\"T_fab99_row3_col13\" class=\"data row3 col13\" >0.000000</td>\n",
       "      <td id=\"T_fab99_row3_col14\" class=\"data row3 col14\" >1.000000</td>\n",
       "      <td id=\"T_fab99_row3_col15\" class=\"data row3 col15\" >0.000000</td>\n",
       "      <td id=\"T_fab99_row3_col16\" class=\"data row3 col16\" >0.000000</td>\n",
       "      <td id=\"T_fab99_row3_col17\" class=\"data row3 col17\" >0.000000</td>\n",
       "      <td id=\"T_fab99_row3_col18\" class=\"data row3 col18\" >0.000000</td>\n",
       "      <td id=\"T_fab99_row3_col19\" class=\"data row3 col19\" >1.000000</td>\n",
       "      <td id=\"T_fab99_row3_col20\" class=\"data row3 col20\" >1.000000</td>\n",
       "      <td id=\"T_fab99_row3_col21\" class=\"data row3 col21\" >1.000000</td>\n",
       "    </tr>\n",
       "    <tr>\n",
       "      <th id=\"T_fab99_level0_row4\" class=\"row_heading level0 row4\" >25%</th>\n",
       "      <td id=\"T_fab99_row4_col0\" class=\"data row4 col0\" >0.000000</td>\n",
       "      <td id=\"T_fab99_row4_col1\" class=\"data row4 col1\" >0.000000</td>\n",
       "      <td id=\"T_fab99_row4_col2\" class=\"data row4 col2\" >0.000000</td>\n",
       "      <td id=\"T_fab99_row4_col3\" class=\"data row4 col3\" >1.000000</td>\n",
       "      <td id=\"T_fab99_row4_col4\" class=\"data row4 col4\" >24.000000</td>\n",
       "      <td id=\"T_fab99_row4_col5\" class=\"data row4 col5\" >0.000000</td>\n",
       "      <td id=\"T_fab99_row4_col6\" class=\"data row4 col6\" >0.000000</td>\n",
       "      <td id=\"T_fab99_row4_col7\" class=\"data row4 col7\" >0.000000</td>\n",
       "      <td id=\"T_fab99_row4_col8\" class=\"data row4 col8\" >1.000000</td>\n",
       "      <td id=\"T_fab99_row4_col9\" class=\"data row4 col9\" >0.000000</td>\n",
       "      <td id=\"T_fab99_row4_col10\" class=\"data row4 col10\" >1.000000</td>\n",
       "      <td id=\"T_fab99_row4_col11\" class=\"data row4 col11\" >0.000000</td>\n",
       "      <td id=\"T_fab99_row4_col12\" class=\"data row4 col12\" >1.000000</td>\n",
       "      <td id=\"T_fab99_row4_col13\" class=\"data row4 col13\" >0.000000</td>\n",
       "      <td id=\"T_fab99_row4_col14\" class=\"data row4 col14\" >2.000000</td>\n",
       "      <td id=\"T_fab99_row4_col15\" class=\"data row4 col15\" >0.000000</td>\n",
       "      <td id=\"T_fab99_row4_col16\" class=\"data row4 col16\" >0.000000</td>\n",
       "      <td id=\"T_fab99_row4_col17\" class=\"data row4 col17\" >0.000000</td>\n",
       "      <td id=\"T_fab99_row4_col18\" class=\"data row4 col18\" >0.000000</td>\n",
       "      <td id=\"T_fab99_row4_col19\" class=\"data row4 col19\" >6.000000</td>\n",
       "      <td id=\"T_fab99_row4_col20\" class=\"data row4 col20\" >4.000000</td>\n",
       "      <td id=\"T_fab99_row4_col21\" class=\"data row4 col21\" >5.000000</td>\n",
       "    </tr>\n",
       "    <tr>\n",
       "      <th id=\"T_fab99_level0_row5\" class=\"row_heading level0 row5\" >50%</th>\n",
       "      <td id=\"T_fab99_row5_col0\" class=\"data row5 col0\" >0.000000</td>\n",
       "      <td id=\"T_fab99_row5_col1\" class=\"data row5 col1\" >0.000000</td>\n",
       "      <td id=\"T_fab99_row5_col2\" class=\"data row5 col2\" >0.000000</td>\n",
       "      <td id=\"T_fab99_row5_col3\" class=\"data row5 col3\" >1.000000</td>\n",
       "      <td id=\"T_fab99_row5_col4\" class=\"data row5 col4\" >27.000000</td>\n",
       "      <td id=\"T_fab99_row5_col5\" class=\"data row5 col5\" >0.000000</td>\n",
       "      <td id=\"T_fab99_row5_col6\" class=\"data row5 col6\" >0.000000</td>\n",
       "      <td id=\"T_fab99_row5_col7\" class=\"data row5 col7\" >0.000000</td>\n",
       "      <td id=\"T_fab99_row5_col8\" class=\"data row5 col8\" >1.000000</td>\n",
       "      <td id=\"T_fab99_row5_col9\" class=\"data row5 col9\" >1.000000</td>\n",
       "      <td id=\"T_fab99_row5_col10\" class=\"data row5 col10\" >1.000000</td>\n",
       "      <td id=\"T_fab99_row5_col11\" class=\"data row5 col11\" >0.000000</td>\n",
       "      <td id=\"T_fab99_row5_col12\" class=\"data row5 col12\" >1.000000</td>\n",
       "      <td id=\"T_fab99_row5_col13\" class=\"data row5 col13\" >0.000000</td>\n",
       "      <td id=\"T_fab99_row5_col14\" class=\"data row5 col14\" >2.000000</td>\n",
       "      <td id=\"T_fab99_row5_col15\" class=\"data row5 col15\" >0.000000</td>\n",
       "      <td id=\"T_fab99_row5_col16\" class=\"data row5 col16\" >0.000000</td>\n",
       "      <td id=\"T_fab99_row5_col17\" class=\"data row5 col17\" >0.000000</td>\n",
       "      <td id=\"T_fab99_row5_col18\" class=\"data row5 col18\" >0.000000</td>\n",
       "      <td id=\"T_fab99_row5_col19\" class=\"data row5 col19\" >8.000000</td>\n",
       "      <td id=\"T_fab99_row5_col20\" class=\"data row5 col20\" >5.000000</td>\n",
       "      <td id=\"T_fab99_row5_col21\" class=\"data row5 col21\" >7.000000</td>\n",
       "    </tr>\n",
       "    <tr>\n",
       "      <th id=\"T_fab99_level0_row6\" class=\"row_heading level0 row6\" >75%</th>\n",
       "      <td id=\"T_fab99_row6_col0\" class=\"data row6 col0\" >0.000000</td>\n",
       "      <td id=\"T_fab99_row6_col1\" class=\"data row6 col1\" >1.000000</td>\n",
       "      <td id=\"T_fab99_row6_col2\" class=\"data row6 col2\" >1.000000</td>\n",
       "      <td id=\"T_fab99_row6_col3\" class=\"data row6 col3\" >1.000000</td>\n",
       "      <td id=\"T_fab99_row6_col4\" class=\"data row6 col4\" >31.000000</td>\n",
       "      <td id=\"T_fab99_row6_col5\" class=\"data row6 col5\" >1.000000</td>\n",
       "      <td id=\"T_fab99_row6_col6\" class=\"data row6 col6\" >0.000000</td>\n",
       "      <td id=\"T_fab99_row6_col7\" class=\"data row6 col7\" >0.000000</td>\n",
       "      <td id=\"T_fab99_row6_col8\" class=\"data row6 col8\" >1.000000</td>\n",
       "      <td id=\"T_fab99_row6_col9\" class=\"data row6 col9\" >1.000000</td>\n",
       "      <td id=\"T_fab99_row6_col10\" class=\"data row6 col10\" >1.000000</td>\n",
       "      <td id=\"T_fab99_row6_col11\" class=\"data row6 col11\" >0.000000</td>\n",
       "      <td id=\"T_fab99_row6_col12\" class=\"data row6 col12\" >1.000000</td>\n",
       "      <td id=\"T_fab99_row6_col13\" class=\"data row6 col13\" >0.000000</td>\n",
       "      <td id=\"T_fab99_row6_col14\" class=\"data row6 col14\" >3.000000</td>\n",
       "      <td id=\"T_fab99_row6_col15\" class=\"data row6 col15\" >2.000000</td>\n",
       "      <td id=\"T_fab99_row6_col16\" class=\"data row6 col16\" >3.000000</td>\n",
       "      <td id=\"T_fab99_row6_col17\" class=\"data row6 col17\" >0.000000</td>\n",
       "      <td id=\"T_fab99_row6_col18\" class=\"data row6 col18\" >1.000000</td>\n",
       "      <td id=\"T_fab99_row6_col19\" class=\"data row6 col19\" >10.000000</td>\n",
       "      <td id=\"T_fab99_row6_col20\" class=\"data row6 col20\" >6.000000</td>\n",
       "      <td id=\"T_fab99_row6_col21\" class=\"data row6 col21\" >8.000000</td>\n",
       "    </tr>\n",
       "    <tr>\n",
       "      <th id=\"T_fab99_level0_row7\" class=\"row_heading level0 row7\" >max</th>\n",
       "      <td id=\"T_fab99_row7_col0\" class=\"data row7 col0\" >2.000000</td>\n",
       "      <td id=\"T_fab99_row7_col1\" class=\"data row7 col1\" >1.000000</td>\n",
       "      <td id=\"T_fab99_row7_col2\" class=\"data row7 col2\" >1.000000</td>\n",
       "      <td id=\"T_fab99_row7_col3\" class=\"data row7 col3\" >1.000000</td>\n",
       "      <td id=\"T_fab99_row7_col4\" class=\"data row7 col4\" >98.000000</td>\n",
       "      <td id=\"T_fab99_row7_col5\" class=\"data row7 col5\" >1.000000</td>\n",
       "      <td id=\"T_fab99_row7_col6\" class=\"data row7 col6\" >1.000000</td>\n",
       "      <td id=\"T_fab99_row7_col7\" class=\"data row7 col7\" >1.000000</td>\n",
       "      <td id=\"T_fab99_row7_col8\" class=\"data row7 col8\" >1.000000</td>\n",
       "      <td id=\"T_fab99_row7_col9\" class=\"data row7 col9\" >1.000000</td>\n",
       "      <td id=\"T_fab99_row7_col10\" class=\"data row7 col10\" >1.000000</td>\n",
       "      <td id=\"T_fab99_row7_col11\" class=\"data row7 col11\" >1.000000</td>\n",
       "      <td id=\"T_fab99_row7_col12\" class=\"data row7 col12\" >1.000000</td>\n",
       "      <td id=\"T_fab99_row7_col13\" class=\"data row7 col13\" >1.000000</td>\n",
       "      <td id=\"T_fab99_row7_col14\" class=\"data row7 col14\" >5.000000</td>\n",
       "      <td id=\"T_fab99_row7_col15\" class=\"data row7 col15\" >30.000000</td>\n",
       "      <td id=\"T_fab99_row7_col16\" class=\"data row7 col16\" >30.000000</td>\n",
       "      <td id=\"T_fab99_row7_col17\" class=\"data row7 col17\" >1.000000</td>\n",
       "      <td id=\"T_fab99_row7_col18\" class=\"data row7 col18\" >1.000000</td>\n",
       "      <td id=\"T_fab99_row7_col19\" class=\"data row7 col19\" >13.000000</td>\n",
       "      <td id=\"T_fab99_row7_col20\" class=\"data row7 col20\" >6.000000</td>\n",
       "      <td id=\"T_fab99_row7_col21\" class=\"data row7 col21\" >8.000000</td>\n",
       "    </tr>\n",
       "  </tbody>\n",
       "</table>\n"
      ],
      "text/plain": [
       "<pandas.io.formats.style.Styler at 0x127590620>"
      ]
     },
     "execution_count": 5,
     "metadata": {},
     "output_type": "execute_result"
    }
   ],
   "source": [
    "styled_df = df1.describe().style \\\n",
    "    .set_table_styles([\n",
    "        {'selector': 'th', 'props': [('background-color', '#254E58'), ('color', 'white'), ('font-weight', 'bold'), ('text-align', 'left'), ('padding', '8px')]},\n",
    "        {'selector': 'td', 'props': [('padding', '8px')]}\n",
    "    ]) \\\n",
    "    .set_properties(**{'font-size': '14px', 'background-color': 'white', 'color':'black', 'border-collapse': 'collapse', 'margin': '10px'})\n",
    "\n",
    "# Display the styled DataFrame\n",
    "styled_df"
   ]
  },
  {
   "cell_type": "markdown",
   "metadata": {},
   "source": [
    "> <a id='2.3'></a><font face = \"courier\" size = \"+2\" color = \"black\"> 2.3|Imputation of Missing Values</font>"
   ]
  },
  {
   "cell_type": "markdown",
   "metadata": {},
   "source": [
    "To practice the imputation of missing values in dataframes, we randomly select 20% of rows of each feature and remove them from the dataset."
   ]
  },
  {
   "cell_type": "code",
   "execution_count": null,
   "metadata": {},
   "outputs": [],
   "source": []
  },
  {
   "cell_type": "markdown",
   "metadata": {},
   "source": [
    "> <a id='2.4'></a><font face = \"courier\" size = \"+2\" color = \"black\"> 2.4|Handling Outliers</font>"
   ]
  },
  {
   "cell_type": "code",
   "execution_count": null,
   "metadata": {},
   "outputs": [],
   "source": [
    "import numpy as np\n",
    "\n",
    "numeric_columns = ['Insulin', 'DiabetesPedigreeFunction',]\n",
    "\n",
    "for column_name in numeric_columns:\n",
    "    Q1 = np.percentile(df1[column_name], 25, interpolation='midpoint')\n",
    "    Q3 = np.percentile(df1[column_name], 75, interpolation='midpoint')\n",
    "\n",
    "    IQR = Q3 - Q1\n",
    "    low_lim = Q1 - 1.5 * IQR\n",
    "    up_lim = Q3 + 1.5 * IQR\n",
    "\n",
    "    # Find outliers in the specified column\n",
    "    outliers = df1[(df1[column_name] < low_lim) | (df1[column_name] > up_lim)][column_name]\n",
    "\n",
    "    # Replace outliers with the respective lower or upper limit\n",
    "    df1[column_name] = np.where(df1[column_name] < low_lim, low_lim, df1[column_name])\n",
    "    df1[column_name] = np.where(df1[column_name] > up_lim, up_lim, df1[column_name])"
   ]
  },
  {
   "cell_type": "markdown",
   "metadata": {},
   "source": [
    "> ### Get \\`input\\` and \\`target\\` columns"
   ]
  },
  {
   "cell_type": "code",
   "execution_count": null,
   "metadata": {},
   "outputs": [],
   "source": [
    "X = df1.drop('Outcome', axis = 1)\n",
    "y = df1['Outcome']"
   ]
  },
  {
   "cell_type": "markdown",
   "metadata": {},
   "source": [
    "> ### Splitting data for the training"
   ]
  },
  {
   "cell_type": "code",
   "execution_count": null,
   "metadata": {},
   "outputs": [],
   "source": [
    "from sklearn.model_selection import train_test_split\n",
    "\n",
    "X_train, X_test, y_train, y_test = train_test_split(X,y, test_size = 0.20)"
   ]
  },
  {
   "cell_type": "markdown",
   "metadata": {},
   "source": [
    "<div class=\"alert alert-block alert-info\">\n",
    "   <a id='4'></a><font face = \"courier\" size = \"+3\"> 4|Machine Learning Models</font>\n",
    "</div>"
   ]
  },
  {
   "cell_type": "markdown",
   "metadata": {},
   "source": [
    "> <a id='4.1'></a><font face = \"courier\" size = \"+2\" color = \"black\"> 4.1|Logistic Regression</font>"
   ]
  },
  {
   "cell_type": "code",
   "execution_count": 1,
   "metadata": {},
   "outputs": [
    {
     "ename": "NameError",
     "evalue": "name 'X_train' is not defined",
     "output_type": "error",
     "traceback": [
      "\u001b[0;31m---------------------------------------------------------------------------\u001b[0m",
      "\u001b[0;31mNameError\u001b[0m                                 Traceback (most recent call last)",
      "Cell \u001b[0;32mIn[1], line 3\u001b[0m\n\u001b[1;32m      1\u001b[0m \u001b[38;5;28;01mfrom\u001b[39;00m \u001b[38;5;21;01msklearn\u001b[39;00m\u001b[38;5;21;01m.\u001b[39;00m\u001b[38;5;21;01mlinear_model\u001b[39;00m \u001b[38;5;28;01mimport\u001b[39;00m LogisticRegression\n\u001b[1;32m      2\u001b[0m log_reg \u001b[38;5;241m=\u001b[39m LogisticRegression(C\u001b[38;5;241m=\u001b[39m\u001b[38;5;241m1\u001b[39m, penalty\u001b[38;5;241m=\u001b[39m\u001b[38;5;124m'\u001b[39m\u001b[38;5;124ml2\u001b[39m\u001b[38;5;124m'\u001b[39m, solver\u001b[38;5;241m=\u001b[39m\u001b[38;5;124m'\u001b[39m\u001b[38;5;124mliblinear\u001b[39m\u001b[38;5;124m'\u001b[39m, max_iter\u001b[38;5;241m=\u001b[39m\u001b[38;5;241m200\u001b[39m)\n\u001b[0;32m----> 3\u001b[0m log_reg\u001b[38;5;241m.\u001b[39mfit(\u001b[43mX_train\u001b[49m, y_train)\n",
      "\u001b[0;31mNameError\u001b[0m: name 'X_train' is not defined"
     ]
    }
   ],
   "source": [
    "from sklearn.linear_model import LogisticRegression\n",
    "log_reg = LogisticRegression(C=1, penalty='l2', solver='liblinear', max_iter=200)\n",
    "log_reg.fit(X_train, y_train)"
   ]
  },
  {
   "cell_type": "code",
   "execution_count": null,
   "metadata": {},
   "outputs": [],
   "source": [
    "from sklearn.metrics import confusion_matrix, accuracy_score\n",
    "import matplotlib.pyplot as plt\n",
    "import seaborn as sns\n",
    "\n",
    "def predict_and_plot(model, inputs, targets, name=''):\n",
    "    preds = model.predict(inputs)\n",
    "    accuracy = accuracy_score(targets, preds)\n",
    "    print(\"Accuracy: {:.2f}%\".format(accuracy * 100))\n",
    "    \n",
    "    cf = confusion_matrix(targets, preds, normalize='true')\n",
    "    plt.figure()\n",
    "    sns.heatmap(cf, annot=True)\n",
    "    plt.xlabel('Prediction')\n",
    "    plt.ylabel('Target')\n",
    "    plt.title('{} Confusion Matrix'.format(name))\n",
    "    \n",
    "    return preds\n",
    "\n",
    "# Predict and plot on the training data\n",
    "train_preds = predict_and_plot(log_reg, X_train, y_train, 'Train')\n",
    "\n",
    "# Predict and plot on the validation data\n",
    "val_preds = predict_and_plot(log_reg, X_test, y_test, 'Validation')"
   ]
  },
  {
   "cell_type": "markdown",
   "metadata": {},
   "source": [
    "<div style=\"border: 2px solid Maroon;\">\n",
    "    <p>Evaluate: Logistic Regression Model</p>\n",
    "    <p>Training Accuracy - 77.54%</p>\n",
    "    <p>Validation Accuracy - 77.68%</p>\n",
    "</div>"
   ]
  },
  {
   "cell_type": "markdown",
   "metadata": {},
   "source": [
    "> <a id='4.2'></a><font face = \"courier\" size = \"+2\" color = \"black\"> 4.2|K-nearest Neighbors</font>"
   ]
  },
  {
   "cell_type": "code",
   "execution_count": null,
   "metadata": {},
   "outputs": [],
   "source": [
    "from sklearn.neighbors import KNeighborsClassifier\n",
    "from sklearn.model_selection import train_test_split\n",
    "from sklearn.metrics import accuracy_score, confusion_matrix\n",
    "\n",
    "X_train, X_val, y_train, y_val = train_test_split(X, y, test_size=0.2, random_state=42)\n",
    "\n",
    "knn_model = KNeighborsClassifier(n_neighbors=5)\n",
    "\n",
    "knn_model.fit(X_train, y_train)\n",
    "\n",
    "y_train_pred = knn_model.predict(X_train)\n",
    "\n",
    "y_val_pred = knn_model.predict(X_val)\n",
    "\n",
    "train_accuracy = accuracy_score(y_train, y_train_pred)\n",
    "val_accuracy = accuracy_score(y_val, y_val_pred)\n",
    "\n",
    "print(\"Training Accuracy:\", train_accuracy)\n",
    "print(\"Validation Accuracy:\", val_accuracy)\n",
    "\n",
    "confusion = confusion_matrix(y_val, y_val_pred)\n",
    "\n",
    "plt.figure(figsize=(6, 4))\n",
    "sns.heatmap(confusion, annot=True, fmt='d', cmap='Blues', cbar=False)\n",
    "plt.xlabel('Predicted')\n",
    "plt.ylabel('Actual')\n",
    "plt.title('Confusion Matrix (Validation)')\n",
    "plt.show()"
   ]
  },
  {
   "cell_type": "markdown",
   "metadata": {},
   "source": [
    "<style>\n",
    "    blockquote {\n",
    "        background-color: #006969;\n",
    "        color: #fff;\n",
    "        border: 2px white;\n",
    "        border-radius: 8px;\n",
    "        font-weight: 500;\n",
    "        padding: 8px;\n",
    "    }\n",
    "</style>\n",
    "\n",
    "<body>\n",
    "   <blockquote>\n",
    "   <p>Evaluate: KNeighborsClassifier: Before Tunning</p>\n",
    "   <p>Training Accuracy - 80.0%</p>\n",
    "   <p>Validation Accuracy - 66.00%</p>\n",
    "   </blockquote>\n",
    "</body>"
   ]
  },
  {
   "cell_type": "markdown",
   "metadata": {},
   "source": [
    "> ### Hyperparameter Tuning of KNN"
   ]
  },
  {
   "cell_type": "code",
   "execution_count": null,
   "metadata": {},
   "outputs": [],
   "source": [
    "from sklearn.neighbors import KNeighborsClassifier\n",
    "from sklearn.model_selection import GridSearchCV\n",
    "from sklearn.metrics import accuracy_score\n",
    "\n",
    "param_grid = {\n",
    "    'n_neighbors': [1, 3, 5, 7, 9]  # Adjust the number of neighbors to explore\n",
    "}\n",
    "\n",
    "knn_model = KNeighborsClassifier()\n",
    "\n",
    "grid_search = GridSearchCV(knn_model, param_grid, cv=5, scoring='accuracy')\n",
    "grid_search.fit(X_train, y_train)\n",
    "\n",
    "best_model = grid_search.best_estimator_\n",
    "\n",
    "y_train_pred = best_model.predict(X_train)\n",
    "\n",
    "y_val_pred = best_model.predict(X_val)\n",
    "\n",
    "train_accuracy = accuracy_score(y_train, y_train_pred)\n",
    "val_accuracy = accuracy_score(y_val, y_val_pred)\n",
    "\n",
    "print(\"Training Accuracy with Best Hyperparameters:\", train_accuracy)\n",
    "print(\"Validation Accuracy with Best Hyperparameters:\", val_accuracy)"
   ]
  },
  {
   "cell_type": "markdown",
   "metadata": {},
   "source": [
    "<style>\n",
    "    blockquote {\n",
    "        background-color: #006969;\n",
    "        color: #fff;\n",
    "        border: 2px white;\n",
    "        border-radius: 8px;\n",
    "        font-weight: 500;\n",
    "        padding: 8px;\n",
    "    }\n",
    "</style>\n",
    "<body>\n",
    "   <blockquote>\n",
    "   <p>Evaluate: KNN After the Tunningg</p>\n",
    "   <p>Training Accuracy - 79.4%</p>\n",
    "   <p>Validation Accuracy - 72.7%</p>\n",
    "   </blockquote>\n",
    "</body>"
   ]
  },
  {
   "cell_type": "markdown",
   "metadata": {},
   "source": [
    "> <a id='4.3'></a><font face = \"courier\" size = \"+2\" color = \"black\"> 4.3|Gaussian Model</font>"
   ]
  },
  {
   "cell_type": "markdown",
   "metadata": {},
   "source": [
    "> <a id='4.4'></a><font face = \"courier\" size = \"+2\" color = \"black\"> 4.4|Decision Tree</font>"
   ]
  },
  {
   "cell_type": "code",
   "execution_count": null,
   "metadata": {},
   "outputs": [],
   "source": [
    "from sklearn.tree import DecisionTreeClassifier\n",
    "from sklearn.metrics import accuracy_score\n",
    "\n",
    "decision_tree_model = DecisionTreeClassifier(random_state=42)\n",
    "\n",
    "decision_tree_model.fit(X_train, y_train)\n",
    "\n",
    "train_accuracy = decision_tree_model.score(X_train, y_train)\n",
    "val_accuracy = decision_tree_model.score(X_test, y_test)\n",
    "\n",
    "print(\"Training Accuracy:\", train_accuracy)\n",
    "print(\"Validation Accuracy:\", val_accuracy)"
   ]
  },
  {
   "cell_type": "markdown",
   "metadata": {},
   "source": [
    "<style>\n",
    "    blockquote {\n",
    "        background-color: #006969;\n",
    "        color: #fff;\n",
    "        border: 2px white;\n",
    "        border-radius: 8px;\n",
    "        font-weight: 500;\n",
    "        padding: 8px;\n",
    "    }\n",
    "</style>\n",
    "<body>\n",
    "   <blockquote>\n",
    "   <p>Evaluate: Decision Tree Model: Before Tunning</p>\n",
    "   <p>Training Accuracy - 100%</p>\n",
    "   <p>Validation Accuracy - 75.0%</p>\n",
    "   <p>Tree model is overfitting the training data, as it's achieving perfect accuracy on the training data but lower accuracy on the validation data.</p>\n",
    "   </blockquote>\n",
    "</body>"
   ]
  },
  {
   "cell_type": "markdown",
   "metadata": {},
   "source": [
    "> ### Hyperparameter Tuning Of Decision Tree\n",
    "\n"
   ]
  },
  {
   "cell_type": "code",
   "execution_count": null,
   "metadata": {},
   "outputs": [],
   "source": [
    "from sklearn.tree import DecisionTreeClassifier\n",
    "from sklearn.model_selection import GridSearchCV\n",
    "\n",
    "param_grid = {\n",
    "    'max_depth': [None, 5, 10, 15, 20],\n",
    "    'min_samples_split': [2, 5, 10, 15, 20, 25],\n",
    "    'min_samples_leaf': [1, 3, 5, 7],\n",
    "    'criterion': ['gini', 'entropy']  # Add criterion hyperparameter\n",
    "}\n",
    "\n",
    "decision_tree_model = DecisionTreeClassifier(random_state=42)\n",
    "\n",
    "grid_search = GridSearchCV(decision_tree_model, param_grid, cv=5, n_jobs=-1, scoring='accuracy')\n",
    "grid_search.fit(X_train, y_train)\n",
    "\n",
    "best_model = grid_search.best_estimator_\n",
    "\n",
    "best_model.fit(X_train, y_train)\n",
    "\n",
    "train_accuracy = best_model.score(X_train, y_train)\n",
    "val_accuracy = best_model.score(X_test, y_test)\n",
    "\n",
    "print(\"Training Accuracy:\", train_accuracy)\n",
    "print(\"Validation Accuracy:\", val_accuracy)"
   ]
  },
  {
   "cell_type": "markdown",
   "metadata": {},
   "source": [
    "<style>\n",
    "    blockquote {\n",
    "        background-color: #006969;\n",
    "        color: #fff;\n",
    "        border: 2px white;\n",
    "        border-radius: 8px;\n",
    "        font-weight: 500;\n",
    "        padding: 8px;\n",
    "    }\n",
    "</style>\n",
    "<body>\n",
    "   <blockquote>\n",
    "   <p>Evaluate: Decision Tree Model</p>\n",
    "   <p>Training Accuracy - 82.2%</p>\n",
    "   <p>Validation Accuracy - 85.5%</p>\n",
    "   <p>It has reduced overfitting compared to the initial model And Improve the result.</p>\n",
    "   </blockquote>\n",
    "</body>"
   ]
  },
  {
   "cell_type": "markdown",
   "metadata": {},
   "source": [
    "> <a id='4.5'></a><font face = \"courier\" size = \"+2\" color = \"black\"> 4.5|Random Forest</font>"
   ]
  },
  {
   "cell_type": "code",
   "execution_count": null,
   "metadata": {},
   "outputs": [],
   "source": [
    "from sklearn.ensemble import RandomForestClassifier\n",
    "model_2 = RandomForestClassifier(n_jobs =-1, random_state = 42)\n",
    "model_2.fit(X_train,y_train)"
   ]
  },
  {
   "cell_type": "code",
   "execution_count": null,
   "metadata": {},
   "outputs": [],
   "source": [
    "model_2.score(X_train,y_train)"
   ]
  },
  {
   "cell_type": "code",
   "execution_count": null,
   "metadata": {},
   "outputs": [],
   "source": [
    "def predict_and_plot(model, inputs,targets, name = ''):\n",
    "    preds = model.predict(inputs)\n",
    "    accuracy = accuracy_score(targets, preds)\n",
    "    print(\"Accuracy: {:.2f}%\".format(accuracy*100))\n",
    "    \n",
    "    cf = confusion_matrix(targets, preds, normalize = 'true')\n",
    "    plt.figure()\n",
    "    sns.heatmap(cf, annot = True)\n",
    "    plt.xlabel('Prediction')\n",
    "    plt.ylabel('Target')\n",
    "    plt.title('{} Confusion Matrix'. format(name))\n",
    "    \n",
    "    return preds\n",
    "\n",
    "train_preds = predict_and_plot(model_2, X_train, y_train, 'Train')\n",
    "\n",
    "# Predict and plot on the validation data\n",
    "val_preds = predict_and_plot(model_2, X_test, y_test, 'Validation')"
   ]
  },
  {
   "cell_type": "markdown",
   "metadata": {},
   "source": [
    "</body>\n",
    "<style>\n",
    "    blockquote {\n",
    "        background-color: #006969;\n",
    "        color: #fff;\n",
    "        border: 2px white;\n",
    "        border-radius: 8px;\n",
    "        font-weight: 500;\n",
    "        padding: 8px;\n",
    "    }\n",
    "</style>\n",
    "<body>\n",
    "   <blockquote>\n",
    "   <p>Evaluate: Random Forest Before Tunning</p>\n",
    "   <p>Training Accuracy - 96.00%</p>\n",
    "   <p>Validation Accuracy - 78.08%</p>\n",
    "   <p>This model seems to be overfitting as training accuracy is very high and the validation accuracy is not so.</p>\n",
    "   </blockquote>\n",
    "</body>"
   ]
  },
  {
   "cell_type": "markdown",
   "metadata": {},
   "source": [
    "> ### Hyperparameter Tuning of Random Forest"
   ]
  },
  {
   "cell_type": "code",
   "execution_count": null,
   "metadata": {},
   "outputs": [],
   "source": [
    "from sklearn.ensemble import RandomForestClassifier\n",
    "from sklearn.model_selection import GridSearchCV\n",
    "from sklearn.ensemble import RandomForestClassifier\n",
    "from sklearn.metrics import accuracy_score\n",
    "\n",
    "param_grid = {\n",
    "    'n_estimators': [10, 20, 30],  # Adjust the number of trees in the forest\n",
    "    'max_depth': [10, 20, 30],  # Adjust the maximum depth of each tree\n",
    "    'min_samples_split': [2, 5, 10, 15, 20],  # Adjust the minimum samples required to split a node\n",
    "    'min_samples_leaf': [1, 2, 4, 6, 8]  # Adjust the minimum samples required in a leaf node\n",
    "}\n",
    "\n",
    "model = RandomForestClassifier(random_state=42, n_jobs=-1)\n",
    "grid_search = GridSearchCV(model, param_grid, cv=5, n_jobs=-1, scoring='accuracy')\n",
    "grid_search.fit(X_train, y_train)\n",
    "best_model = grid_search.best_estimator_\n",
    "\n",
    "best_model.fit(X_train, y_train)\n",
    "\n",
    "# Evaluate the model on the training and validation data\n",
    "train_accuracy = best_model.score(X_train, y_train)\n",
    "val_accuracy = best_model.score(X_test, y_test)\n",
    "\n",
    "# Print the results\n",
    "print(\"Training Accuracy:\", train_accuracy)\n",
    "print(\"Validation Accuracy:\", val_accuracy)"
   ]
  },
  {
   "cell_type": "markdown",
   "metadata": {},
   "source": [
    "</body>\n",
    "<style>\n",
    "    blockquote {\n",
    "        background-color: #006969;\n",
    "        color: #fff;\n",
    "        border: 2px white;\n",
    "        border-radius: 8px;\n",
    "        font-weight: 500;\n",
    "        padding: 8px;\n",
    "    }\n",
    "</style>\n",
    "<body>\n",
    "   <blockquote>\n",
    "   <p>Evaluate: Random Forest Model After Hyperparameter Tunning\n",
    "</p>\n",
    "   <p>Training Accuracy - 89.2%</p>\n",
    "   <p>Validation Accuracy - 87.6%</p>\n",
    "   <p>It has reduced overfitting compared to the initial model.And Improve the accuracy.</p>\n",
    "   </blockquote>\n",
    "</body>"
   ]
  },
  {
   "cell_type": "markdown",
   "metadata": {},
   "source": [
    "> <a id='4.6'></a><font face = \"courier\" size = \"+2\" color = \"black\"> 4.6|XGBoost</font>"
   ]
  },
  {
   "cell_type": "code",
   "execution_count": null,
   "metadata": {},
   "outputs": [],
   "source": [
    "from xgboost import XGBClassifier\n",
    "\n",
    "# Create an XGBoost classifier\n",
    "xgboost_model = XGBClassifier(n_estimators=100, max_depth=3, random_state=42)\n",
    "\n",
    "# Fit the XGBoost model to the training data\n",
    "xgboost_model.fit(X_train, y_train)\n",
    "\n",
    "# Make predictions on the training data\n",
    "y_train_pred_xgboost = xgboost_model.predict(X_train)\n",
    "\n",
    "# Make predictions on the validation data\n",
    "y_val_pred_xgboost = xgboost_model.predict(X_val)\n",
    "\n",
    "# Calculate the training accuracy\n",
    "train_accuracy_xgboost = accuracy_score(y_train, y_train_pred_xgboost)\n",
    "\n",
    "# Calculate the validation accuracy\n",
    "val_accuracy_xgboost = accuracy_score(y_val, y_val_pred_xgboost)\n",
    "\n",
    "# Print the training and validation accuracies\n",
    "print(\"XGBoost Training Accuracy:\", train_accuracy_xgboost)\n",
    "print(\"XGBoost Validation Accuracy:\", val_accuracy_xgboost)"
   ]
  },
  {
   "cell_type": "markdown",
   "metadata": {},
   "source": [
    "</body>\n",
    "<style>\n",
    "    blockquote {\n",
    "        background-color: #006969;\n",
    "        color: #fff;\n",
    "        border: 2px white;\n",
    "        border-radius: 8px;\n",
    "        font-weight: 500;\n",
    "        padding: 8px;\n",
    "    }\n",
    "</style>\n",
    "<body>\n",
    "   <blockquote>\n",
    "   <p>Evaluate: xgboost Classifier\n",
    "</p>\n",
    "   <p>Training Accuracy - 98.4%</p>\n",
    "   <p>Validation Accuracy - 72.7%</p>\n",
    "   </blockquote>\n",
    "</body>"
   ]
  },
  {
   "cell_type": "markdown",
   "metadata": {},
   "source": [
    "> <a id='4.7'></a><font face = \"courier\" size = \"+2\" color = \"black\"> 4.7|Neural Network</font>"
   ]
  },
  {
   "cell_type": "code",
   "execution_count": null,
   "metadata": {},
   "outputs": [
    {
     "name": "stdout",
     "output_type": "stream",
     "text": [
      "Object `?` not found.\n"
     ]
    }
   ],
   "source": [
    "???"
   ]
  },
  {
   "cell_type": "markdown",
   "metadata": {},
   "source": [
    "> <a id='4.8'></a><font face = \"courier\" size = \"+2\" color = \"black\"> 4.8|Support Vector Classifier</font>"
   ]
  },
  {
   "cell_type": "code",
   "execution_count": null,
   "metadata": {},
   "outputs": [],
   "source": [
    "X_train, X_val, y_train, y_val = train_test_split(X, y, test_size=0.2, random_state=42)\n",
    "\n",
    "svm_model = SVC(kernel='linear')\n",
    "\n",
    "svm_model.fit(X_train, y_train)\n",
    "\n",
    "y_train_pred = svm_model.predict(X_train)\n",
    "\n",
    "y_val_pred = svm_model.predict(X_val)\n",
    "\n",
    "train_accuracy = accuracy_score(y_train, y_train_pred)\n",
    "\n",
    "val_accuracy = accuracy_score(y_val, y_val_pred)\n",
    "\n",
    "print(\"Training Accuracy:\", train_accuracy)\n",
    "print(\"Validation Accuracy:\", val_accuracy)\n",
    "\n",
    "train_confusion = confusion_matrix(y_train, y_train_pred)\n",
    "val_confusion = confusion_matrix(y_val, y_val_pred)\n",
    "\n",
    "plt.figure(figsize=(12, 5))\n",
    "plt.subplot(1, 2, 1)\n",
    "sns.heatmap(train_confusion, annot=True, fmt='d', cmap='Blues', cbar=False)\n",
    "plt.xlabel('Predicted')\n",
    "plt.ylabel('Actual')\n",
    "plt.title('Confusion Matrix (Training)')\n",
    "\n",
    "plt.subplot(1, 2, 2)\n",
    "sns.heatmap(val_confusion, annot=True, fmt='d', cmap='Blues', cbar=False)\n",
    "plt.xlabel('Predicted')\n",
    "plt.ylabel('Actual')\n",
    "plt.title('Confusion Matrix (Validation)')\n",
    "plt.show()"
   ]
  },
  {
   "cell_type": "markdown",
   "metadata": {},
   "source": [
    "</body>\n",
    "<style>\n",
    "    blockquote {\n",
    "        background-color: #006969;\n",
    "        color: #fff;\n",
    "        border: 2px white;\n",
    "        border-radius: 8px;\n",
    "        font-weight: 500;\n",
    "        padding: 8px;\n",
    "    }\n",
    "</style>\n",
    "<body>\n",
    "   <blockquote>\n",
    "   <p>Evaluate: Support Vector\n",
    "</p>\n",
    "   <p>Training Accuracy - 77.8%</p>\n",
    "   <p>Validation Accuracy - 77.2%</p>\n",
    "   </blockquote>\n",
    "</body>"
   ]
  },
  {
   "cell_type": "markdown",
   "metadata": {},
   "source": [
    "> <a id='4.9'></a><font face = \"courier\" size = \"+2\" color = \"black\"> 4.9|AdaBoost Classifier</font> "
   ]
  },
  {
   "cell_type": "code",
   "execution_count": null,
   "metadata": {},
   "outputs": [],
   "source": [
    "from sklearn.ensemble import AdaBoostClassifier\n",
    "from sklearn.metrics import accuracy_score, confusion_matrix\n",
    "\n",
    "adaboost_model = AdaBoostClassifier(n_estimators=50, random_state=42)\n",
    "\n",
    "adaboost_model.fit(X_train, y_train)\n",
    "\n",
    "y_train_pred_adaboost = adaboost_model.predict(X_train)\n",
    "\n",
    "y_val_pred_adaboost = adaboost_model.predict(X_val)\n",
    "\n",
    "train_accuracy_adaboost = accuracy_score(y_train, y_train_pred_adaboost)\n",
    "\n",
    "val_accuracy_adaboost = accuracy_score(y_val, y_val_pred_adaboost)\n",
    "\n",
    "print(\"AdaBoost Training Accuracy:\", train_accuracy_adaboost)\n",
    "print(\"AdaBoost Validation Accuracy:\", val_accuracy_adaboost)\n",
    "\n",
    "confusion_adaboost = confusion_matrix(y_val, y_val_pred_adaboost)\n",
    "\n",
    "# Plot the confusion matrix\n",
    "plt.figure()\n",
    "sns.heatmap(confusion_adaboost, annot=True, fmt='d', cmap='Blues', cbar=False)\n",
    "plt.xlabel('Predicted')\n",
    "plt.ylabel('Actual')\n",
    "plt.title('AdaBoost Confusion Matrix (Validation)')\n",
    "plt.show()"
   ]
  },
  {
   "cell_type": "markdown",
   "metadata": {},
   "source": [
    "<style>\n",
    "    blockquote {\n",
    "        background-color: #006969;\n",
    "        color: #fff;\n",
    "        border: 2px white;\n",
    "        border-radius: 8px;\n",
    "        font-weight: 500;\n",
    "        padding: 8px;\n",
    "    }\n",
    "</style>\n",
    "<body>\n",
    "   <blockquote>\n",
    "   <p>Evaluate: AdaBoost Classifier\n",
    "</p>\n",
    "   <p>Training Accuracy - 82.4%</p>\n",
    "   <p>Validation Accuracy - 74.0%</p>\n",
    "   </blockquote>\n",
    "</body>"
   ]
  },
  {
   "cell_type": "markdown",
   "metadata": {},
   "source": [
    "> <a id='4.10'></a><font face = \"courier\" size = \"+2\" color = \"black\"> 4.10|Gradient Boosting Classifier</font> "
   ]
  },
  {
   "cell_type": "code",
   "execution_count": null,
   "metadata": {},
   "outputs": [],
   "source": [
    "from sklearn.ensemble import GradientBoostingClassifier\n",
    "\n",
    "# Create a Gradient Boosting classifier\n",
    "gbm_model = GradientBoostingClassifier(n_estimators=100, max_depth=3, random_state=42)\n",
    "\n",
    "# Fit the GBM model to the training data\n",
    "gbm_model.fit(X_train, y_train)\n",
    "\n",
    "# Make predictions on the training data\n",
    "y_train_pred_gbm = gbm_model.predict(X_train)\n",
    "\n",
    "# Make predictions on the validation data\n",
    "y_val_pred_gbm = gbm_model.predict(X_val)\n",
    "\n",
    "# Calculate the training accuracy\n",
    "train_accuracy_gbm = accuracy_score(y_train, y_train_pred_gbm)\n",
    "\n",
    "# Calculate the validation accuracy\n",
    "val_accuracy_gbm = accuracy_score(y_val, y_val_pred_gbm)\n",
    "\n",
    "# Print the training and validation accuracies\n",
    "print(\"GBM Training Accuracy:\", train_accuracy_gbm)\n",
    "print(\"GBM Validation Accuracy:\", val_accuracy_gbm)"
   ]
  },
  {
   "cell_type": "markdown",
   "metadata": {},
   "source": [
    "<style>\n",
    "    blockquote {\n",
    "        background-color: #006969;\n",
    "        color: #fff;\n",
    "        border: 2px white;\n",
    "        border-radius: 8px;\n",
    "        font-weight: 500;\n",
    "        padding: 8px;\n",
    "    }\n",
    "</style>\n",
    "<body>\n",
    "   <blockquote>\n",
    "   <p>Evaluate: Gradient Boosting Classifier\n",
    "</p>\n",
    "   <p>Training Accuracy - 94.2%</p>\n",
    "   <p>Validation Accuracy - 75.3%</p>\n",
    "   </blockquote>\n",
    "</body>"
   ]
  },
  {
   "cell_type": "markdown",
   "metadata": {},
   "source": [
    "<div class=\"alert alert-block alert-info\">\n",
    "   <a id='5'></a><font face = \"courier\" size = \"+3\"> 5|Conclusion</font>\n",
    "</div>"
   ]
  },
  {
   "cell_type": "markdown",
   "metadata": {},
   "source": [
    "> ### Best Result"
   ]
  },
  {
   "cell_type": "markdown",
   "metadata": {},
   "source": [
    "\n",
    "<style>\n",
    "    blockquote {\n",
    "        background-color: #006969;\n",
    "        color: #fff;\n",
    "        border: 2px white;\n",
    "        border-radius: 8px;\n",
    "        font-weight: 500;\n",
    "        padding: 8px;\n",
    "    }\n",
    "</style>\n",
    "<body>\n",
    "   <blockquote>\n",
    "   <p>Evaluate: andom Forest Model After Hyperparameter Tunning\n",
    "\n",
    "</p>\n",
    "   <p>Training Accuracy - 89.2%</p>\n",
    "   <p>Validation Accuracy - 87.6%</p>\n",
    "   </blockquote>\n",
    "</body>"
   ]
  },
  {
   "cell_type": "markdown",
   "metadata": {},
   "source": [
    "> ### Future Work"
   ]
  },
  {
   "cell_type": "markdown",
   "metadata": {},
   "source": [
    "<style>\n",
    "    blockquote {\n",
    "        background-color: #006969;\n",
    "        color: #fff;\n",
    "        border: 2px white;\n",
    "        border-radius: 8px;\n",
    "        font-weight: 500;\n",
    "        padding: 8px;\n",
    "    }\n",
    "</style>\n",
    "<body>\n",
    "   <blockquote>\n",
    "   <p>Betterment of results using different hyperparameters for tuning\n",
    "\n",
    "</p>\n",
    "   <p>Implementing more models to gain better results</p>\n",
    "   <p>Using the same method to predict response</p>\n",
    "   </blockquote>\n",
    "</body>"
   ]
  },
  {
   "cell_type": "markdown",
   "metadata": {},
   "source": [
    "<div class=\"alert alert-block alert-info\">\n",
    "   <a id='6'></a><font face = \"courier\" size = \"+3\"> 6|Author Message</font>\n",
    "</div>"
   ]
  },
  {
   "cell_type": "markdown",
   "metadata": {},
   "source": [
    "Author : Alaittin Kirtisoglu\n",
    "\n",
    "\n",
    "👉Read more project : \n",
    "\n",
    "👉Shoot me emails : akirtisoglu@hawk.iit.edu\n",
    "\n",
    "👉Connect on LinkedIn : https://www.linkedin.com/in/alaittin-kirtisoglu/\n",
    "\n",
    "👉Explore Github : https://github.com/kirtisoglu\n",
    "\n",
    "If you have any questions, feel free to comment!\n",
    "\n",
    "\n",
    "✨Best Wishes✨"
   ]
  }
 ],
 "metadata": {
  "kernelspec": {
   "display_name": "Python 3",
   "language": "python",
   "name": "python3"
  },
  "language_info": {
   "codemirror_mode": {
    "name": "ipython",
    "version": 3
   },
   "file_extension": ".py",
   "mimetype": "text/x-python",
   "name": "python",
   "nbconvert_exporter": "python",
   "pygments_lexer": "ipython3",
   "version": "3.12.2"
  }
 },
 "nbformat": 4,
 "nbformat_minor": 2
}
