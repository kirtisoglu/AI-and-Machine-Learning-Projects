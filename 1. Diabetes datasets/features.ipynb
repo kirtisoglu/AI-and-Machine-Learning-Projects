{
 "cells": [
  {
   "cell_type": "markdown",
   "metadata": {},
   "source": [
    "<body>\n",
    "    <div class=\"alert alert-block alert-success\">\n",
    "    <font face = \"courier\" size = \"+3\"> <b>Feature Engineering for Diabetes Dataset</b></font>\n",
    "    <p><font face = \"courier\" size = \"+1\">\n",
    "        Author: Alaittin Kirtisoglu\n",
    "        </font>\n",
    "    </p>\n",
    "    <p><font face = \"courier\" size = \"+1\">\n",
    "        Date: Dec 18, 2024\n",
    "        </font>\n",
    "    </p>\n",
    "    <p></p>\n",
    "    <hr />\n",
    "    <a id = '0'></a><font face = \"courier\" size = \"+2\">Table of Contents</font>\n",
    "    <ol>\n",
    "      <li><a href=\"#1\">Introduction</a></li>\n",
    "      <ul>\n",
    "        <li><a href=\"#1.1\">Supervised Selection Techniques</a></li>\n",
    "        <li><a href=\"#1.2\">Problem Statement</a></li>\n",
    "        <li><a href=\"#1.3\">Data Description</a></li>\n",
    "        <li><a href=\"#1.4\">Libaries and Data Exploration</a></li>\n",
    "      </ul>\n",
    "      <li><a href=\"#2\">Handling Outliers</a></li>\n",
    "      <li><a href=\"#3\">Filter-based Approach</a></li>\n",
    "      <ul>\n",
    "        <li><a href=\"#3.1\">Information Gain</a></li>\n",
    "        <li><a href=\"#3.2\">Chi-square Test</a></li>\n",
    "        <li><a href=\"#3.3\">Fisher's Score</a></li>\n",
    "        <li><a href=\"#3.4\">Missing Value Ratio</a></li>\n",
    "      </ul>\n",
    "      <li><a href=\"#4\">Wrapper-based Approach</a></li>\n",
    "      <li><a href=\"#5\">Embedded-based Approach</a></li>\n",
    "      <li><a href=\"#6\">Conclusion</a></li>\n",
    "      <li><a href=\"#7\">References</a></li>\n",
    "      <li><a href=\"#8\">Author Message</a></li>\n",
    "    </ol>\n",
    "    </div>\n",
    "</body>"
   ]
  },
  {
   "cell_type": "markdown",
   "metadata": {},
   "source": [
    "<div class=\"alert alert-block alert-info\">\n",
    "   <a id='1'></a><font face = \"courier\" size = \"+3\"> 1|Introduction</font>\n",
    "</div>"
   ]
  },
  {
   "cell_type": "markdown",
   "metadata": {},
   "source": [
    "> <a id='1.1'></a><font face = \"courier\" size = \"+2\" color = \"black\"> 1.1|Supervised Feature Selection Techniques</font>"
   ]
  },
  {
   "cell_type": "markdown",
   "metadata": {},
   "source": [
    "> <a id='1.2'></a><font face = \"courier\" size = \"+2\" color = \"black\"> 1.2|Problem Statement</font>"
   ]
  },
  {
   "cell_type": "markdown",
   "metadata": {},
   "source": [
    "In a machine learning workflow, we pick not only the model, but also the features.\n",
    "\n",
    "Feature selection is a producedure to find a subset of features that produces ‘better’ model for given dataset.\n",
    "\n",
    "- Avoid overfitting and achieve better generalization ability\n",
    "- Reduce the storage requirement and training time\n",
    "- Interpretability \n",
    "- Avoid overfitting and achieve better generalization ability\n",
    "\n",
    "Commonalities\n",
    "\n",
    "- Speed up the learning process\n",
    "- Reduce the storage requirements\n",
    "- Improve the learning performance\n",
    "- Build more generalized models\n",
    "\n",
    "Differences\n",
    "\n",
    "- Feature extraction obtains new features while feature selection selects a subset of original ones\n",
    "- Feature selection maintains physical meanings and gives models better readability and interpretability\n",
    "\n",
    "Roughly speaking, supervised techniques for feature selection fall into three classes:\n",
    "\n",
    "- Filtering\n",
    "- Wrapper methods\n",
    "- Embedded methods"
   ]
  },
  {
   "cell_type": "markdown",
   "metadata": {},
   "source": [
    "<ol>\n",
    "      <li><b>Provide accurate predictions of whether an individual has diabetes.</b></li><br>\n",
    "      <li><b>What</b></li>\n",
    "</ol>"
   ]
  },
  {
   "cell_type": "markdown",
   "metadata": {},
   "source": [
    "> <a id='1.3'></a><font face = \"courier\" size = \"+2\" color = \"black\"> 1.3|Data Description</font>"
   ]
  },
  {
   "cell_type": "markdown",
   "metadata": {},
   "source": [
    "The Behavioral Risk Factor Surveillance System (BRFSS) is a health-related telephone survey that is collected annually by the CDC. \n",
    "Each year, the survey collects responses from over 400,000 Americans on health-related risk behaviors, chronic health conditions, \n",
    "and the use of preventative services. We use datasets available on [Kaggle](https://www.kaggle.com/datasets/alexteboul/diabetes-health-indicators-dataset/data)\n",
    "for year 2015. This original dataset contains responses from 441,455 individuals and has 330 features. These features are either \n",
    "questions directly asked of participants, or calculated variables based on individual participant responses.\n",
    "\n",
    "This dataset contains 3 files:\n",
    "\n",
    "<p style=\"border: 2px solid Maroon;\">1. df1.csv</p>\n",
    "\n",
    "Clean dataset of 253,680 survey responses to the CDC's BRFSS2015. \n",
    "\n",
    "The target variable is Diabetes_012 has 3 classes;\n",
    "\n",
    "0 is for no diabetes or only during pregnancy, 1 is for prediabetes, and 2 is for diabetes. \n",
    "\n",
    "There is class imbalance in this dataset. This dataset has 21 feature variables.\n",
    "\n",
    "<p style=\"border: 2px solid Maroon;\">1. df2.csv</p>\n",
    "\n",
    "Clean dataset of 70,692 survey responses to the CDC's BRFSS2015. It has an equal 50-50 split of respondents with no \n",
    "diabetes and with either prediabetes or diabetes. The target variable Diabetes_binary has 2 classes. 0 is for no \n",
    "diabetes, and 1 is for prediabetes or diabetes. This dataset has 21 feature variables and is balanced.\n",
    "\n",
    "<p style=\"border: 2px solid Maroon;\">1. df3.csv</p>\n",
    "\n",
    "Clean dataset of 253,680 survey responses to the CDC's BRFSS2015. The target variable Diabetes_binary has 2 classes. \n",
    "0 is for no diabetes, and 1 is for prediabetes or diabetes. This dataset has 21 feature variables and is not balanced."
   ]
  },
  {
   "cell_type": "markdown",
   "metadata": {},
   "source": [
    "> <a id='1.4'></a><font face = \"courier\" size = \"+2\" color = \"black\"> 1.4|Libraries and Data Exploration</font>"
   ]
  },
  {
   "cell_type": "code",
   "execution_count": 1,
   "metadata": {},
   "outputs": [],
   "source": [
    "import pandas as pd"
   ]
  },
  {
   "cell_type": "code",
   "execution_count": 2,
   "metadata": {},
   "outputs": [],
   "source": [
    "df1 = pd.read_csv('/Users/kirtisoglu/Documents/GitHub/Project-Ideas/1. Diabetes datasets/data/df1.csv')\n",
    "df2 = pd.read_csv('/Users/kirtisoglu/Documents/GitHub/Project-Ideas/1. Diabetes datasets/data/df2.csv')\n",
    "df3 = pd.read_csv('/Users/kirtisoglu/Documents/GitHub/Project-Ideas/1. Diabetes datasets/data/df3.csv')"
   ]
  },
  {
   "cell_type": "code",
   "execution_count": 3,
   "metadata": {},
   "outputs": [
    {
     "name": "stdout",
     "output_type": "stream",
     "text": [
      "<class 'pandas.core.frame.DataFrame'>\n",
      "RangeIndex: 70692 entries, 0 to 70691\n",
      "Data columns (total 22 columns):\n",
      " #   Column                Non-Null Count  Dtype  \n",
      "---  ------                --------------  -----  \n",
      " 0   Diabetes_binary       70692 non-null  float64\n",
      " 1   HighBP                70692 non-null  float64\n",
      " 2   HighChol              70692 non-null  float64\n",
      " 3   CholCheck             70692 non-null  float64\n",
      " 4   BMI                   70692 non-null  float64\n",
      " 5   Smoker                70692 non-null  float64\n",
      " 6   Stroke                70692 non-null  float64\n",
      " 7   HeartDiseaseorAttack  70692 non-null  float64\n",
      " 8   PhysActivity          70692 non-null  float64\n",
      " 9   Fruits                70692 non-null  float64\n",
      " 10  Veggies               70692 non-null  float64\n",
      " 11  HvyAlcoholConsump     70692 non-null  float64\n",
      " 12  AnyHealthcare         70692 non-null  float64\n",
      " 13  NoDocbcCost           70692 non-null  float64\n",
      " 14  GenHlth               70692 non-null  float64\n",
      " 15  MentHlth              70692 non-null  float64\n",
      " 16  PhysHlth              70692 non-null  float64\n",
      " 17  DiffWalk              70692 non-null  float64\n",
      " 18  Sex                   70692 non-null  float64\n",
      " 19  Age                   70692 non-null  float64\n",
      " 20  Education             70692 non-null  float64\n",
      " 21  Income                70692 non-null  float64\n",
      "dtypes: float64(22)\n",
      "memory usage: 11.9 MB\n"
     ]
    }
   ],
   "source": [
    "df2.info()"
   ]
  },
  {
   "cell_type": "markdown",
   "metadata": {},
   "source": [
    "<div class=\"alert alert-block alert-info\">\n",
    "   <a id='2'></a><font face = \"courier\" size = \"+3\"> 2|Handling Outliers</font>\n",
    "</div>"
   ]
  },
  {
   "cell_type": "markdown",
   "metadata": {},
   "source": [
    "Outlier: A data object that deviates significantly from the normal objects as if it were generated by a different mechanism.\n",
    "\n",
    "- <b>Global outlier:</b> A data object that deviates significantly from the rest of the objects.\n",
    "\n",
    "- <b>Contextual (or conditional) outlier:</b> \n",
    "\n",
    "- <b>Collective Outliers:</b> "
   ]
  },
  {
   "cell_type": "markdown",
   "metadata": {},
   "source": [
    "<div class=\"alert alert-block alert-info\">\n",
    "   <a id='3'></a><font face = \"courier\" size = \"+3\"> 3|Filter-based Approach</font>\n",
    "</div>"
   ]
  },
  {
   "cell_type": "markdown",
   "metadata": {},
   "source": [
    "Filtering techniques preprocess features to remove ones that are unlikely to be\n",
    "useful for the model. One could compute the correlation or mutual\n",
    "information between each feature and the response variable, and filter out the\n",
    "features that fall below a threshold.\n",
    "\n",
    " Filtering techniques are much cheaper than the wrapper\n",
    "techniques described next, but they do not take into account the model being\n",
    "employed. Hence, they may not be able to select the right features for the model.\n",
    "It is best to do prefiltering conservatively, so as not to inadvertently eliminate\n",
    "useful features before they even make it to the model training step.\n",
    "\n",
    "  - Based on data intrinsic attributes such as feature correlation or statistics.\n",
    "  - Computationally efficient and may be used with a variety of learning algorithms. \n",
    "  - They do not account for the interaction between the features and the learning method,\n",
    "    so they may not always capture the ideal feature subset for a certain algorithm."
   ]
  },
  {
   "cell_type": "markdown",
   "metadata": {},
   "source": [
    "> <a id='3.1'></a><font face = \"courier\" size = \"+2\" color = \"black\"> 3.1|Information Gain</font>"
   ]
  },
  {
   "cell_type": "markdown",
   "metadata": {},
   "source": [
    "Information Gain is a statistic that measures the reduction in entropy (uncertainty) for a specific feature by dividing the data according to that characteristic. \n",
    "\n",
    "It is often used in decision tree algorithms and also has useful features. \n",
    "\n",
    "The primary objective of this code is to calculate feature importance scores based on Information Gain, which helps identify the most relevant features for the predictive model. \n",
    "\n",
    "By determining these scores, you can make informed decisions about which features to include or exclude from your analysis, ultimately leading to improved model performance, \n",
    "reduced overfitting, and faster training times."
   ]
  },
  {
   "cell_type": "code",
   "execution_count": 4,
   "metadata": {},
   "outputs": [
    {
     "data": {
      "image/png": "[encoded data removed]",
      "text/plain": [
       "<Figure size 640x480 with 1 Axes>"
      ]
     },
     "metadata": {},
     "output_type": "display_data"
    }
   ],
   "source": [
    "import numpy as np\n",
    "import matplotlib.pyplot as plt\n",
    "from sklearn.feature_selection import mutual_info_regression\n",
    "\n",
    "y = df2[df2.columns[0]]\n",
    "X = df2.copy()\n",
    "X.drop(df2.columns[0], axis=1, inplace=True)\n",
    "\n",
    "# Apply Information Gain\n",
    "gain = mutual_info_regression(X, y)\n",
    "\n",
    "# Create a dictionary of feature importance scores\n",
    "feature_scores = {}\n",
    "for i in range(len(X.columns)):\n",
    "    feature_scores[X.columns[i]] = gain[i]\n",
    "    \n",
    "# Sort the features by importance score in descending order\n",
    "sorted_features = sorted(feature_scores.items(), key=lambda x: x[1], reverse=True)\n",
    "\n",
    "# Plot a horizontal bar chart of the feature importance scores\n",
    "fig, ax = plt.subplots()\n",
    "y_pos = np.arange(len(sorted_features))\n",
    "ax.barh(y_pos, [score for feature, score in sorted_features], align=\"center\")\n",
    "ax.set_yticks(y_pos)\n",
    "ax.set_yticklabels([feature for feature, score in sorted_features])\n",
    "ax.invert_yaxis()  # Labels read top-to-bottom\n",
    "ax.set_xlabel(\"Importance Score\")\n",
    "ax.set_title(\"Feature Importance Scores (Information Gain)\")\n",
    "\n",
    "# Add importance scores as labels on the horizontal bar chart\n",
    "for i, v in enumerate([score for feature, score in sorted_features]):\n",
    "    ax.text(v + 0.01, i, str(round(v, 3)), color=\"black\", fontweight=\"bold\")\n",
    "plt.show()"
   ]
  },
  {
   "cell_type": "markdown",
   "metadata": {},
   "source": [
    "Fruits, NoDocbcCost, MentHlth, and AnyHealthcare has zero information gain. We will fit logistic regression excluding these columns."
   ]
  },
  {
   "cell_type": "code",
   "execution_count": 5,
   "metadata": {},
   "outputs": [],
   "source": [
    "from sklearn.model_selection import train_test_split\n",
    "\n",
    "X_train, X_test, y_train, y_test = train_test_split(X,y, test_size = 0.20)"
   ]
  },
  {
   "cell_type": "code",
   "execution_count": 6,
   "metadata": {},
   "outputs": [
    {
     "name": "stdout",
     "output_type": "stream",
     "text": [
      "Accuracy: 74.85%\n",
      "Accuracy: 74.55%\n"
     ]
    }
   ],
   "source": [
    "from sklearn.linear_model import LogisticRegression\n",
    "log_reg = LogisticRegression(C=1, penalty='l2', solver='liblinear', max_iter=200)\n",
    "log_reg.fit(X_train, y_train)\n",
    "\n",
    "from sklearn.metrics import confusion_matrix, accuracy_score\n",
    "import matplotlib.pyplot as plt\n",
    "import seaborn as sns\n",
    "\n",
    "def predict_and_plot(model, inputs, targets, name=''):\n",
    "    preds = model.predict(inputs)\n",
    "    accuracy = accuracy_score(targets, preds)\n",
    "    print(\"Accuracy: {:.2f}%\".format(accuracy * 100))\n",
    "    \n",
    "    return preds\n",
    "\n",
    "# Predict and plot on the training data\n",
    "train_preds = predict_and_plot(log_reg, X_train, y_train, 'Train')\n",
    "\n",
    "# Predict and plot on the validation data\n",
    "val_preds = predict_and_plot(log_reg, X_test, y_test, 'Validation')"
   ]
  },
  {
   "cell_type": "code",
   "execution_count": 7,
   "metadata": {},
   "outputs": [
    {
     "name": "stdout",
     "output_type": "stream",
     "text": [
      "Accuracy: 74.71%\n",
      "Accuracy: 75.28%\n"
     ]
    }
   ],
   "source": [
    "zero_gain = [\"Fruits\", \"NoDocbcCost\", \"MentHlth\", \"AnyHealthcare\"]\n",
    "XX = X.copy()\n",
    "XX.drop(zero_gain, axis=1, inplace=True)\n",
    "\n",
    "XX_train, XX_test, yy_train, yy_test = train_test_split(XX,y, test_size = 0.20)\n",
    "\n",
    "logg_reg = LogisticRegression(C=1, penalty='l2', solver='liblinear', max_iter=200)\n",
    "logg_reg.fit(XX_train, yy_train)\n",
    "\n",
    "# Predict and plot on the training data\n",
    "train_preds = predict_and_plot(logg_reg, XX_train, yy_train, 'Train')\n",
    "\n",
    "# Predict and plot on the validation data\n",
    "val_preds = predict_and_plot(logg_reg, XX_test, yy_test, 'Validation')"
   ]
  },
  {
   "cell_type": "code",
   "execution_count": 9,
   "metadata": {},
   "outputs": [
    {
     "data": {
      "text/html": [
       "<div>\n",
       "<style scoped>\n",
       "    .dataframe tbody tr th:only-of-type {\n",
       "        vertical-align: middle;\n",
       "    }\n",
       "\n",
       "    .dataframe tbody tr th {\n",
       "        vertical-align: top;\n",
       "    }\n",
       "\n",
       "    .dataframe thead th {\n",
       "        text-align: right;\n",
       "    }\n",
       "</style>\n",
       "<table border=\"1\" class=\"dataframe\">\n",
       "  <thead>\n",
       "    <tr style=\"text-align: right;\">\n",
       "      <th></th>\n",
       "      <th>HighBP</th>\n",
       "      <th>HighChol</th>\n",
       "      <th>CholCheck</th>\n",
       "      <th>BMI</th>\n",
       "      <th>Smoker</th>\n",
       "      <th>Stroke</th>\n",
       "      <th>HeartDiseaseorAttack</th>\n",
       "      <th>PhysActivity</th>\n",
       "      <th>Veggies</th>\n",
       "      <th>HvyAlcoholConsump</th>\n",
       "      <th>GenHlth</th>\n",
       "      <th>PhysHlth</th>\n",
       "      <th>DiffWalk</th>\n",
       "      <th>Sex</th>\n",
       "      <th>Age</th>\n",
       "      <th>Education</th>\n",
       "      <th>Income</th>\n",
       "    </tr>\n",
       "  </thead>\n",
       "  <tbody>\n",
       "    <tr>\n",
       "      <th>0</th>\n",
       "      <td>1.0</td>\n",
       "      <td>0.0</td>\n",
       "      <td>1.0</td>\n",
       "      <td>26.0</td>\n",
       "      <td>0.0</td>\n",
       "      <td>0.0</td>\n",
       "      <td>0.0</td>\n",
       "      <td>1.0</td>\n",
       "      <td>1.0</td>\n",
       "      <td>0.0</td>\n",
       "      <td>3.0</td>\n",
       "      <td>30.0</td>\n",
       "      <td>0.0</td>\n",
       "      <td>1.0</td>\n",
       "      <td>4.0</td>\n",
       "      <td>6.0</td>\n",
       "      <td>8.0</td>\n",
       "    </tr>\n",
       "    <tr>\n",
       "      <th>1</th>\n",
       "      <td>1.0</td>\n",
       "      <td>1.0</td>\n",
       "      <td>1.0</td>\n",
       "      <td>26.0</td>\n",
       "      <td>1.0</td>\n",
       "      <td>1.0</td>\n",
       "      <td>0.0</td>\n",
       "      <td>0.0</td>\n",
       "      <td>0.0</td>\n",
       "      <td>0.0</td>\n",
       "      <td>3.0</td>\n",
       "      <td>0.0</td>\n",
       "      <td>0.0</td>\n",
       "      <td>1.0</td>\n",
       "      <td>12.0</td>\n",
       "      <td>6.0</td>\n",
       "      <td>8.0</td>\n",
       "    </tr>\n",
       "    <tr>\n",
       "      <th>2</th>\n",
       "      <td>0.0</td>\n",
       "      <td>0.0</td>\n",
       "      <td>1.0</td>\n",
       "      <td>26.0</td>\n",
       "      <td>0.0</td>\n",
       "      <td>0.0</td>\n",
       "      <td>0.0</td>\n",
       "      <td>1.0</td>\n",
       "      <td>1.0</td>\n",
       "      <td>0.0</td>\n",
       "      <td>1.0</td>\n",
       "      <td>10.0</td>\n",
       "      <td>0.0</td>\n",
       "      <td>1.0</td>\n",
       "      <td>13.0</td>\n",
       "      <td>6.0</td>\n",
       "      <td>8.0</td>\n",
       "    </tr>\n",
       "    <tr>\n",
       "      <th>3</th>\n",
       "      <td>1.0</td>\n",
       "      <td>1.0</td>\n",
       "      <td>1.0</td>\n",
       "      <td>28.0</td>\n",
       "      <td>1.0</td>\n",
       "      <td>0.0</td>\n",
       "      <td>0.0</td>\n",
       "      <td>1.0</td>\n",
       "      <td>1.0</td>\n",
       "      <td>0.0</td>\n",
       "      <td>3.0</td>\n",
       "      <td>3.0</td>\n",
       "      <td>0.0</td>\n",
       "      <td>1.0</td>\n",
       "      <td>11.0</td>\n",
       "      <td>6.0</td>\n",
       "      <td>8.0</td>\n",
       "    </tr>\n",
       "    <tr>\n",
       "      <th>4</th>\n",
       "      <td>0.0</td>\n",
       "      <td>0.0</td>\n",
       "      <td>1.0</td>\n",
       "      <td>29.0</td>\n",
       "      <td>1.0</td>\n",
       "      <td>0.0</td>\n",
       "      <td>0.0</td>\n",
       "      <td>1.0</td>\n",
       "      <td>1.0</td>\n",
       "      <td>0.0</td>\n",
       "      <td>2.0</td>\n",
       "      <td>0.0</td>\n",
       "      <td>0.0</td>\n",
       "      <td>0.0</td>\n",
       "      <td>8.0</td>\n",
       "      <td>5.0</td>\n",
       "      <td>8.0</td>\n",
       "    </tr>\n",
       "  </tbody>\n",
       "</table>\n",
       "</div>"
      ],
      "text/plain": [
       "   HighBP  HighChol  CholCheck   BMI  Smoker  Stroke  HeartDiseaseorAttack  \\\n",
       "0     1.0       0.0        1.0  26.0     0.0     0.0                   0.0   \n",
       "1     1.0       1.0        1.0  26.0     1.0     1.0                   0.0   \n",
       "2     0.0       0.0        1.0  26.0     0.0     0.0                   0.0   \n",
       "3     1.0       1.0        1.0  28.0     1.0     0.0                   0.0   \n",
       "4     0.0       0.0        1.0  29.0     1.0     0.0                   0.0   \n",
       "\n",
       "   PhysActivity  Veggies  HvyAlcoholConsump  GenHlth  PhysHlth  DiffWalk  Sex  \\\n",
       "0           1.0      1.0                0.0      3.0      30.0       0.0  1.0   \n",
       "1           0.0      0.0                0.0      3.0       0.0       0.0  1.0   \n",
       "2           1.0      1.0                0.0      1.0      10.0       0.0  1.0   \n",
       "3           1.0      1.0                0.0      3.0       3.0       0.0  1.0   \n",
       "4           1.0      1.0                0.0      2.0       0.0       0.0  0.0   \n",
       "\n",
       "    Age  Education  Income  \n",
       "0   4.0        6.0     8.0  \n",
       "1  12.0        6.0     8.0  \n",
       "2  13.0        6.0     8.0  \n",
       "3  11.0        6.0     8.0  \n",
       "4   8.0        5.0     8.0  "
      ]
     },
     "execution_count": 9,
     "metadata": {},
     "output_type": "execute_result"
    }
   ],
   "source": [
    "XX.head()"
   ]
  },
  {
   "cell_type": "markdown",
   "metadata": {},
   "source": [
    "> <a id='3.2'></a><font face = \"courier\" size = \"+2\" color = \"black\"> 3.2|Chi-square Test</font>"
   ]
  },
  {
   "cell_type": "markdown",
   "metadata": {},
   "source": [
    "The Chi-square test is a statistical test used to assess the relationship between two categorical variables. \n",
    "\n",
    "It is used in feature selection to analyze the relationship between a categorical feature and the target variable.\n",
    "\n",
    "A greater Chi-square score shows a stronger link between the feature and the target, showing that the feature is more important for the classification job.\n",
    "\n",
    "While the Chi-square test is a commonly used feature selection method, it is typically used for categorical data, where the features and target variables are discrete."
   ]
  },
  {
   "cell_type": "markdown",
   "metadata": {},
   "source": [
    "> <a id='3.3'></a><font face = \"courier\" size = \"+2\" color = \"black\"> 3.3|Fisher's Score</font>"
   ]
  },
  {
   "cell_type": "markdown",
   "metadata": {},
   "source": [
    "Fisher's Discriminant Ratio, commonly known as Fisher's Score, is a feature selection approach that ranks features based on their ability to differentiate various classes in a dataset. It may be used for continuous features in a classification problem.\n",
    "\n",
    "Fisher's Score is calculated as the ratio of between-class and within-class variance. A higher Fisher's Score implies the characteristic is more discriminative and valuable for classification.\n",
    "\n",
    "To use Fisher's Score for feature selection, compute a score for each continuous feature and rank them according to their scores. The model considers features with a higher Fisher's Score more important.\n",
    "\n",
    "We skip this since our data does not have continuous features."
   ]
  },
  {
   "cell_type": "markdown",
   "metadata": {},
   "source": [
    "> <a id='3.4'></a><font face = \"courier\" size = \"+2\" color = \"black\"> 3.4|Missing Value Ratio</font>"
   ]
  },
  {
   "cell_type": "markdown",
   "metadata": {},
   "source": [
    "### ! Used for for categorical data, where the features and target variables are discrete.\n",
    "\n",
    "The Missing Value Ratio is a straightforward feature selection method that makes decisions based on the number of missing values in a feature.\n",
    "\n",
    "Features having a significant proportion of missing values may be uninformative and may harm the model's performance. You can filter out features \n",
    "\n",
    "with too many missing values by specifying a threshold for the acceptable missing value ratio.\n",
    "\n",
    "\n",
    "    It is used in feature selection to analyze the relationship between a categorical feature and the target variable.\n",
    "\n",
    "    A greater Chi-square score shows a stronger link between the feature and the target, showing that the feature is more important for the classification job.\n",
    "\n",
    "    While the Chi-square test is a commonly used feature selection method, it is typically used for categorical data, where the features and target variables are discrete."
   ]
  },
  {
   "cell_type": "markdown",
   "metadata": {},
   "source": [
    "<div class=\"alert alert-block alert-info\">\n",
    "   <a id='4'></a><font face = \"courier\" size = \"+3\"> 4|Wrapper-based Approach</font>\n",
    "</div>"
   ]
  },
  {
   "cell_type": "markdown",
   "metadata": {},
   "source": [
    "These techniques are expensive, but they allow you to try out subsets of features,\n",
    "which means you won’t accidentally prune away features that are uninformative\n",
    "by themselves but useful when taken in combination. The wrapper method treats\n",
    "the model as a black box that provides a quality score of a proposed subset for\n",
    "features. There is a separate method that iteratively refines the subset."
   ]
  },
  {
   "cell_type": "markdown",
   "metadata": {},
   "source": [
    "> <a id='4.1'></a><font face = \"courier\" size = \"+2\" color = \"black\"> 4.1|Forward Selection</font>"
   ]
  },
  {
   "cell_type": "markdown",
   "metadata": {},
   "source": [
    "In forward selection, you start with an empty feature set and iteratively add features to the set. \n",
    "\n",
    "At each step, you evaluate the model's performance with the current feature set and the additional feature. \n",
    "\n",
    "The feature that results in the best performance improvement is added to the set.\n",
    "\n",
    "The process continues until no significant improvement in performance is observed, or a predefined number of features is reached.\n",
    "\n"
   ]
  },
  {
   "cell_type": "code",
   "execution_count": 10,
   "metadata": {},
   "outputs": [
    {
     "data": {
      "text/html": [
       "<style>#sk-container-id-1 {\n",
       "  /* Definition of color scheme common for light and dark mode */\n",
       "  --sklearn-color-text: black;\n",
       "  --sklearn-color-line: gray;\n",
       "  /* Definition of color scheme for unfitted estimators */\n",
       "  --sklearn-color-unfitted-level-0: #fff5e6;\n",
       "  --sklearn-color-unfitted-level-1: #f6e4d2;\n",
       "  --sklearn-color-unfitted-level-2: #ffe0b3;\n",
       "  --sklearn-color-unfitted-level-3: chocolate;\n",
       "  /* Definition of color scheme for fitted estimators */\n",
       "  --sklearn-color-fitted-level-0: #f0f8ff;\n",
       "  --sklearn-color-fitted-level-1: #d4ebff;\n",
       "  --sklearn-color-fitted-level-2: #b3dbfd;\n",
       "  --sklearn-color-fitted-level-3: cornflowerblue;\n",
       "\n",
       "  /* Specific color for light theme */\n",
       "  --sklearn-color-text-on-default-background: var(--sg-text-color, var(--theme-code-foreground, var(--jp-content-font-color1, black)));\n",
       "  --sklearn-color-background: var(--sg-background-color, var(--theme-background, var(--jp-layout-color0, white)));\n",
       "  --sklearn-color-border-box: var(--sg-text-color, var(--theme-code-foreground, var(--jp-content-font-color1, black)));\n",
       "  --sklearn-color-icon: #696969;\n",
       "\n",
       "  @media (prefers-color-scheme: dark) {\n",
       "    /* Redefinition of color scheme for dark theme */\n",
       "    --sklearn-color-text-on-default-background: var(--sg-text-color, var(--theme-code-foreground, var(--jp-content-font-color1, white)));\n",
       "    --sklearn-color-background: var(--sg-background-color, var(--theme-background, var(--jp-layout-color0, #111)));\n",
       "    --sklearn-color-border-box: var(--sg-text-color, var(--theme-code-foreground, var(--jp-content-font-color1, white)));\n",
       "    --sklearn-color-icon: #878787;\n",
       "  }\n",
       "}\n",
       "\n",
       "#sk-container-id-1 {\n",
       "  color: var(--sklearn-color-text);\n",
       "}\n",
       "\n",
       "#sk-container-id-1 pre {\n",
       "  padding: 0;\n",
       "}\n",
       "\n",
       "#sk-container-id-1 input.sk-hidden--visually {\n",
       "  border: 0;\n",
       "  clip: rect(1px 1px 1px 1px);\n",
       "  clip: rect(1px, 1px, 1px, 1px);\n",
       "  height: 1px;\n",
       "  margin: -1px;\n",
       "  overflow: hidden;\n",
       "  padding: 0;\n",
       "  position: absolute;\n",
       "  width: 1px;\n",
       "}\n",
       "\n",
       "#sk-container-id-1 div.sk-dashed-wrapped {\n",
       "  border: 1px dashed var(--sklearn-color-line);\n",
       "  margin: 0 0.4em 0.5em 0.4em;\n",
       "  box-sizing: border-box;\n",
       "  padding-bottom: 0.4em;\n",
       "  background-color: var(--sklearn-color-background);\n",
       "}\n",
       "\n",
       "#sk-container-id-1 div.sk-container {\n",
       "  /* jupyter's `normalize.less` sets `[hidden] { display: none; }`\n",
       "     but bootstrap.min.css set `[hidden] { display: none !important; }`\n",
       "     so we also need the `!important` here to be able to override the\n",
       "     default hidden behavior on the sphinx rendered scikit-learn.org.\n",
       "     See: https://github.com/scikit-learn/scikit-learn/issues/21755 */\n",
       "  display: inline-block !important;\n",
       "  position: relative;\n",
       "}\n",
       "\n",
       "#sk-container-id-1 div.sk-text-repr-fallback {\n",
       "  display: none;\n",
       "}\n",
       "\n",
       "div.sk-parallel-item,\n",
       "div.sk-serial,\n",
       "div.sk-item {\n",
       "  /* draw centered vertical line to link estimators */\n",
       "  background-image: linear-gradient(var(--sklearn-color-text-on-default-background), var(--sklearn-color-text-on-default-background));\n",
       "  background-size: 2px 100%;\n",
       "  background-repeat: no-repeat;\n",
       "  background-position: center center;\n",
       "}\n",
       "\n",
       "/* Parallel-specific style estimator block */\n",
       "\n",
       "#sk-container-id-1 div.sk-parallel-item::after {\n",
       "  content: \"\";\n",
       "  width: 100%;\n",
       "  border-bottom: 2px solid var(--sklearn-color-text-on-default-background);\n",
       "  flex-grow: 1;\n",
       "}\n",
       "\n",
       "#sk-container-id-1 div.sk-parallel {\n",
       "  display: flex;\n",
       "  align-items: stretch;\n",
       "  justify-content: center;\n",
       "  background-color: var(--sklearn-color-background);\n",
       "  position: relative;\n",
       "}\n",
       "\n",
       "#sk-container-id-1 div.sk-parallel-item {\n",
       "  display: flex;\n",
       "  flex-direction: column;\n",
       "}\n",
       "\n",
       "#sk-container-id-1 div.sk-parallel-item:first-child::after {\n",
       "  align-self: flex-end;\n",
       "  width: 50%;\n",
       "}\n",
       "\n",
       "#sk-container-id-1 div.sk-parallel-item:last-child::after {\n",
       "  align-self: flex-start;\n",
       "  width: 50%;\n",
       "}\n",
       "\n",
       "#sk-container-id-1 div.sk-parallel-item:only-child::after {\n",
       "  width: 0;\n",
       "}\n",
       "\n",
       "/* Serial-specific style estimator block */\n",
       "\n",
       "#sk-container-id-1 div.sk-serial {\n",
       "  display: flex;\n",
       "  flex-direction: column;\n",
       "  align-items: center;\n",
       "  background-color: var(--sklearn-color-background);\n",
       "  padding-right: 1em;\n",
       "  padding-left: 1em;\n",
       "}\n",
       "\n",
       "\n",
       "/* Toggleable style: style used for estimator/Pipeline/ColumnTransformer box that is\n",
       "clickable and can be expanded/collapsed.\n",
       "- Pipeline and ColumnTransformer use this feature and define the default style\n",
       "- Estimators will overwrite some part of the style using the `sk-estimator` class\n",
       "*/\n",
       "\n",
       "/* Pipeline and ColumnTransformer style (default) */\n",
       "\n",
       "#sk-container-id-1 div.sk-toggleable {\n",
       "  /* Default theme specific background. It is overwritten whether we have a\n",
       "  specific estimator or a Pipeline/ColumnTransformer */\n",
       "  background-color: var(--sklearn-color-background);\n",
       "}\n",
       "\n",
       "/* Toggleable label */\n",
       "#sk-container-id-1 label.sk-toggleable__label {\n",
       "  cursor: pointer;\n",
       "  display: block;\n",
       "  width: 100%;\n",
       "  margin-bottom: 0;\n",
       "  padding: 0.5em;\n",
       "  box-sizing: border-box;\n",
       "  text-align: center;\n",
       "}\n",
       "\n",
       "#sk-container-id-1 label.sk-toggleable__label-arrow:before {\n",
       "  /* Arrow on the left of the label */\n",
       "  content: \"▸\";\n",
       "  float: left;\n",
       "  margin-right: 0.25em;\n",
       "  color: var(--sklearn-color-icon);\n",
       "}\n",
       "\n",
       "#sk-container-id-1 label.sk-toggleable__label-arrow:hover:before {\n",
       "  color: var(--sklearn-color-text);\n",
       "}\n",
       "\n",
       "/* Toggleable content - dropdown */\n",
       "\n",
       "#sk-container-id-1 div.sk-toggleable__content {\n",
       "  max-height: 0;\n",
       "  max-width: 0;\n",
       "  overflow: hidden;\n",
       "  text-align: left;\n",
       "  /* unfitted */\n",
       "  background-color: var(--sklearn-color-unfitted-level-0);\n",
       "}\n",
       "\n",
       "#sk-container-id-1 div.sk-toggleable__content.fitted {\n",
       "  /* fitted */\n",
       "  background-color: var(--sklearn-color-fitted-level-0);\n",
       "}\n",
       "\n",
       "#sk-container-id-1 div.sk-toggleable__content pre {\n",
       "  margin: 0.2em;\n",
       "  border-radius: 0.25em;\n",
       "  color: var(--sklearn-color-text);\n",
       "  /* unfitted */\n",
       "  background-color: var(--sklearn-color-unfitted-level-0);\n",
       "}\n",
       "\n",
       "#sk-container-id-1 div.sk-toggleable__content.fitted pre {\n",
       "  /* unfitted */\n",
       "  background-color: var(--sklearn-color-fitted-level-0);\n",
       "}\n",
       "\n",
       "#sk-container-id-1 input.sk-toggleable__control:checked~div.sk-toggleable__content {\n",
       "  /* Expand drop-down */\n",
       "  max-height: 200px;\n",
       "  max-width: 100%;\n",
       "  overflow: auto;\n",
       "}\n",
       "\n",
       "#sk-container-id-1 input.sk-toggleable__control:checked~label.sk-toggleable__label-arrow:before {\n",
       "  content: \"▾\";\n",
       "}\n",
       "\n",
       "/* Pipeline/ColumnTransformer-specific style */\n",
       "\n",
       "#sk-container-id-1 div.sk-label input.sk-toggleable__control:checked~label.sk-toggleable__label {\n",
       "  color: var(--sklearn-color-text);\n",
       "  background-color: var(--sklearn-color-unfitted-level-2);\n",
       "}\n",
       "\n",
       "#sk-container-id-1 div.sk-label.fitted input.sk-toggleable__control:checked~label.sk-toggleable__label {\n",
       "  background-color: var(--sklearn-color-fitted-level-2);\n",
       "}\n",
       "\n",
       "/* Estimator-specific style */\n",
       "\n",
       "/* Colorize estimator box */\n",
       "#sk-container-id-1 div.sk-estimator input.sk-toggleable__control:checked~label.sk-toggleable__label {\n",
       "  /* unfitted */\n",
       "  background-color: var(--sklearn-color-unfitted-level-2);\n",
       "}\n",
       "\n",
       "#sk-container-id-1 div.sk-estimator.fitted input.sk-toggleable__control:checked~label.sk-toggleable__label {\n",
       "  /* fitted */\n",
       "  background-color: var(--sklearn-color-fitted-level-2);\n",
       "}\n",
       "\n",
       "#sk-container-id-1 div.sk-label label.sk-toggleable__label,\n",
       "#sk-container-id-1 div.sk-label label {\n",
       "  /* The background is the default theme color */\n",
       "  color: var(--sklearn-color-text-on-default-background);\n",
       "}\n",
       "\n",
       "/* On hover, darken the color of the background */\n",
       "#sk-container-id-1 div.sk-label:hover label.sk-toggleable__label {\n",
       "  color: var(--sklearn-color-text);\n",
       "  background-color: var(--sklearn-color-unfitted-level-2);\n",
       "}\n",
       "\n",
       "/* Label box, darken color on hover, fitted */\n",
       "#sk-container-id-1 div.sk-label.fitted:hover label.sk-toggleable__label.fitted {\n",
       "  color: var(--sklearn-color-text);\n",
       "  background-color: var(--sklearn-color-fitted-level-2);\n",
       "}\n",
       "\n",
       "/* Estimator label */\n",
       "\n",
       "#sk-container-id-1 div.sk-label label {\n",
       "  font-family: monospace;\n",
       "  font-weight: bold;\n",
       "  display: inline-block;\n",
       "  line-height: 1.2em;\n",
       "}\n",
       "\n",
       "#sk-container-id-1 div.sk-label-container {\n",
       "  text-align: center;\n",
       "}\n",
       "\n",
       "/* Estimator-specific */\n",
       "#sk-container-id-1 div.sk-estimator {\n",
       "  font-family: monospace;\n",
       "  border: 1px dotted var(--sklearn-color-border-box);\n",
       "  border-radius: 0.25em;\n",
       "  box-sizing: border-box;\n",
       "  margin-bottom: 0.5em;\n",
       "  /* unfitted */\n",
       "  background-color: var(--sklearn-color-unfitted-level-0);\n",
       "}\n",
       "\n",
       "#sk-container-id-1 div.sk-estimator.fitted {\n",
       "  /* fitted */\n",
       "  background-color: var(--sklearn-color-fitted-level-0);\n",
       "}\n",
       "\n",
       "/* on hover */\n",
       "#sk-container-id-1 div.sk-estimator:hover {\n",
       "  /* unfitted */\n",
       "  background-color: var(--sklearn-color-unfitted-level-2);\n",
       "}\n",
       "\n",
       "#sk-container-id-1 div.sk-estimator.fitted:hover {\n",
       "  /* fitted */\n",
       "  background-color: var(--sklearn-color-fitted-level-2);\n",
       "}\n",
       "\n",
       "/* Specification for estimator info (e.g. \"i\" and \"?\") */\n",
       "\n",
       "/* Common style for \"i\" and \"?\" */\n",
       "\n",
       ".sk-estimator-doc-link,\n",
       "a:link.sk-estimator-doc-link,\n",
       "a:visited.sk-estimator-doc-link {\n",
       "  float: right;\n",
       "  font-size: smaller;\n",
       "  line-height: 1em;\n",
       "  font-family: monospace;\n",
       "  background-color: var(--sklearn-color-background);\n",
       "  border-radius: 1em;\n",
       "  height: 1em;\n",
       "  width: 1em;\n",
       "  text-decoration: none !important;\n",
       "  margin-left: 1ex;\n",
       "  /* unfitted */\n",
       "  border: var(--sklearn-color-unfitted-level-1) 1pt solid;\n",
       "  color: var(--sklearn-color-unfitted-level-1);\n",
       "}\n",
       "\n",
       ".sk-estimator-doc-link.fitted,\n",
       "a:link.sk-estimator-doc-link.fitted,\n",
       "a:visited.sk-estimator-doc-link.fitted {\n",
       "  /* fitted */\n",
       "  border: var(--sklearn-color-fitted-level-1) 1pt solid;\n",
       "  color: var(--sklearn-color-fitted-level-1);\n",
       "}\n",
       "\n",
       "/* On hover */\n",
       "div.sk-estimator:hover .sk-estimator-doc-link:hover,\n",
       ".sk-estimator-doc-link:hover,\n",
       "div.sk-label-container:hover .sk-estimator-doc-link:hover,\n",
       ".sk-estimator-doc-link:hover {\n",
       "  /* unfitted */\n",
       "  background-color: var(--sklearn-color-unfitted-level-3);\n",
       "  color: var(--sklearn-color-background);\n",
       "  text-decoration: none;\n",
       "}\n",
       "\n",
       "div.sk-estimator.fitted:hover .sk-estimator-doc-link.fitted:hover,\n",
       ".sk-estimator-doc-link.fitted:hover,\n",
       "div.sk-label-container:hover .sk-estimator-doc-link.fitted:hover,\n",
       ".sk-estimator-doc-link.fitted:hover {\n",
       "  /* fitted */\n",
       "  background-color: var(--sklearn-color-fitted-level-3);\n",
       "  color: var(--sklearn-color-background);\n",
       "  text-decoration: none;\n",
       "}\n",
       "\n",
       "/* Span, style for the box shown on hovering the info icon */\n",
       ".sk-estimator-doc-link span {\n",
       "  display: none;\n",
       "  z-index: 9999;\n",
       "  position: relative;\n",
       "  font-weight: normal;\n",
       "  right: .2ex;\n",
       "  padding: .5ex;\n",
       "  margin: .5ex;\n",
       "  width: min-content;\n",
       "  min-width: 20ex;\n",
       "  max-width: 50ex;\n",
       "  color: var(--sklearn-color-text);\n",
       "  box-shadow: 2pt 2pt 4pt #999;\n",
       "  /* unfitted */\n",
       "  background: var(--sklearn-color-unfitted-level-0);\n",
       "  border: .5pt solid var(--sklearn-color-unfitted-level-3);\n",
       "}\n",
       "\n",
       ".sk-estimator-doc-link.fitted span {\n",
       "  /* fitted */\n",
       "  background: var(--sklearn-color-fitted-level-0);\n",
       "  border: var(--sklearn-color-fitted-level-3);\n",
       "}\n",
       "\n",
       ".sk-estimator-doc-link:hover span {\n",
       "  display: block;\n",
       "}\n",
       "\n",
       "/* \"?\"-specific style due to the `<a>` HTML tag */\n",
       "\n",
       "#sk-container-id-1 a.estimator_doc_link {\n",
       "  float: right;\n",
       "  font-size: 1rem;\n",
       "  line-height: 1em;\n",
       "  font-family: monospace;\n",
       "  background-color: var(--sklearn-color-background);\n",
       "  border-radius: 1rem;\n",
       "  height: 1rem;\n",
       "  width: 1rem;\n",
       "  text-decoration: none;\n",
       "  /* unfitted */\n",
       "  color: var(--sklearn-color-unfitted-level-1);\n",
       "  border: var(--sklearn-color-unfitted-level-1) 1pt solid;\n",
       "}\n",
       "\n",
       "#sk-container-id-1 a.estimator_doc_link.fitted {\n",
       "  /* fitted */\n",
       "  border: var(--sklearn-color-fitted-level-1) 1pt solid;\n",
       "  color: var(--sklearn-color-fitted-level-1);\n",
       "}\n",
       "\n",
       "/* On hover */\n",
       "#sk-container-id-1 a.estimator_doc_link:hover {\n",
       "  /* unfitted */\n",
       "  background-color: var(--sklearn-color-unfitted-level-3);\n",
       "  color: var(--sklearn-color-background);\n",
       "  text-decoration: none;\n",
       "}\n",
       "\n",
       "#sk-container-id-1 a.estimator_doc_link.fitted:hover {\n",
       "  /* fitted */\n",
       "  background-color: var(--sklearn-color-fitted-level-3);\n",
       "}\n",
       "</style><div id=\"sk-container-id-1\" class=\"sk-top-container\"><div class=\"sk-text-repr-fallback\"><pre>SequentialFeatureSelector(estimator=LogisticRegression(), k_features=(5, 5),\n",
       "                          scoring=&#x27;accuracy&#x27;)</pre><b>In a Jupyter environment, please rerun this cell to show the HTML representation or trust the notebook. <br />On GitHub, the HTML representation is unable to render, please try loading this page with nbviewer.org.</b></div><div class=\"sk-container\" hidden><div class=\"sk-item sk-dashed-wrapped\"><div class=\"sk-label-container\"><div class=\"sk-label fitted sk-toggleable\"><input class=\"sk-toggleable__control sk-hidden--visually\" id=\"sk-estimator-id-1\" type=\"checkbox\" ><label for=\"sk-estimator-id-1\" class=\"sk-toggleable__label fitted sk-toggleable__label-arrow fitted\">&nbsp;SequentialFeatureSelector<span class=\"sk-estimator-doc-link fitted\">i<span>Fitted</span></span></label><div class=\"sk-toggleable__content fitted\"><pre>SequentialFeatureSelector(estimator=LogisticRegression(), k_features=(5, 5),\n",
       "                          scoring=&#x27;accuracy&#x27;)</pre></div> </div></div><div class=\"sk-parallel\"><div class=\"sk-parallel-item\"><div class=\"sk-item\"><div class=\"sk-label-container\"><div class=\"sk-label fitted sk-toggleable\"><input class=\"sk-toggleable__control sk-hidden--visually\" id=\"sk-estimator-id-2\" type=\"checkbox\" ><label for=\"sk-estimator-id-2\" class=\"sk-toggleable__label fitted sk-toggleable__label-arrow fitted\">estimator: LogisticRegression</label><div class=\"sk-toggleable__content fitted\"><pre>LogisticRegression()</pre></div> </div></div><div class=\"sk-serial\"><div class=\"sk-item\"><div class=\"sk-estimator fitted sk-toggleable\"><input class=\"sk-toggleable__control sk-hidden--visually\" id=\"sk-estimator-id-3\" type=\"checkbox\" ><label for=\"sk-estimator-id-3\" class=\"sk-toggleable__label fitted sk-toggleable__label-arrow fitted\">&nbsp;LogisticRegression<a class=\"sk-estimator-doc-link fitted\" rel=\"noreferrer\" target=\"_blank\" href=\"https://scikit-learn.org/1.4/modules/generated/sklearn.linear_model.LogisticRegression.html\">?<span>Documentation for LogisticRegression</span></a></label><div class=\"sk-toggleable__content fitted\"><pre>LogisticRegression()</pre></div> </div></div></div></div></div></div></div></div></div>"
      ],
      "text/plain": [
       "SequentialFeatureSelector(estimator=LogisticRegression(), k_features=(5, 5),\n",
       "                          scoring='accuracy')"
      ]
     },
     "execution_count": 10,
     "metadata": {},
     "output_type": "execute_result"
    }
   ],
   "source": [
    "from sklearn.model_selection import train_test_split\n",
    "from mlxtend.feature_selection import SequentialFeatureSelector as SFS\n",
    "\n",
    "# Split the dataset into training and testing sets\n",
    "X_train, X_test, y_train, y_test = train_test_split(X, y, test_size=0.3, random_state=0)\n",
    "\n",
    "# Define the logistic regression model\n",
    "model = LogisticRegression()\n",
    "\n",
    "# Define the forward selection object\n",
    "sfs = SFS(model,\n",
    "          k_features=5,\n",
    "          forward=True,\n",
    "          floating=False,\n",
    "          scoring='accuracy',\n",
    "          cv=5)\n",
    "\n",
    "# Perform forward selection on the training set\n",
    "sfs.fit(X_train, y_train)"
   ]
  },
  {
   "cell_type": "markdown",
   "metadata": {},
   "source": [
    "Additionally, we need to evaluate the performance of the selected features on the testing set and visualize the model's performance with different feature subsets in a line chart.\n",
    "\n",
    "The chart will show the cross-validated accuracy as a function of the number of features, providing insights into the trade-off between model complexity and predictive performance.\n",
    "\n",
    "By analyzing the output and the chart, you can determine the optimal number of features to include in your model, ultimately improving its performance and reducing overfitting."
   ]
  },
  {
   "cell_type": "code",
   "execution_count": 11,
   "metadata": {},
   "outputs": [
    {
     "name": "stdout",
     "output_type": "stream",
     "text": [
      "Selected Features: ('HighBP', 'HighChol', 'BMI', 'GenHlth', 'Age')\n",
      "Accuracy: 0.7421591115245313\n"
     ]
    },
    {
     "data": {
      "image/png": "[encoded data removed]",
      "text/plain": [
       "<Figure size 640x480 with 1 Axes>"
      ]
     },
     "metadata": {},
     "output_type": "display_data"
    }
   ],
   "source": [
    "# Print the selected features\n",
    "print('Selected Features:', sfs.k_feature_names_)\n",
    "\n",
    "# Evaluate the performance of the selected features on the testing set\n",
    "accuracy = sfs.k_score_\n",
    "print('Accuracy:', accuracy)\n",
    "\n",
    "# Plot the performance of the model with different feature subsets\n",
    "sfs_df = pd.DataFrame.from_dict(sfs.get_metric_dict()).T\n",
    "sfs_df['avg_score'] = sfs_df['avg_score'].astype(float)\n",
    "fig, ax = plt.subplots()\n",
    "sfs_df.plot(kind='line', y='avg_score', ax=ax)\n",
    "ax.set_xlabel('Number of Features')\n",
    "ax.set_ylabel('Accuracy')\n",
    "ax.set_title('Forward Selection Performance')\n",
    "plt.show()"
   ]
  },
  {
   "cell_type": "markdown",
   "metadata": {},
   "source": [
    "> <a id='4.2'></a><font face = \"courier\" size = \"+2\" color = \"black\"> 4.2|Backward Selection</font>"
   ]
  },
  {
   "cell_type": "markdown",
   "metadata": {},
   "source": [
    "The opposite of forward selection is backward selection. You begin with the entire feature set and gradually eliminate features from it.\n",
    "\n",
    "At each phase, you measure the model's performance with the current feature set minus the feature to be deleted.\n",
    "\n",
    "The feature that causes the least amount of performance reduction gets eliminated from the set.\n",
    "\n",
    "The procedure is repeated until there is no substantial increase in performance or a preset number of features is reached."
   ]
  },
  {
   "cell_type": "markdown",
   "metadata": {},
   "source": [
    "> <a id='4.3'></a><font face = \"courier\" size = \"+2\" color = \"black\"> 4.3|Exhaustive Selection</font>"
   ]
  },
  {
   "cell_type": "markdown",
   "metadata": {},
   "source": [
    "Exhaustive feature selection compares the performance of all possible feature subsets and chooses the best-performing subset. \n",
    "\n",
    "This approach is computationally demanding, especially for large datasets, yet it ensures the best feature subset."
   ]
  },
  {
   "cell_type": "markdown",
   "metadata": {},
   "source": [
    "> <a id='4.4'></a><font face = \"courier\" size = \"+2\" color = \"black\"> 4.4|Recursive Elimination</font>"
   ]
  },
  {
   "cell_type": "markdown",
   "metadata": {},
   "source": [
    "Recursive feature elimination starts with the whole feature set and eliminates features repeatedly depending on their relevance as judged by the learning algorithm. \n",
    "\n",
    "The least important feature is removed at each step, and the model is retrained. The method is repeated until a predetermined number of features are achieved."
   ]
  },
  {
   "cell_type": "markdown",
   "metadata": {},
   "source": [
    "<div class=\"alert alert-block alert-info\">\n",
    "   <a id='5'></a><font face = \"courier\" size = \"+3\"> 5|Embedded-based Approach</font>\n",
    "</div>"
   ]
  },
  {
   "cell_type": "markdown",
   "metadata": {},
   "source": [
    "These methods perform feature selection as part of the model training process.\n",
    "For example, a decision tree inherently performs feature selection because it\n",
    "selects one feature on which to split the tree at each training step. Another exam‐\n",
    "ple is the $\\mathcal{l}^1$ regularizer, which can be added to the training objective of any linear model. \n",
    "The $\\mathcal{l}^1$ regularizer encourages models that use a few features as opposed\n",
    "to a lot of features, so it’s also known as a sparsity constraint on the model.\n",
    "\n",
    "Embedded methods incorporate feature selection as part of the model training\n",
    "process. They are not as powerful as wrapper methods, but they are nowhere\n",
    "near as expensive. Compared to filtering, embedded methods select features that\n",
    "are specific to the model. In this sense, embedded methods strike a balance\n",
    "between computational expense and quality of results."
   ]
  },
  {
   "cell_type": "markdown",
   "metadata": {},
   "source": [
    "> <a id='5.1'></a><font face = \"courier\" size = \"+2\" color = \"black\"> 5.1|Regularization</font>"
   ]
  },
  {
   "cell_type": "markdown",
   "metadata": {},
   "source": [
    "Regularization is a method that adds a penalty term to the loss function to prevent overfitting in machine learning models.\n",
    "\n",
    "Regularization methods, such as lasso (L1 regularization) and ridge (L2 regularization), can be used in conjunction with feature selection \n",
    "\n",
    "to decrease the coefficients of less significant features towards zero, thereby picking a subset of the most relevant features."
   ]
  },
  {
   "cell_type": "markdown",
   "metadata": {},
   "source": [
    "> <a id='5.2'></a><font face = \"courier\" size = \"+2\" color = \"black\"> 5.2|Random Forest Importance</font>"
   ]
  },
  {
   "cell_type": "markdown",
   "metadata": {},
   "source": [
    "<div class=\"alert alert-block alert-info\">\n",
    "   <a id='6'></a><font face = \"courier\" size = \"+3\"> 6|Feature Extraction</font>\n",
    "</div>"
   ]
  },
  {
   "cell_type": "markdown",
   "metadata": {},
   "source": [
    "<div class=\"alert alert-block alert-info\">\n",
    "   <a id='7'></a><font face = \"courier\" size = \"+3\"> 7|Conclusion</font>\n",
    "</div>"
   ]
  },
  {
   "cell_type": "markdown",
   "metadata": {},
   "source": [
    "<div class=\"alert alert-block alert-info\">\n",
    "   <a id='8'></a><font face = \"courier\" size = \"+3\"> 8|References</font>\n",
    "</div>"
   ]
  },
  {
   "cell_type": "markdown",
   "metadata": {},
   "source": [
    "https://hpi.de/fileadmin/user_upload/fachgebiete/boettinger/documents/Kurse_WS_1920/Data_Management_for_Digital_Health/200116_Data_Preprocessing.pdf\n",
    "\n",
    "https://ift6758.github.io/lectures/feature_engineering.pdf\n",
    "\n",
    "https://www.repath.in/gallery/feature_engineering_for_machine_learning.pdf\n",
    "\n",
    "https://upcommons.upc.edu/bitstream/handle/2117/97413/R02-62.pdf\n",
    "\n",
    "https://www.kdnuggets.com/2023/06/advanced-feature-selection-techniques-machine-learning-models.html\n",
    "\n",
    "https://ift6758.github.io/lectures/feature_selection.pdf\n",
    "\n",
    "https://www.cs.cmu.edu/~kdeng/thesis/feature.pdf\n",
    "\n",
    "file:///Users/kirtisoglu/Downloads/A_Comprehensive_Review_of_Feature_Selection_and_Fe.pdf\n",
    "\n",
    "https://scikit-learn.org/1.5/modules/feature_selection.html#univariate-feature-selection\n",
    "\n",
    "https://www.public.asu.edu/%7Ehuanliu/papers/pakdd00clu.pdf"
   ]
  },
  {
   "cell_type": "markdown",
   "metadata": {},
   "source": [
    "<div class=\"alert alert-block alert-info\">\n",
    "   <a id='9'></a><font face = \"courier\" size = \"+3\"> 9|Author Message</font>\n",
    "</div>"
   ]
  },
  {
   "cell_type": "markdown",
   "metadata": {},
   "source": [
    "Author : <b>Alaittin Kirtisoglu</b>\n",
    "\n",
    "\n",
    "👉Read more project : \n",
    "\n",
    "👉Shoot me emails : akirtisoglu@hawk.iit.edu\n",
    "\n",
    "👉Connect on LinkedIn : https://www.linkedin.com/in/alaittin-kirtisoglu/\n",
    "\n",
    "👉Explore Github : https://github.com/kirtisoglu\n",
    "\n",
    "If you have any questions, feel free to comment!\n",
    "\n",
    "\n",
    "✨Best Wishes✨"
   ]
  },
  {
   "cell_type": "markdown",
   "metadata": {},
   "source": []
  }
 ],
 "metadata": {
  "kernelspec": {
   "display_name": "Python 3",
   "language": "python",
   "name": "python3"
  },
  "language_info": {
   "codemirror_mode": {
    "name": "ipython",
    "version": 3
   },
   "file_extension": ".py",
   "mimetype": "text/x-python",
   "name": "python",
   "nbconvert_exporter": "python",
   "pygments_lexer": "ipython3",
   "version": "3.12.2"
  }
 },
 "nbformat": 4,
 "nbformat_minor": 2
}
