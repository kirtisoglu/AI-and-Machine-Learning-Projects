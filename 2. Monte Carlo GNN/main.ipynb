{
 "cells": [
  {
   "cell_type": "markdown",
   "metadata": {},
   "source": [
    "<body>\n",
    "    <div class=\"alert alert-block alert-success\">\n",
    "    <font face = \"courier\" size = \"+4\"> <b>Message-Passing Monte Carlo</b></font>\n",
    "    <p><font face = \"courier\" size = \"+1\">\n",
    "        Creator: Alaittin Kirtisoglu\n",
    "        </font>\n",
    "    </p>\n",
    "    <p><font face = \"courier\" size = \"+1\">\n",
    "        Date: Nov 18, 2024\n",
    "        </font>\n",
    "    </p>\n",
    "    <p></p>\n",
    "    <hr />\n",
    "    <a id = '0'></a><font face = \"courier\" size = \"+2\">Table of Contents</font>\n",
    "    <ol>\n",
    "      <li><a href=\"#1\">Introduction</a></li>\n",
    "      <ul>\n",
    "        <li><a href=\"#1.1\">Problem Statement</a></li>\n",
    "        <li><a href=\"#1.2\">Data Description</a></li>\n",
    "      </ul>\n",
    "      <li><a href=\"#2\">Basic Exploration</a></li>\n",
    "      <ul>\n",
    "        <li><a href=\"#2.1\">Importing Libaries</a></li>\n",
    "        <li><a href=\"#2.2\">Datasets</a></li>\n",
    "      </ul>\n",
    "      <li><a href=\"#3\">Data Preprocessing</a></li>\n",
    "      <li><a href=\"#4\">Machine Learning Models</a></li>\n",
    "      <ul>\n",
    "        <li><a href=\"#4.1\">Logistic Regression</a></li>\n",
    "        <li><a href=\"#4.2\">K-nearest Neighbors</a></li>\n",
    "        <li><a href=\"#4.3\">Gaussian Model</a></li>\n",
    "        <li><a href=\"#4.4\">Decision Tree</a></li>\n",
    "        <li><a href=\"#4.5\">Random Forest</a></li>\n",
    "        <li><a href=\"#4.6\">XGBoost</a></li>\n",
    "        <li><a href=\"#4.7\">Neural Network</a></li>\n",
    "        <li><a href=\"#4.8\">Support Vector Classifier</a></li>\n",
    "        <li><a href=\"#4.9\">AdaBoost</a></li>\n",
    "        <li><a href=\"#4.10\">Gradient Boosting</a></li>\n",
    "      </ul>\n",
    "      <li><a href=\"#5\">Conclusion</a></li>\n",
    "      <li><a href=\"#6\">Author Message</a></li>\n",
    "    </ol>\n",
    "    <a id = '0'></a><font face = \"courier\" size = \"+2\">Referances</font>\n",
    "    <p> T. K. Rusch, N. Kirk, M. M. Bronstein, C. Lemieux, and D. Rus, Message-passing monte carlo: Generating low-discrepancy point sets via graph neural networks,” Proceedings of the National Academy of Sciences, vol. 121, no. 40, p. e2409913121, 2024.</p>\n",
    "    </div>\n",
    "</body>"
   ]
  },
  {
   "cell_type": "markdown",
   "metadata": {},
   "source": [
    "# <a id='toc1_'></a>[Introduction](#toc0_)"
   ]
  },
  {
   "cell_type": "markdown",
   "metadata": {},
   "source": [
    "## <a id='toc1_1_'></a>[Problem Statement](#toc0_)"
   ]
  },
  {
   "cell_type": "markdown",
   "metadata": {},
   "source": [
    "### Questions\n",
    "\n",
    "1."
   ]
  },
  {
   "cell_type": "markdown",
   "metadata": {},
   "source": [
    "## <a id='toc1_2_'></a>[Data Description](#toc0_)"
   ]
  },
  {
   "cell_type": "markdown",
   "metadata": {},
   "source": [
    "# <a id='toc2_'></a>[Basic Exploration](#toc0_)"
   ]
  },
  {
   "cell_type": "markdown",
   "metadata": {},
   "source": [
    "## <a id='toc2_1_'></a>[Importing Libaries](#toc0_)"
   ]
  },
  {
   "cell_type": "code",
   "execution_count": 3,
   "metadata": {},
   "outputs": [],
   "source": [
    "import pandas as pd"
   ]
  },
  {
   "cell_type": "markdown",
   "metadata": {},
   "source": [
    "## <a id='toc2_2_'></a>[Datasets](#toc0_)"
   ]
  },
  {
   "cell_type": "markdown",
   "metadata": {},
   "source": [
    "# <a id='toc3_'></a>[Data Preprocessing](#toc0_)"
   ]
  },
  {
   "cell_type": "markdown",
   "metadata": {},
   "source": [
    "# <a id='toc5_'></a>[Conclusion](#toc0_)"
   ]
  },
  {
   "cell_type": "markdown",
   "metadata": {},
   "source": [
    "# <a id='toc6_'></a>[Author Message](#toc0_)"
   ]
  },
  {
   "cell_type": "markdown",
   "metadata": {},
   "source": [
    "Author : Alaittin Kirtisoglu\n",
    "\n",
    "\n",
    "Some information:\n",
    "\n",
    "👉Read more project : \n",
    "\n",
    "👉Shoot me emails : akirtisoglu@hawk.iit.edu\n",
    "\n",
    "👉Connect on LinkedIn : https://www.linkedin.com/in/alaittin-kirtisoglu/\n",
    "\n",
    "👉Explore Github : https://github.com/kirtisoglu\n",
    "\n",
    "\n",
    "If you have any questions, feel free to comment!\n",
    "\n",
    "\n",
    "✨Best Wishes✨"
   ]
  }
 ],
 "metadata": {
  "kernelspec": {
   "display_name": "Python 3",
   "language": "python",
   "name": "python3"
  },
  "language_info": {
   "codemirror_mode": {
    "name": "ipython",
    "version": 3
   },
   "file_extension": ".py",
   "mimetype": "text/x-python",
   "name": "python",
   "nbconvert_exporter": "python",
   "pygments_lexer": "ipython3",
   "version": "3.12.2"
  }
 },
 "nbformat": 4,
 "nbformat_minor": 2
}
